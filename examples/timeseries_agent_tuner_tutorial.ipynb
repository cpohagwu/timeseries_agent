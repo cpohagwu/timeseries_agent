{
 "cells": [
  {
   "cell_type": "markdown",
   "metadata": {},
   "source": [
    "# TimeSeries RL Agent Tuning Tutorial\n",
    "\n",
    "Welcome to the RLTimeSeriesAgent tuning tutorial! This notebook demonstrates how to use the ModelTuner to find the optimal hyperparameters for your TimeSeries RL Agent. The tuner allows you to explore different configurations and automatically train multiple models with varying parameters to find the best performing combination.\n",
    "\n",
    "This tutorial is divided into three main parts:\n",
    "\n",
    "1. Setting Up and Configuring the Tuner\n",
    "2. Running the Hyperparameter Search\n",
    "3. Training the Final Model with Best Parameters\n",
    "\n",
    "Let's get started!"
   ]
  },
  {
   "cell_type": "markdown",
   "metadata": {},
   "source": [
    "## Installation\n",
    "\n",
    "First, let's install the required packages:"
   ]
  },
  {
   "cell_type": "code",
   "execution_count": null,
   "metadata": {},
   "outputs": [],
   "source": [
    "!pip install timeseries-agent --quiet\n",
    "!pip install lightning torch --quiet"
   ]
  },
  {
   "cell_type": "markdown",
   "metadata": {},
   "source": [
    "## Part 1: Setting Up and Configuring the Tuner\n",
    "\n",
    "### 1.1 Import Libraries\n",
    "\n",
    "Let's start by importing all necessary libraries:"
   ]
  },
  {
   "cell_type": "code",
   "execution_count": 3,
   "metadata": {},
   "outputs": [
    {
     "name": "stderr",
     "output_type": "stream",
     "text": [
      "Seed set to 42\n"
     ]
    }
   ],
   "source": [
    "import pandas as pd\n",
    "import numpy as np\n",
    "import matplotlib.pyplot as plt\n",
    "import os, sys\n",
    "import torch\n",
    "from torch.utils.data import DataLoader\n",
    "import lightning as L\n",
    "from lightning.pytorch import seed_everything\n",
    "\n",
    "seed_everything(42, workers=True)  # sets seeds for numpy, torch and python.random\n",
    "\n",
    "from timeseries_agent import RLTimeSeriesDataset, PolicyGradientAgent\n",
    "from timeseries_agent.tuning.tuner import ModelTuner"
   ]
  },
  {
   "cell_type": "markdown",
   "metadata": {},
   "source": [
    "### 1.2 Create Sample Data\n",
    "\n",
    "We'll create a sample dataset with different patterns to test our models:"
   ]
  },
  {
   "cell_type": "code",
   "execution_count": 4,
   "metadata": {},
   "outputs": [
    {
     "name": "stdout",
     "output_type": "stream",
     "text": [
      "Sample DataFrame Head:\n",
      "   value  feature2\n",
      "0    1.0  1.000000\n",
      "1    2.0  0.986174\n",
      "2    2.0  2.064769\n",
      "3    1.0  2.152303\n",
      "4    2.0  0.976585\n",
      "\n",
      "DataFrame Shape: (210, 2)\n"
     ]
    }
   ],
   "source": [
    "# Create patterns\n",
    "data1 = np.array([1, 2, 2] * 5)\n",
    "data2 = np.array([1, 0, 0] * 5)\n",
    "data3 = np.array([0, -2, -2, 0] * 5)\n",
    "data4 = np.array([np.sin(x) for x in np.linspace(0, 8 * np.pi, 20)])\n",
    "\n",
    "# Concatenate the data\n",
    "value_col = np.concatenate([data1, data2, data3, data4] * 3)\n",
    "\n",
    "# Create second feature\n",
    "feature2_col = np.roll(value_col, 1) + np.random.randn(len(value_col)) * 0.1\n",
    "feature2_col[0] = value_col[0]\n",
    "\n",
    "# Create DataFrame\n",
    "data_df = pd.DataFrame({'value': value_col, 'feature2': feature2_col})\n",
    "\n",
    "print(\"Sample DataFrame Head:\")\n",
    "print(data_df.head())\n",
    "print(f\"\\nDataFrame Shape: {data_df.shape}\")"
   ]
  },
  {
   "cell_type": "markdown",
   "metadata": {},
   "source": [
    "### 1.3 Define Hyperparameter Search Space\n",
    "\n",
    "Define the ranges of hyperparameters we want to explore:"
   ]
  },
  {
   "cell_type": "code",
   "execution_count": 5,
   "metadata": {},
   "outputs": [
    {
     "name": "stdout",
     "output_type": "stream",
     "text": [
      "\n",
      "Hyperparameter Search Space:\n",
      "learning_rate: [0.001, 0.0005]\n",
      "lookback: [5, 7]\n",
      "hidden_layers: [[100, 100, 10], [200, 100, 50]]\n",
      "epsilon_start: [1.0, 0.9]\n",
      "epsilon_end: [0.01, 0.05]\n",
      "epsilon_decay_epochs: [5, 10]\n",
      "\n",
      "Base Parameters:\n",
      "normalize_state: True\n",
      "eval_noise_factor: 0.1\n"
     ]
    }
   ],
   "source": [
    "# Hyperparameter ranges to test\n",
    "param_ranges = {\n",
    "    'learning_rate': [0.001, 0.0005],           # Different learning rates\n",
    "    'lookback': [5, 7],                         # Different lookback periods\n",
    "    'hidden_layers': [\n",
    "        [100, 100, 10],                         # Original architecture\n",
    "        [200, 100, 50],                         # Wider architecture\n",
    "    ],\n",
    "    'epsilon_start': [1.0, 0.9],               # Different exploration start rates\n",
    "    'epsilon_end': [0.01, 0.05],               # Different exploration end rates\n",
    "    'epsilon_decay_epochs': [5, 10],           # Different decay periods\n",
    "}\n",
    "\n",
    "# Base parameters that will be the same for all models\n",
    "base_params = {\n",
    "    'normalize_state': True,         # Normalize input states\n",
    "    'eval_noise_factor': 0.1,       # Add noise during evaluation\n",
    "}\n",
    "\n",
    "print(\"\\nHyperparameter Search Space:\")\n",
    "for param, values in param_ranges.items():\n",
    "    print(f\"{param}: {values}\")\n",
    "\n",
    "print(\"\\nBase Parameters:\")\n",
    "for param, value in base_params.items():\n",
    "    print(f\"{param}: {value}\")"
   ]
  },
  {
   "cell_type": "markdown",
   "metadata": {},
   "source": [
    "## Part 2: Running the Hyperparameter Search\n",
    "\n",
    "### 2.1 Initialize and Run the Tuner\n",
    "\n",
    "Create the ModelTuner and start the hyperparameter search:"
   ]
  },
  {
   "cell_type": "code",
   "execution_count": 6,
   "metadata": {},
   "outputs": [
    {
     "name": "stderr",
     "output_type": "stream",
     "text": [
      "You are using the plain ModelCheckpoint callback. Consider using LitModelCheckpoint which with seamless uploading to Model registry.\n",
      "GPU available: False, used: False\n",
      "TPU available: False, using: 0 TPU cores\n",
      "HPU available: False, using: 0 HPUs\n",
      "c:\\Users\\Collins P. Ohagwu\\anaconda3\\envs\\tests\\Lib\\site-packages\\lightning\\pytorch\\trainer\\configuration_validator.py:70: You defined a `validation_step` but have no `val_dataloader`. Skipping val loop.\n",
      "\n",
      "  | Name          | Type       | Params | Mode \n",
      "-----------------------------------------------------\n",
      "0 | activation_fn | Tanh       | 0      | train\n",
      "1 | network       | Sequential | 12.2 K | train\n",
      "-----------------------------------------------------\n",
      "12.2 K    Trainable params\n",
      "0         Non-trainable params\n",
      "12.2 K    Total params\n",
      "0.049     Total estimated model params size (MB)\n",
      "6         Modules in train mode\n",
      "0         Modules in eval mode\n",
      "c:\\Users\\Collins P. Ohagwu\\anaconda3\\envs\\tests\\Lib\\site-packages\\lightning\\pytorch\\trainer\\connectors\\data_connector.py:425: The 'train_dataloader' does not have many workers which may be a bottleneck. Consider increasing the value of the `num_workers` argument` to `num_workers=15` in the `DataLoader` to improve performance.\n",
      "c:\\Users\\Collins P. Ohagwu\\anaconda3\\envs\\tests\\Lib\\site-packages\\lightning\\pytorch\\loops\\fit_loop.py:310: The number of training batches (1) is smaller than the logging interval Trainer(log_every_n_steps=50). Set a lower value for log_every_n_steps if you want to see logs for the training epoch.\n"
     ]
    },
    {
     "name": "stdout",
     "output_type": "stream",
     "text": [
      "\n",
      "Starting hyperparameter search...\n",
      "\n",
      "Training model 1/64\n",
      "Parameters: {'learning_rate': 0.001, 'lookback': 5, 'hidden_layers': [100, 100, 10], 'epsilon_start': 1.0, 'epsilon_end': 0.01, 'epsilon_decay_epochs': 5}\n",
      "Epoch 9: 100%|██████████| 1/1 [00:00<00:00,  1.69it/s, v_num=0, train_reward=0.529, train_loss=-0.118, epsilon=0.010]  "
     ]
    },
    {
     "name": "stderr",
     "output_type": "stream",
     "text": [
      "`Trainer.fit` stopped: `max_epochs=10` reached.\n"
     ]
    },
    {
     "name": "stdout",
     "output_type": "stream",
     "text": [
      "Epoch 9: 100%|██████████| 1/1 [00:00<00:00,  1.65it/s, v_num=0, train_reward=0.529, train_loss=-0.118, epsilon=0.010]"
     ]
    },
    {
     "name": "stderr",
     "output_type": "stream",
     "text": [
      "c:\\Users\\Collins P. Ohagwu\\anaconda3\\envs\\tests\\Lib\\site-packages\\lightning\\pytorch\\trainer\\connectors\\data_connector.py:425: The 'val_dataloader' does not have many workers which may be a bottleneck. Consider increasing the value of the `num_workers` argument` to `num_workers=15` in the `DataLoader` to improve performance.\n"
     ]
    },
    {
     "name": "stdout",
     "output_type": "stream",
     "text": [
      "\n",
      "Validation DataLoader 0: 100%|██████████| 1/1 [00:00<00:00, 10.45it/s]"
     ]
    },
    {
     "name": "stderr",
     "output_type": "stream",
     "text": [
      "You are using the plain ModelCheckpoint callback. Consider using LitModelCheckpoint which with seamless uploading to Model registry.\n"
     ]
    },
    {
     "name": "stdout",
     "output_type": "stream",
     "text": [
      "\n",
      "────────────────────────────────────────────────────────────────────────────────────────────────────────────────────────\n",
      "     Validate metric           DataLoader 0\n",
      "────────────────────────────────────────────────────────────────────────────────────────────────────────────────────────\n",
      "    eval_noise_factor       0.10000000149011612\n",
      "     val_avg_reward         0.4215686321258545\n",
      "   val_pass_percentage       71.07843017578125\n",
      "────────────────────────────────────────────────────────────────────────────────────────────────────────────────────────\n",
      "\n",
      "Training model 2/64\n",
      "Parameters: {'learning_rate': 0.001, 'lookback': 5, 'hidden_layers': [100, 100, 10], 'epsilon_start': 1.0, 'epsilon_end': 0.01, 'epsilon_decay_epochs': 10}\n"
     ]
    },
    {
     "name": "stderr",
     "output_type": "stream",
     "text": [
      "GPU available: False, used: False\n",
      "TPU available: False, using: 0 TPU cores\n",
      "HPU available: False, using: 0 HPUs\n",
      "\n",
      "  | Name          | Type       | Params | Mode \n",
      "-----------------------------------------------------\n",
      "0 | activation_fn | Tanh       | 0      | train\n",
      "1 | network       | Sequential | 12.2 K | train\n",
      "-----------------------------------------------------\n",
      "12.2 K    Trainable params\n",
      "0         Non-trainable params\n",
      "12.2 K    Total params\n",
      "0.049     Total estimated model params size (MB)\n",
      "6         Modules in train mode\n",
      "0         Modules in eval mode\n"
     ]
    },
    {
     "name": "stdout",
     "output_type": "stream",
     "text": [
      "Epoch 9: 100%|██████████| 1/1 [00:00<00:00,  1.50it/s, v_num=0, train_reward=0.725, train_loss=0.0141, epsilon=0.0158]  "
     ]
    },
    {
     "name": "stderr",
     "output_type": "stream",
     "text": [
      "`Trainer.fit` stopped: `max_epochs=10` reached.\n"
     ]
    },
    {
     "name": "stdout",
     "output_type": "stream",
     "text": [
      "Epoch 9: 100%|██████████| 1/1 [00:00<00:00,  1.47it/s, v_num=0, train_reward=0.725, train_loss=0.0141, epsilon=0.0158]\n",
      "Validation DataLoader 0: 100%|██████████| 1/1 [00:00<00:00, 11.34it/s]"
     ]
    },
    {
     "name": "stderr",
     "output_type": "stream",
     "text": [
      "You are using the plain ModelCheckpoint callback. Consider using LitModelCheckpoint which with seamless uploading to Model registry.\n",
      "GPU available: False, used: False\n",
      "TPU available: False, using: 0 TPU cores\n",
      "HPU available: False, using: 0 HPUs\n"
     ]
    },
    {
     "name": "stdout",
     "output_type": "stream",
     "text": [
      "\n",
      "────────────────────────────────────────────────────────────────────────────────────────────────────────────────────────\n",
      "     Validate metric           DataLoader 0\n",
      "────────────────────────────────────────────────────────────────────────────────────────────────────────────────────────\n",
      "    eval_noise_factor       0.10000000149011612\n",
      "     val_avg_reward         0.30392158031463623\n",
      "   val_pass_percentage       65.19607543945312\n",
      "────────────────────────────────────────────────────────────────────────────────────────────────────────────────────────\n",
      "\n",
      "Training model 3/64\n",
      "Parameters: {'learning_rate': 0.001, 'lookback': 5, 'hidden_layers': [100, 100, 10], 'epsilon_start': 1.0, 'epsilon_end': 0.05, 'epsilon_decay_epochs': 5}\n"
     ]
    },
    {
     "name": "stderr",
     "output_type": "stream",
     "text": [
      "\n",
      "  | Name          | Type       | Params | Mode \n",
      "-----------------------------------------------------\n",
      "0 | activation_fn | Tanh       | 0      | train\n",
      "1 | network       | Sequential | 12.2 K | train\n",
      "-----------------------------------------------------\n",
      "12.2 K    Trainable params\n",
      "0         Non-trainable params\n",
      "12.2 K    Total params\n",
      "0.049     Total estimated model params size (MB)\n",
      "6         Modules in train mode\n",
      "0         Modules in eval mode\n"
     ]
    },
    {
     "name": "stdout",
     "output_type": "stream",
     "text": [
      "Epoch 9: 100%|██████████| 1/1 [00:00<00:00,  1.37it/s, v_num=0, train_reward=0.676, train_loss=-0.122, epsilon=0.050] "
     ]
    },
    {
     "name": "stderr",
     "output_type": "stream",
     "text": [
      "`Trainer.fit` stopped: `max_epochs=10` reached.\n"
     ]
    },
    {
     "name": "stdout",
     "output_type": "stream",
     "text": [
      "Epoch 9: 100%|██████████| 1/1 [00:00<00:00,  1.34it/s, v_num=0, train_reward=0.676, train_loss=-0.122, epsilon=0.050]\n",
      "Validation DataLoader 0: 100%|██████████| 1/1 [00:00<00:00,  8.92it/s]"
     ]
    },
    {
     "name": "stderr",
     "output_type": "stream",
     "text": [
      "You are using the plain ModelCheckpoint callback. Consider using LitModelCheckpoint which with seamless uploading to Model registry.\n"
     ]
    },
    {
     "name": "stdout",
     "output_type": "stream",
     "text": [
      "\n",
      "────────────────────────────────────────────────────────────────────────────────────────────────────────────────────────\n",
      "     Validate metric           DataLoader 0\n",
      "────────────────────────────────────────────────────────────────────────────────────────────────────────────────────────\n",
      "    eval_noise_factor       0.10000000149011612\n",
      "     val_avg_reward         0.3235294222831726\n",
      "   val_pass_percentage       66.17646789550781\n",
      "────────────────────────────────────────────────────────────────────────────────────────────────────────────────────────\n",
      "\n",
      "Training model 4/64\n",
      "Parameters: {'learning_rate': 0.001, 'lookback': 5, 'hidden_layers': [100, 100, 10], 'epsilon_start': 1.0, 'epsilon_end': 0.05, 'epsilon_decay_epochs': 10}\n"
     ]
    },
    {
     "name": "stderr",
     "output_type": "stream",
     "text": [
      "GPU available: False, used: False\n",
      "TPU available: False, using: 0 TPU cores\n",
      "HPU available: False, using: 0 HPUs\n",
      "\n",
      "  | Name          | Type       | Params | Mode \n",
      "-----------------------------------------------------\n",
      "0 | activation_fn | Tanh       | 0      | train\n",
      "1 | network       | Sequential | 12.2 K | train\n",
      "-----------------------------------------------------\n",
      "12.2 K    Trainable params\n",
      "0         Non-trainable params\n",
      "12.2 K    Total params\n",
      "0.049     Total estimated model params size (MB)\n",
      "6         Modules in train mode\n",
      "0         Modules in eval mode\n"
     ]
    },
    {
     "name": "stdout",
     "output_type": "stream",
     "text": [
      "Epoch 9: 100%|██████████| 1/1 [00:00<00:00,  1.42it/s, v_num=0, train_reward=0.686, train_loss=-0.165, epsilon=0.0675]"
     ]
    },
    {
     "name": "stderr",
     "output_type": "stream",
     "text": [
      "`Trainer.fit` stopped: `max_epochs=10` reached.\n"
     ]
    },
    {
     "name": "stdout",
     "output_type": "stream",
     "text": [
      "Epoch 9: 100%|██████████| 1/1 [00:00<00:00,  1.37it/s, v_num=0, train_reward=0.686, train_loss=-0.165, epsilon=0.0675]\n",
      "Validation DataLoader 0: 100%|██████████| 1/1 [00:00<00:00,  7.54it/s]\n",
      "────────────────────────────────────────────────────────────────────────────────────────────────────────────────────────\n",
      "     Validate metric           DataLoader 0\n",
      "────────────────────────────────────────────────────────────────────────────────────────────────────────────────────────\n",
      "    eval_noise_factor       0.10000000149011612\n",
      "     val_avg_reward         0.3333333432674408\n",
      "   val_pass_percentage       66.66666412353516\n",
      "────────────────────────────────────────────────────────────────────────────────────────────────────────────────────────\n",
      "\n",
      "Training model 5/64\n",
      "Parameters: {'learning_rate': 0.001, 'lookback': 5, 'hidden_layers': [100, 100, 10], 'epsilon_start': 0.9, 'epsilon_end': 0.01, 'epsilon_decay_epochs': 5}\n"
     ]
    },
    {
     "name": "stderr",
     "output_type": "stream",
     "text": [
      "You are using the plain ModelCheckpoint callback. Consider using LitModelCheckpoint which with seamless uploading to Model registry.\n",
      "GPU available: False, used: False\n",
      "TPU available: False, using: 0 TPU cores\n",
      "HPU available: False, using: 0 HPUs\n",
      "\n",
      "  | Name          | Type       | Params | Mode \n",
      "-----------------------------------------------------\n",
      "0 | activation_fn | Tanh       | 0      | train\n",
      "1 | network       | Sequential | 12.2 K | train\n",
      "-----------------------------------------------------\n",
      "12.2 K    Trainable params\n",
      "0         Non-trainable params\n",
      "12.2 K    Total params\n",
      "0.049     Total estimated model params size (MB)\n",
      "6         Modules in train mode\n",
      "0         Modules in eval mode\n"
     ]
    },
    {
     "name": "stdout",
     "output_type": "stream",
     "text": [
      "Epoch 9: 100%|██████████| 1/1 [00:00<00:00,  1.39it/s, v_num=0, train_reward=0.520, train_loss=-0.152, epsilon=0.010]  "
     ]
    },
    {
     "name": "stderr",
     "output_type": "stream",
     "text": [
      "`Trainer.fit` stopped: `max_epochs=10` reached.\n"
     ]
    },
    {
     "name": "stdout",
     "output_type": "stream",
     "text": [
      "Epoch 9: 100%|██████████| 1/1 [00:00<00:00,  1.36it/s, v_num=0, train_reward=0.520, train_loss=-0.152, epsilon=0.010]\n",
      "Validation DataLoader 0: 100%|██████████| 1/1 [00:00<00:00, 10.69it/s]"
     ]
    },
    {
     "name": "stderr",
     "output_type": "stream",
     "text": [
      "You are using the plain ModelCheckpoint callback. Consider using LitModelCheckpoint which with seamless uploading to Model registry.\n"
     ]
    },
    {
     "name": "stdout",
     "output_type": "stream",
     "text": [
      "\n",
      "────────────────────────────────────────────────────────────────────────────────────────────────────────────────────────\n",
      "     Validate metric           DataLoader 0\n",
      "────────────────────────────────────────────────────────────────────────────────────────────────────────────────────────\n",
      "    eval_noise_factor       0.10000000149011612\n",
      "     val_avg_reward         0.4019607901573181\n",
      "   val_pass_percentage       70.09803771972656\n",
      "────────────────────────────────────────────────────────────────────────────────────────────────────────────────────────\n",
      "\n",
      "Training model 6/64\n",
      "Parameters: {'learning_rate': 0.001, 'lookback': 5, 'hidden_layers': [100, 100, 10], 'epsilon_start': 0.9, 'epsilon_end': 0.01, 'epsilon_decay_epochs': 10}\n"
     ]
    },
    {
     "name": "stderr",
     "output_type": "stream",
     "text": [
      "GPU available: False, used: False\n",
      "TPU available: False, using: 0 TPU cores\n",
      "HPU available: False, using: 0 HPUs\n",
      "\n",
      "  | Name          | Type       | Params | Mode \n",
      "-----------------------------------------------------\n",
      "0 | activation_fn | Tanh       | 0      | train\n",
      "1 | network       | Sequential | 12.2 K | train\n",
      "-----------------------------------------------------\n",
      "12.2 K    Trainable params\n",
      "0         Non-trainable params\n",
      "12.2 K    Total params\n",
      "0.049     Total estimated model params size (MB)\n",
      "6         Modules in train mode\n",
      "0         Modules in eval mode\n"
     ]
    },
    {
     "name": "stdout",
     "output_type": "stream",
     "text": [
      "Epoch 9: 100%|██████████| 1/1 [00:00<00:00,  1.47it/s, v_num=0, train_reward=0.471, train_loss=-0.224, epsilon=0.0157]"
     ]
    },
    {
     "name": "stderr",
     "output_type": "stream",
     "text": [
      "`Trainer.fit` stopped: `max_epochs=10` reached.\n"
     ]
    },
    {
     "name": "stdout",
     "output_type": "stream",
     "text": [
      "Epoch 9: 100%|██████████| 1/1 [00:00<00:00,  1.44it/s, v_num=0, train_reward=0.471, train_loss=-0.224, epsilon=0.0157]\n",
      "Validation DataLoader 0: 100%|██████████| 1/1 [00:00<00:00, 11.36it/s]"
     ]
    },
    {
     "name": "stderr",
     "output_type": "stream",
     "text": [
      "You are using the plain ModelCheckpoint callback. Consider using LitModelCheckpoint which with seamless uploading to Model registry.\n",
      "GPU available: False, used: False\n"
     ]
    },
    {
     "name": "stdout",
     "output_type": "stream",
     "text": [
      "\n",
      "────────────────────────────────────────────────────────────────────────────────────────────────────────────────────────\n",
      "     Validate metric           DataLoader 0\n",
      "────────────────────────────────────────────────────────────────────────────────────────────────────────────────────────\n",
      "    eval_noise_factor       0.10000000149011612\n",
      "     val_avg_reward         0.36274510622024536\n",
      "   val_pass_percentage       68.13725280761719\n",
      "────────────────────────────────────────────────────────────────────────────────────────────────────────────────────────\n",
      "\n",
      "Training model 7/64\n",
      "Parameters: {'learning_rate': 0.001, 'lookback': 5, 'hidden_layers': [100, 100, 10], 'epsilon_start': 0.9, 'epsilon_end': 0.05, 'epsilon_decay_epochs': 5}\n"
     ]
    },
    {
     "name": "stderr",
     "output_type": "stream",
     "text": [
      "TPU available: False, using: 0 TPU cores\n",
      "HPU available: False, using: 0 HPUs\n",
      "\n",
      "  | Name          | Type       | Params | Mode \n",
      "-----------------------------------------------------\n",
      "0 | activation_fn | Tanh       | 0      | train\n",
      "1 | network       | Sequential | 12.2 K | train\n",
      "-----------------------------------------------------\n",
      "12.2 K    Trainable params\n",
      "0         Non-trainable params\n",
      "12.2 K    Total params\n",
      "0.049     Total estimated model params size (MB)\n",
      "6         Modules in train mode\n",
      "0         Modules in eval mode\n"
     ]
    },
    {
     "name": "stdout",
     "output_type": "stream",
     "text": [
      "Epoch 9: 100%|██████████| 1/1 [00:00<00:00,  1.54it/s, v_num=0, train_reward=0.422, train_loss=-0.294, epsilon=0.050] "
     ]
    },
    {
     "name": "stderr",
     "output_type": "stream",
     "text": [
      "`Trainer.fit` stopped: `max_epochs=10` reached.\n"
     ]
    },
    {
     "name": "stdout",
     "output_type": "stream",
     "text": [
      "Epoch 9: 100%|██████████| 1/1 [00:00<00:00,  1.51it/s, v_num=0, train_reward=0.422, train_loss=-0.294, epsilon=0.050]\n",
      "Validation DataLoader 0: 100%|██████████| 1/1 [00:00<00:00, 11.58it/s]"
     ]
    },
    {
     "name": "stderr",
     "output_type": "stream",
     "text": [
      "You are using the plain ModelCheckpoint callback. Consider using LitModelCheckpoint which with seamless uploading to Model registry.\n",
      "GPU available: False, used: False\n",
      "TPU available: False, using: 0 TPU cores\n",
      "HPU available: False, using: 0 HPUs\n",
      "\n",
      "  | Name          | Type       | Params | Mode \n",
      "-----------------------------------------------------\n",
      "0 | activation_fn | Tanh       | 0      | train\n",
      "1 | network       | Sequential | 12.2 K | train\n",
      "-----------------------------------------------------\n",
      "12.2 K    Trainable params\n",
      "0         Non-trainable params\n",
      "12.2 K    Total params\n",
      "0.049     Total estimated model params size (MB)\n",
      "6         Modules in train mode\n",
      "0         Modules in eval mode\n"
     ]
    },
    {
     "name": "stdout",
     "output_type": "stream",
     "text": [
      "\n",
      "────────────────────────────────────────────────────────────────────────────────────────────────────────────────────────\n",
      "     Validate metric           DataLoader 0\n",
      "────────────────────────────────────────────────────────────────────────────────────────────────────────────────────────\n",
      "    eval_noise_factor       0.10000000149011612\n",
      "     val_avg_reward         0.4117647111415863\n",
      "   val_pass_percentage       70.5882339477539\n",
      "────────────────────────────────────────────────────────────────────────────────────────────────────────────────────────\n",
      "\n",
      "Training model 8/64\n",
      "Parameters: {'learning_rate': 0.001, 'lookback': 5, 'hidden_layers': [100, 100, 10], 'epsilon_start': 0.9, 'epsilon_end': 0.05, 'epsilon_decay_epochs': 10}\n",
      "Epoch 9: 100%|██████████| 1/1 [00:00<00:00,  1.67it/s, v_num=0, train_reward=0.480, train_loss=-0.301, epsilon=0.0668]"
     ]
    },
    {
     "name": "stderr",
     "output_type": "stream",
     "text": [
      "`Trainer.fit` stopped: `max_epochs=10` reached.\n"
     ]
    },
    {
     "name": "stdout",
     "output_type": "stream",
     "text": [
      "Epoch 9: 100%|██████████| 1/1 [00:00<00:00,  1.63it/s, v_num=0, train_reward=0.480, train_loss=-0.301, epsilon=0.0668]\n",
      "Validation DataLoader 0: 100%|██████████| 1/1 [00:00<00:00,  8.71it/s]"
     ]
    },
    {
     "name": "stderr",
     "output_type": "stream",
     "text": [
      "You are using the plain ModelCheckpoint callback. Consider using LitModelCheckpoint which with seamless uploading to Model registry.\n"
     ]
    },
    {
     "name": "stdout",
     "output_type": "stream",
     "text": [
      "\n",
      "────────────────────────────────────────────────────────────────────────────────────────────────────────────────────────\n",
      "     Validate metric           DataLoader 0\n",
      "────────────────────────────────────────────────────────────────────────────────────────────────────────────────────────\n",
      "    eval_noise_factor       0.10000000149011612\n",
      "     val_avg_reward         0.3921568691730499\n",
      "   val_pass_percentage       69.60784149169922\n",
      "────────────────────────────────────────────────────────────────────────────────────────────────────────────────────────\n",
      "\n",
      "Training model 9/64\n",
      "Parameters: {'learning_rate': 0.001, 'lookback': 5, 'hidden_layers': [200, 100, 50], 'epsilon_start': 1.0, 'epsilon_end': 0.01, 'epsilon_decay_epochs': 5}\n"
     ]
    },
    {
     "name": "stderr",
     "output_type": "stream",
     "text": [
      "GPU available: False, used: False\n",
      "TPU available: False, using: 0 TPU cores\n",
      "HPU available: False, using: 0 HPUs\n",
      "\n",
      "  | Name          | Type       | Params | Mode \n",
      "-----------------------------------------------------\n",
      "0 | activation_fn | Tanh       | 0      | train\n",
      "1 | network       | Sequential | 27.5 K | train\n",
      "-----------------------------------------------------\n",
      "27.5 K    Trainable params\n",
      "0         Non-trainable params\n",
      "27.5 K    Total params\n",
      "0.110     Total estimated model params size (MB)\n",
      "6         Modules in train mode\n",
      "0         Modules in eval mode\n"
     ]
    },
    {
     "name": "stdout",
     "output_type": "stream",
     "text": [
      "Epoch 9: 100%|██████████| 1/1 [00:00<00:00,  1.60it/s, v_num=0, train_reward=0.225, train_loss=-0.0577, epsilon=0.010]"
     ]
    },
    {
     "name": "stderr",
     "output_type": "stream",
     "text": [
      "`Trainer.fit` stopped: `max_epochs=10` reached.\n"
     ]
    },
    {
     "name": "stdout",
     "output_type": "stream",
     "text": [
      "Epoch 9: 100%|██████████| 1/1 [00:00<00:00,  1.57it/s, v_num=0, train_reward=0.225, train_loss=-0.0577, epsilon=0.010]\n",
      "Validation DataLoader 0: 100%|██████████| 1/1 [00:00<00:00, 11.33it/s]"
     ]
    },
    {
     "name": "stderr",
     "output_type": "stream",
     "text": [
      "You are using the plain ModelCheckpoint callback. Consider using LitModelCheckpoint which with seamless uploading to Model registry.\n",
      "GPU available: False, used: False\n"
     ]
    },
    {
     "name": "stdout",
     "output_type": "stream",
     "text": [
      "\n",
      "────────────────────────────────────────────────────────────────────────────────────────────────────────────────────────\n",
      "     Validate metric           DataLoader 0\n",
      "────────────────────────────────────────────────────────────────────────────────────────────────────────────────────────\n",
      "    eval_noise_factor       0.10000000149011612\n",
      "     val_avg_reward         0.5686274766921997\n",
      "   val_pass_percentage       78.4313735961914\n",
      "────────────────────────────────────────────────────────────────────────────────────────────────────────────────────────\n",
      "\n",
      "Training model 10/64\n",
      "Parameters: {'learning_rate': 0.001, 'lookback': 5, 'hidden_layers': [200, 100, 50], 'epsilon_start': 1.0, 'epsilon_end': 0.01, 'epsilon_decay_epochs': 10}\n"
     ]
    },
    {
     "name": "stderr",
     "output_type": "stream",
     "text": [
      "TPU available: False, using: 0 TPU cores\n",
      "HPU available: False, using: 0 HPUs\n",
      "\n",
      "  | Name          | Type       | Params | Mode \n",
      "-----------------------------------------------------\n",
      "0 | activation_fn | Tanh       | 0      | train\n",
      "1 | network       | Sequential | 27.5 K | train\n",
      "-----------------------------------------------------\n",
      "27.5 K    Trainable params\n",
      "0         Non-trainable params\n",
      "27.5 K    Total params\n",
      "0.110     Total estimated model params size (MB)\n",
      "6         Modules in train mode\n",
      "0         Modules in eval mode\n"
     ]
    },
    {
     "name": "stdout",
     "output_type": "stream",
     "text": [
      "Epoch 9: 100%|██████████| 1/1 [00:00<00:00,  1.61it/s, v_num=0, train_reward=0.431, train_loss=-0.0812, epsilon=0.0158]"
     ]
    },
    {
     "name": "stderr",
     "output_type": "stream",
     "text": [
      "`Trainer.fit` stopped: `max_epochs=10` reached.\n"
     ]
    },
    {
     "name": "stdout",
     "output_type": "stream",
     "text": [
      "Epoch 9: 100%|██████████| 1/1 [00:00<00:00,  1.58it/s, v_num=0, train_reward=0.431, train_loss=-0.0812, epsilon=0.0158]\n",
      "Validation DataLoader 0: 100%|██████████| 1/1 [00:00<00:00, 11.00it/s]"
     ]
    },
    {
     "name": "stderr",
     "output_type": "stream",
     "text": [
      "You are using the plain ModelCheckpoint callback. Consider using LitModelCheckpoint which with seamless uploading to Model registry.\n",
      "GPU available: False, used: False\n",
      "TPU available: False, using: 0 TPU cores\n",
      "HPU available: False, using: 0 HPUs\n",
      "\n",
      "  | Name          | Type       | Params | Mode \n",
      "-----------------------------------------------------\n",
      "0 | activation_fn | Tanh       | 0      | train\n",
      "1 | network       | Sequential | 27.5 K | train\n",
      "-----------------------------------------------------\n",
      "27.5 K    Trainable params\n",
      "0         Non-trainable params\n",
      "27.5 K    Total params\n",
      "0.110     Total estimated model params size (MB)\n",
      "6         Modules in train mode\n",
      "0         Modules in eval mode\n"
     ]
    },
    {
     "name": "stdout",
     "output_type": "stream",
     "text": [
      "\n",
      "────────────────────────────────────────────────────────────────────────────────────────────────────────────────────────\n",
      "     Validate metric           DataLoader 0\n",
      "────────────────────────────────────────────────────────────────────────────────────────────────────────────────────────\n",
      "    eval_noise_factor       0.10000000149011612\n",
      "     val_avg_reward         0.3921568691730499\n",
      "   val_pass_percentage       69.60784149169922\n",
      "────────────────────────────────────────────────────────────────────────────────────────────────────────────────────────\n",
      "\n",
      "Training model 11/64\n",
      "Parameters: {'learning_rate': 0.001, 'lookback': 5, 'hidden_layers': [200, 100, 50], 'epsilon_start': 1.0, 'epsilon_end': 0.05, 'epsilon_decay_epochs': 5}\n",
      "Epoch 9: 100%|██████████| 1/1 [00:00<00:00,  1.46it/s, v_num=0, train_reward=0.431, train_loss=-0.45, epsilon=0.050] "
     ]
    },
    {
     "name": "stderr",
     "output_type": "stream",
     "text": [
      "`Trainer.fit` stopped: `max_epochs=10` reached.\n"
     ]
    },
    {
     "name": "stdout",
     "output_type": "stream",
     "text": [
      "Epoch 9: 100%|██████████| 1/1 [00:00<00:00,  1.44it/s, v_num=0, train_reward=0.431, train_loss=-0.45, epsilon=0.050]\n",
      "Validation DataLoader 0: 100%|██████████| 1/1 [00:00<00:00, 10.58it/s]"
     ]
    },
    {
     "name": "stderr",
     "output_type": "stream",
     "text": [
      "You are using the plain ModelCheckpoint callback. Consider using LitModelCheckpoint which with seamless uploading to Model registry.\n",
      "GPU available: False, used: False\n"
     ]
    },
    {
     "name": "stdout",
     "output_type": "stream",
     "text": [
      "\n",
      "────────────────────────────────────────────────────────────────────────────────────────────────────────────────────────\n",
      "     Validate metric           DataLoader 0\n",
      "────────────────────────────────────────────────────────────────────────────────────────────────────────────────────────\n",
      "    eval_noise_factor       0.10000000149011612\n",
      "     val_avg_reward         0.44117647409439087\n",
      "   val_pass_percentage       72.05882263183594\n",
      "────────────────────────────────────────────────────────────────────────────────────────────────────────────────────────\n",
      "\n",
      "Training model 12/64\n",
      "Parameters: {'learning_rate': 0.001, 'lookback': 5, 'hidden_layers': [200, 100, 50], 'epsilon_start': 1.0, 'epsilon_end': 0.05, 'epsilon_decay_epochs': 10}\n"
     ]
    },
    {
     "name": "stderr",
     "output_type": "stream",
     "text": [
      "TPU available: False, using: 0 TPU cores\n",
      "HPU available: False, using: 0 HPUs\n",
      "\n",
      "  | Name          | Type       | Params | Mode \n",
      "-----------------------------------------------------\n",
      "0 | activation_fn | Tanh       | 0      | train\n",
      "1 | network       | Sequential | 27.5 K | train\n",
      "-----------------------------------------------------\n",
      "27.5 K    Trainable params\n",
      "0         Non-trainable params\n",
      "27.5 K    Total params\n",
      "0.110     Total estimated model params size (MB)\n",
      "6         Modules in train mode\n",
      "0         Modules in eval mode\n"
     ]
    },
    {
     "name": "stdout",
     "output_type": "stream",
     "text": [
      "Epoch 9: 100%|██████████| 1/1 [00:00<00:00,  1.42it/s, v_num=0, train_reward=0.373, train_loss=-0.448, epsilon=0.0675]"
     ]
    },
    {
     "name": "stderr",
     "output_type": "stream",
     "text": [
      "`Trainer.fit` stopped: `max_epochs=10` reached.\n"
     ]
    },
    {
     "name": "stdout",
     "output_type": "stream",
     "text": [
      "Epoch 9: 100%|██████████| 1/1 [00:00<00:00,  1.40it/s, v_num=0, train_reward=0.373, train_loss=-0.448, epsilon=0.0675]\n",
      "Validation DataLoader 0: 100%|██████████| 1/1 [00:00<00:00, 11.10it/s]"
     ]
    },
    {
     "name": "stderr",
     "output_type": "stream",
     "text": [
      "You are using the plain ModelCheckpoint callback. Consider using LitModelCheckpoint which with seamless uploading to Model registry.\n"
     ]
    },
    {
     "name": "stdout",
     "output_type": "stream",
     "text": [
      "\n",
      "────────────────────────────────────────────────────────────────────────────────────────────────────────────────────────\n",
      "     Validate metric           DataLoader 0\n",
      "────────────────────────────────────────────────────────────────────────────────────────────────────────────────────────\n",
      "    eval_noise_factor       0.10000000149011612\n",
      "     val_avg_reward         0.4215686321258545\n",
      "   val_pass_percentage       71.07843017578125\n",
      "────────────────────────────────────────────────────────────────────────────────────────────────────────────────────────\n",
      "\n",
      "Training model 13/64\n",
      "Parameters: {'learning_rate': 0.001, 'lookback': 5, 'hidden_layers': [200, 100, 50], 'epsilon_start': 0.9, 'epsilon_end': 0.01, 'epsilon_decay_epochs': 5}\n"
     ]
    },
    {
     "name": "stderr",
     "output_type": "stream",
     "text": [
      "GPU available: False, used: False\n",
      "TPU available: False, using: 0 TPU cores\n",
      "HPU available: False, using: 0 HPUs\n",
      "\n",
      "  | Name          | Type       | Params | Mode \n",
      "-----------------------------------------------------\n",
      "0 | activation_fn | Tanh       | 0      | train\n",
      "1 | network       | Sequential | 27.5 K | train\n",
      "-----------------------------------------------------\n",
      "27.5 K    Trainable params\n",
      "0         Non-trainable params\n",
      "27.5 K    Total params\n",
      "0.110     Total estimated model params size (MB)\n",
      "6         Modules in train mode\n",
      "0         Modules in eval mode\n"
     ]
    },
    {
     "name": "stdout",
     "output_type": "stream",
     "text": [
      "Epoch 9: 100%|██████████| 1/1 [00:00<00:00,  1.33it/s, v_num=0, train_reward=0.500, train_loss=-0.0784, epsilon=0.010]"
     ]
    },
    {
     "name": "stderr",
     "output_type": "stream",
     "text": [
      "`Trainer.fit` stopped: `max_epochs=10` reached.\n"
     ]
    },
    {
     "name": "stdout",
     "output_type": "stream",
     "text": [
      "Epoch 9: 100%|██████████| 1/1 [00:00<00:00,  1.31it/s, v_num=0, train_reward=0.500, train_loss=-0.0784, epsilon=0.010]\n",
      "Validation DataLoader 0: 100%|██████████| 1/1 [00:00<00:00, 11.04it/s]"
     ]
    },
    {
     "name": "stderr",
     "output_type": "stream",
     "text": [
      "You are using the plain ModelCheckpoint callback. Consider using LitModelCheckpoint which with seamless uploading to Model registry.\n",
      "GPU available: False, used: False\n",
      "TPU available: False, using: 0 TPU cores\n",
      "HPU available: False, using: 0 HPUs\n"
     ]
    },
    {
     "name": "stdout",
     "output_type": "stream",
     "text": [
      "\n",
      "────────────────────────────────────────────────────────────────────────────────────────────────────────────────────────\n",
      "     Validate metric           DataLoader 0\n",
      "────────────────────────────────────────────────────────────────────────────────────────────────────────────────────────\n",
      "    eval_noise_factor       0.10000000149011612\n",
      "     val_avg_reward         0.4215686321258545\n",
      "   val_pass_percentage       71.07843017578125\n",
      "────────────────────────────────────────────────────────────────────────────────────────────────────────────────────────\n",
      "\n",
      "Training model 14/64\n",
      "Parameters: {'learning_rate': 0.001, 'lookback': 5, 'hidden_layers': [200, 100, 50], 'epsilon_start': 0.9, 'epsilon_end': 0.01, 'epsilon_decay_epochs': 10}\n"
     ]
    },
    {
     "name": "stderr",
     "output_type": "stream",
     "text": [
      "\n",
      "  | Name          | Type       | Params | Mode \n",
      "-----------------------------------------------------\n",
      "0 | activation_fn | Tanh       | 0      | train\n",
      "1 | network       | Sequential | 27.5 K | train\n",
      "-----------------------------------------------------\n",
      "27.5 K    Trainable params\n",
      "0         Non-trainable params\n",
      "27.5 K    Total params\n",
      "0.110     Total estimated model params size (MB)\n",
      "6         Modules in train mode\n",
      "0         Modules in eval mode\n"
     ]
    },
    {
     "name": "stdout",
     "output_type": "stream",
     "text": [
      "Epoch 9: 100%|██████████| 1/1 [00:00<00:00,  1.54it/s, v_num=0, train_reward=0.412, train_loss=-0.146, epsilon=0.0157] "
     ]
    },
    {
     "name": "stderr",
     "output_type": "stream",
     "text": [
      "`Trainer.fit` stopped: `max_epochs=10` reached.\n"
     ]
    },
    {
     "name": "stdout",
     "output_type": "stream",
     "text": [
      "Epoch 9: 100%|██████████| 1/1 [00:00<00:00,  1.50it/s, v_num=0, train_reward=0.412, train_loss=-0.146, epsilon=0.0157]\n",
      "Validation DataLoader 0: 100%|██████████| 1/1 [00:00<00:00, 10.08it/s]"
     ]
    },
    {
     "name": "stderr",
     "output_type": "stream",
     "text": [
      "You are using the plain ModelCheckpoint callback. Consider using LitModelCheckpoint which with seamless uploading to Model registry.\n"
     ]
    },
    {
     "name": "stdout",
     "output_type": "stream",
     "text": [
      "\n",
      "────────────────────────────────────────────────────────────────────────────────────────────────────────────────────────\n",
      "     Validate metric           DataLoader 0\n",
      "────────────────────────────────────────────────────────────────────────────────────────────────────────────────────────\n",
      "    eval_noise_factor       0.10000000149011612\n",
      "     val_avg_reward         0.38235294818878174\n",
      "   val_pass_percentage       69.11764526367188\n",
      "────────────────────────────────────────────────────────────────────────────────────────────────────────────────────────\n",
      "\n",
      "Training model 15/64\n",
      "Parameters: {'learning_rate': 0.001, 'lookback': 5, 'hidden_layers': [200, 100, 50], 'epsilon_start': 0.9, 'epsilon_end': 0.05, 'epsilon_decay_epochs': 5}\n"
     ]
    },
    {
     "name": "stderr",
     "output_type": "stream",
     "text": [
      "GPU available: False, used: False\n",
      "TPU available: False, using: 0 TPU cores\n",
      "HPU available: False, using: 0 HPUs\n",
      "\n",
      "  | Name          | Type       | Params | Mode \n",
      "-----------------------------------------------------\n",
      "0 | activation_fn | Tanh       | 0      | train\n",
      "1 | network       | Sequential | 27.5 K | train\n",
      "-----------------------------------------------------\n",
      "27.5 K    Trainable params\n",
      "0         Non-trainable params\n",
      "27.5 K    Total params\n",
      "0.110     Total estimated model params size (MB)\n",
      "6         Modules in train mode\n",
      "0         Modules in eval mode\n"
     ]
    },
    {
     "name": "stdout",
     "output_type": "stream",
     "text": [
      "Epoch 9: 100%|██████████| 1/1 [00:00<00:00,  1.47it/s, v_num=0, train_reward=0.441, train_loss=-0.401, epsilon=0.050] "
     ]
    },
    {
     "name": "stderr",
     "output_type": "stream",
     "text": [
      "`Trainer.fit` stopped: `max_epochs=10` reached.\n"
     ]
    },
    {
     "name": "stdout",
     "output_type": "stream",
     "text": [
      "Epoch 9: 100%|██████████| 1/1 [00:00<00:00,  1.45it/s, v_num=0, train_reward=0.441, train_loss=-0.401, epsilon=0.050]\n",
      "Validation DataLoader 0: 100%|██████████| 1/1 [00:00<00:00, 11.13it/s]"
     ]
    },
    {
     "name": "stderr",
     "output_type": "stream",
     "text": [
      "You are using the plain ModelCheckpoint callback. Consider using LitModelCheckpoint which with seamless uploading to Model registry.\n",
      "GPU available: False, used: False\n",
      "TPU available: False, using: 0 TPU cores\n",
      "HPU available: False, using: 0 HPUs\n",
      "\n",
      "  | Name          | Type       | Params | Mode \n",
      "-----------------------------------------------------\n",
      "0 | activation_fn | Tanh       | 0      | train\n",
      "1 | network       | Sequential | 27.5 K | train\n",
      "-----------------------------------------------------\n",
      "27.5 K    Trainable params\n",
      "0         Non-trainable params\n",
      "27.5 K    Total params\n",
      "0.110     Total estimated model params size (MB)\n",
      "6         Modules in train mode\n",
      "0         Modules in eval mode\n"
     ]
    },
    {
     "name": "stdout",
     "output_type": "stream",
     "text": [
      "\n",
      "────────────────────────────────────────────────────────────────────────────────────────────────────────────────────────\n",
      "     Validate metric           DataLoader 0\n",
      "────────────────────────────────────────────────────────────────────────────────────────────────────────────────────────\n",
      "    eval_noise_factor       0.10000000149011612\n",
      "     val_avg_reward         0.4215686321258545\n",
      "   val_pass_percentage       71.07843017578125\n",
      "────────────────────────────────────────────────────────────────────────────────────────────────────────────────────────\n",
      "\n",
      "Training model 16/64\n",
      "Parameters: {'learning_rate': 0.001, 'lookback': 5, 'hidden_layers': [200, 100, 50], 'epsilon_start': 0.9, 'epsilon_end': 0.05, 'epsilon_decay_epochs': 10}\n",
      "Epoch 9: 100%|██████████| 1/1 [00:00<00:00,  1.62it/s, v_num=0, train_reward=0.245, train_loss=-0.795, epsilon=0.0668]"
     ]
    },
    {
     "name": "stderr",
     "output_type": "stream",
     "text": [
      "`Trainer.fit` stopped: `max_epochs=10` reached.\n"
     ]
    },
    {
     "name": "stdout",
     "output_type": "stream",
     "text": [
      "Epoch 9: 100%|██████████| 1/1 [00:00<00:00,  1.58it/s, v_num=0, train_reward=0.245, train_loss=-0.795, epsilon=0.0668]\n",
      "Validation DataLoader 0: 100%|██████████| 1/1 [00:00<00:00, 11.01it/s]"
     ]
    },
    {
     "name": "stderr",
     "output_type": "stream",
     "text": [
      "You are using the plain ModelCheckpoint callback. Consider using LitModelCheckpoint which with seamless uploading to Model registry.\n"
     ]
    },
    {
     "name": "stdout",
     "output_type": "stream",
     "text": [
      "\n",
      "────────────────────────────────────────────────────────────────────────────────────────────────────────────────────────\n",
      "     Validate metric           DataLoader 0\n",
      "────────────────────────────────────────────────────────────────────────────────────────────────────────────────────────\n",
      "    eval_noise_factor       0.10000000149011612\n",
      "     val_avg_reward         0.38235294818878174\n",
      "   val_pass_percentage       69.11764526367188\n",
      "────────────────────────────────────────────────────────────────────────────────────────────────────────────────────────\n",
      "\n",
      "Training model 17/64\n",
      "Parameters: {'learning_rate': 0.001, 'lookback': 7, 'hidden_layers': [100, 100, 10], 'epsilon_start': 1.0, 'epsilon_end': 0.01, 'epsilon_decay_epochs': 5}\n"
     ]
    },
    {
     "name": "stderr",
     "output_type": "stream",
     "text": [
      "GPU available: False, used: False\n",
      "TPU available: False, using: 0 TPU cores\n",
      "HPU available: False, using: 0 HPUs\n",
      "\n",
      "  | Name          | Type       | Params | Mode \n",
      "-----------------------------------------------------\n",
      "0 | activation_fn | Tanh       | 0      | train\n",
      "1 | network       | Sequential | 12.6 K | train\n",
      "-----------------------------------------------------\n",
      "12.6 K    Trainable params\n",
      "0         Non-trainable params\n",
      "12.6 K    Total params\n",
      "0.051     Total estimated model params size (MB)\n",
      "6         Modules in train mode\n",
      "0         Modules in eval mode\n"
     ]
    },
    {
     "name": "stdout",
     "output_type": "stream",
     "text": [
      "Epoch 9: 100%|██████████| 1/1 [00:00<00:00,  1.57it/s, v_num=0, train_reward=0.733, train_loss=0.00944, epsilon=0.010] "
     ]
    },
    {
     "name": "stderr",
     "output_type": "stream",
     "text": [
      "`Trainer.fit` stopped: `max_epochs=10` reached.\n"
     ]
    },
    {
     "name": "stdout",
     "output_type": "stream",
     "text": [
      "Epoch 9: 100%|██████████| 1/1 [00:00<00:00,  1.53it/s, v_num=0, train_reward=0.733, train_loss=0.00944, epsilon=0.010]\n",
      "Validation DataLoader 0: 100%|██████████| 1/1 [00:00<00:00, 11.40it/s]"
     ]
    },
    {
     "name": "stderr",
     "output_type": "stream",
     "text": [
      "You are using the plain ModelCheckpoint callback. Consider using LitModelCheckpoint which with seamless uploading to Model registry.\n",
      "GPU available: False, used: False\n",
      "TPU available: False, using: 0 TPU cores\n",
      "HPU available: False, using: 0 HPUs\n",
      "\n",
      "  | Name          | Type       | Params | Mode \n",
      "-----------------------------------------------------\n",
      "0 | activation_fn | Tanh       | 0      | train\n",
      "1 | network       | Sequential | 12.6 K | train\n",
      "-----------------------------------------------------\n",
      "12.6 K    Trainable params\n",
      "0         Non-trainable params\n",
      "12.6 K    Total params\n",
      "0.051     Total estimated model params size (MB)\n",
      "6         Modules in train mode\n",
      "0         Modules in eval mode\n"
     ]
    },
    {
     "name": "stdout",
     "output_type": "stream",
     "text": [
      "\n",
      "────────────────────────────────────────────────────────────────────────────────────────────────────────────────────────\n",
      "     Validate metric           DataLoader 0\n",
      "────────────────────────────────────────────────────────────────────────────────────────────────────────────────────────\n",
      "    eval_noise_factor       0.10000000894069672\n",
      "     val_avg_reward         0.2871287167072296\n",
      "   val_pass_percentage       64.35643768310547\n",
      "────────────────────────────────────────────────────────────────────────────────────────────────────────────────────────\n",
      "\n",
      "Training model 18/64\n",
      "Parameters: {'learning_rate': 0.001, 'lookback': 7, 'hidden_layers': [100, 100, 10], 'epsilon_start': 1.0, 'epsilon_end': 0.01, 'epsilon_decay_epochs': 10}\n",
      "Epoch 9: 100%|██████████| 1/1 [00:00<00:00,  1.65it/s, v_num=0, train_reward=0.505, train_loss=-0.131, epsilon=0.0158] "
     ]
    },
    {
     "name": "stderr",
     "output_type": "stream",
     "text": [
      "`Trainer.fit` stopped: `max_epochs=10` reached.\n"
     ]
    },
    {
     "name": "stdout",
     "output_type": "stream",
     "text": [
      "Epoch 9: 100%|██████████| 1/1 [00:00<00:00,  1.62it/s, v_num=0, train_reward=0.505, train_loss=-0.131, epsilon=0.0158]\n",
      "Validation DataLoader 0: 100%|██████████| 1/1 [00:00<00:00, 11.60it/s]"
     ]
    },
    {
     "name": "stderr",
     "output_type": "stream",
     "text": [
      "You are using the plain ModelCheckpoint callback. Consider using LitModelCheckpoint which with seamless uploading to Model registry.\n",
      "GPU available: False, used: False\n",
      "TPU available: False, using: 0 TPU cores\n",
      "HPU available: False, using: 0 HPUs\n",
      "\n",
      "  | Name          | Type       | Params | Mode \n",
      "-----------------------------------------------------\n",
      "0 | activation_fn | Tanh       | 0      | train\n",
      "1 | network       | Sequential | 12.6 K | train\n",
      "-----------------------------------------------------\n",
      "12.6 K    Trainable params\n",
      "0         Non-trainable params\n",
      "12.6 K    Total params\n",
      "0.051     Total estimated model params size (MB)\n",
      "6         Modules in train mode\n",
      "0         Modules in eval mode\n"
     ]
    },
    {
     "name": "stdout",
     "output_type": "stream",
     "text": [
      "\n",
      "────────────────────────────────────────────────────────────────────────────────────────────────────────────────────────\n",
      "     Validate metric           DataLoader 0\n",
      "────────────────────────────────────────────────────────────────────────────────────────────────────────────────────────\n",
      "    eval_noise_factor       0.10000000894069672\n",
      "     val_avg_reward         0.49504950642585754\n",
      "   val_pass_percentage       74.75247192382812\n",
      "────────────────────────────────────────────────────────────────────────────────────────────────────────────────────────\n",
      "\n",
      "Training model 19/64\n",
      "Parameters: {'learning_rate': 0.001, 'lookback': 7, 'hidden_layers': [100, 100, 10], 'epsilon_start': 1.0, 'epsilon_end': 0.05, 'epsilon_decay_epochs': 5}\n",
      "Epoch 9: 100%|██████████| 1/1 [00:00<00:00,  1.55it/s, v_num=0, train_reward=0.475, train_loss=-0.182, epsilon=0.050] "
     ]
    },
    {
     "name": "stderr",
     "output_type": "stream",
     "text": [
      "`Trainer.fit` stopped: `max_epochs=10` reached.\n"
     ]
    },
    {
     "name": "stdout",
     "output_type": "stream",
     "text": [
      "Epoch 9: 100%|██████████| 1/1 [00:00<00:00,  1.52it/s, v_num=0, train_reward=0.475, train_loss=-0.182, epsilon=0.050]\n",
      "Validation DataLoader 0: 100%|██████████| 1/1 [00:00<00:00, 11.12it/s]"
     ]
    },
    {
     "name": "stderr",
     "output_type": "stream",
     "text": [
      "You are using the plain ModelCheckpoint callback. Consider using LitModelCheckpoint which with seamless uploading to Model registry.\n",
      "GPU available: False, used: False\n",
      "TPU available: False, using: 0 TPU cores\n",
      "HPU available: False, using: 0 HPUs\n"
     ]
    },
    {
     "name": "stdout",
     "output_type": "stream",
     "text": [
      "\n",
      "────────────────────────────────────────────────────────────────────────────────────────────────────────────────────────\n",
      "     Validate metric           DataLoader 0\n",
      "────────────────────────────────────────────────────────────────────────────────────────────────────────────────────────\n",
      "    eval_noise_factor       0.10000000894069672\n",
      "     val_avg_reward         0.41584157943725586\n",
      "   val_pass_percentage       70.79207611083984\n",
      "────────────────────────────────────────────────────────────────────────────────────────────────────────────────────────\n",
      "\n",
      "Training model 20/64\n",
      "Parameters: {'learning_rate': 0.001, 'lookback': 7, 'hidden_layers': [100, 100, 10], 'epsilon_start': 1.0, 'epsilon_end': 0.05, 'epsilon_decay_epochs': 10}\n"
     ]
    },
    {
     "name": "stderr",
     "output_type": "stream",
     "text": [
      "\n",
      "  | Name          | Type       | Params | Mode \n",
      "-----------------------------------------------------\n",
      "0 | activation_fn | Tanh       | 0      | train\n",
      "1 | network       | Sequential | 12.6 K | train\n",
      "-----------------------------------------------------\n",
      "12.6 K    Trainable params\n",
      "0         Non-trainable params\n",
      "12.6 K    Total params\n",
      "0.051     Total estimated model params size (MB)\n",
      "6         Modules in train mode\n",
      "0         Modules in eval mode\n"
     ]
    },
    {
     "name": "stdout",
     "output_type": "stream",
     "text": [
      "Epoch 9: 100%|██████████| 1/1 [00:00<00:00,  1.57it/s, v_num=0, train_reward=0.475, train_loss=-0.149, epsilon=0.0675]"
     ]
    },
    {
     "name": "stderr",
     "output_type": "stream",
     "text": [
      "`Trainer.fit` stopped: `max_epochs=10` reached.\n"
     ]
    },
    {
     "name": "stdout",
     "output_type": "stream",
     "text": [
      "Epoch 9: 100%|██████████| 1/1 [00:00<00:00,  1.54it/s, v_num=0, train_reward=0.475, train_loss=-0.149, epsilon=0.0675]\n",
      "Validation DataLoader 0: 100%|██████████| 1/1 [00:00<00:00, 11.49it/s]"
     ]
    },
    {
     "name": "stderr",
     "output_type": "stream",
     "text": [
      "You are using the plain ModelCheckpoint callback. Consider using LitModelCheckpoint which with seamless uploading to Model registry.\n",
      "GPU available: False, used: False\n",
      "TPU available: False, using: 0 TPU cores\n",
      "HPU available: False, using: 0 HPUs\n",
      "\n",
      "  | Name          | Type       | Params | Mode \n",
      "-----------------------------------------------------\n",
      "0 | activation_fn | Tanh       | 0      | train\n",
      "1 | network       | Sequential | 12.6 K | train\n",
      "-----------------------------------------------------\n",
      "12.6 K    Trainable params\n",
      "0         Non-trainable params\n",
      "12.6 K    Total params\n",
      "0.051     Total estimated model params size (MB)\n",
      "6         Modules in train mode\n",
      "0         Modules in eval mode\n"
     ]
    },
    {
     "name": "stdout",
     "output_type": "stream",
     "text": [
      "\n",
      "────────────────────────────────────────────────────────────────────────────────────────────────────────────────────────\n",
      "     Validate metric           DataLoader 0\n",
      "────────────────────────────────────────────────────────────────────────────────────────────────────────────────────────\n",
      "    eval_noise_factor       0.10000000894069672\n",
      "     val_avg_reward         0.3564356565475464\n",
      "   val_pass_percentage       67.82178497314453\n",
      "────────────────────────────────────────────────────────────────────────────────────────────────────────────────────────\n",
      "\n",
      "Training model 21/64\n",
      "Parameters: {'learning_rate': 0.001, 'lookback': 7, 'hidden_layers': [100, 100, 10], 'epsilon_start': 0.9, 'epsilon_end': 0.01, 'epsilon_decay_epochs': 5}\n",
      "Epoch 9: 100%|██████████| 1/1 [00:00<00:00,  1.69it/s, v_num=0, train_reward=0.535, train_loss=-0.155, epsilon=0.010]  "
     ]
    },
    {
     "name": "stderr",
     "output_type": "stream",
     "text": [
      "`Trainer.fit` stopped: `max_epochs=10` reached.\n"
     ]
    },
    {
     "name": "stdout",
     "output_type": "stream",
     "text": [
      "Epoch 9: 100%|██████████| 1/1 [00:00<00:00,  1.66it/s, v_num=0, train_reward=0.535, train_loss=-0.155, epsilon=0.010]\n",
      "Validation DataLoader 0: 100%|██████████| 1/1 [00:00<00:00, 11.26it/s]"
     ]
    },
    {
     "name": "stderr",
     "output_type": "stream",
     "text": [
      "You are using the plain ModelCheckpoint callback. Consider using LitModelCheckpoint which with seamless uploading to Model registry.\n",
      "GPU available: False, used: False\n",
      "TPU available: False, using: 0 TPU cores\n",
      "HPU available: False, using: 0 HPUs\n",
      "\n",
      "  | Name          | Type       | Params | Mode \n",
      "-----------------------------------------------------\n",
      "0 | activation_fn | Tanh       | 0      | train\n",
      "1 | network       | Sequential | 12.6 K | train\n",
      "-----------------------------------------------------\n",
      "12.6 K    Trainable params\n",
      "0         Non-trainable params\n",
      "12.6 K    Total params\n",
      "0.051     Total estimated model params size (MB)\n",
      "6         Modules in train mode\n",
      "0         Modules in eval mode\n"
     ]
    },
    {
     "name": "stdout",
     "output_type": "stream",
     "text": [
      "\n",
      "────────────────────────────────────────────────────────────────────────────────────────────────────────────────────────\n",
      "     Validate metric           DataLoader 0\n",
      "────────────────────────────────────────────────────────────────────────────────────────────────────────────────────────\n",
      "    eval_noise_factor       0.10000000894069672\n",
      "     val_avg_reward         0.3564356565475464\n",
      "   val_pass_percentage       67.82178497314453\n",
      "────────────────────────────────────────────────────────────────────────────────────────────────────────────────────────\n",
      "\n",
      "Training model 22/64\n",
      "Parameters: {'learning_rate': 0.001, 'lookback': 7, 'hidden_layers': [100, 100, 10], 'epsilon_start': 0.9, 'epsilon_end': 0.01, 'epsilon_decay_epochs': 10}\n",
      "Epoch 9: 100%|██████████| 1/1 [00:00<00:00,  1.64it/s, v_num=0, train_reward=0.475, train_loss=-0.155, epsilon=0.0157] "
     ]
    },
    {
     "name": "stderr",
     "output_type": "stream",
     "text": [
      "`Trainer.fit` stopped: `max_epochs=10` reached.\n"
     ]
    },
    {
     "name": "stdout",
     "output_type": "stream",
     "text": [
      "Epoch 9: 100%|██████████| 1/1 [00:00<00:00,  1.61it/s, v_num=0, train_reward=0.475, train_loss=-0.155, epsilon=0.0157]\n",
      "Validation DataLoader 0: 100%|██████████| 1/1 [00:00<00:00, 11.75it/s]"
     ]
    },
    {
     "name": "stderr",
     "output_type": "stream",
     "text": [
      "You are using the plain ModelCheckpoint callback. Consider using LitModelCheckpoint which with seamless uploading to Model registry.\n",
      "GPU available: False, used: False\n",
      "TPU available: False, using: 0 TPU cores\n",
      "HPU available: False, using: 0 HPUs\n",
      "\n",
      "  | Name          | Type       | Params | Mode \n",
      "-----------------------------------------------------\n",
      "0 | activation_fn | Tanh       | 0      | train\n",
      "1 | network       | Sequential | 12.6 K | train\n",
      "-----------------------------------------------------\n",
      "12.6 K    Trainable params\n",
      "0         Non-trainable params\n",
      "12.6 K    Total params\n",
      "0.051     Total estimated model params size (MB)\n",
      "6         Modules in train mode\n",
      "0         Modules in eval mode\n"
     ]
    },
    {
     "name": "stdout",
     "output_type": "stream",
     "text": [
      "\n",
      "────────────────────────────────────────────────────────────────────────────────────────────────────────────────────────\n",
      "     Validate metric           DataLoader 0\n",
      "────────────────────────────────────────────────────────────────────────────────────────────────────────────────────────\n",
      "    eval_noise_factor       0.10000000894069672\n",
      "     val_avg_reward         0.4455445408821106\n",
      "   val_pass_percentage       72.27722930908203\n",
      "────────────────────────────────────────────────────────────────────────────────────────────────────────────────────────\n",
      "\n",
      "Training model 23/64\n",
      "Parameters: {'learning_rate': 0.001, 'lookback': 7, 'hidden_layers': [100, 100, 10], 'epsilon_start': 0.9, 'epsilon_end': 0.05, 'epsilon_decay_epochs': 5}\n",
      "Epoch 9: 100%|██████████| 1/1 [00:00<00:00,  1.66it/s, v_num=0, train_reward=0.525, train_loss=-0.203, epsilon=0.050] "
     ]
    },
    {
     "name": "stderr",
     "output_type": "stream",
     "text": [
      "`Trainer.fit` stopped: `max_epochs=10` reached.\n"
     ]
    },
    {
     "name": "stdout",
     "output_type": "stream",
     "text": [
      "Epoch 9: 100%|██████████| 1/1 [00:00<00:00,  1.63it/s, v_num=0, train_reward=0.525, train_loss=-0.203, epsilon=0.050]\n",
      "Validation DataLoader 0: 100%|██████████| 1/1 [00:00<00:00, 11.09it/s]"
     ]
    },
    {
     "name": "stderr",
     "output_type": "stream",
     "text": [
      "You are using the plain ModelCheckpoint callback. Consider using LitModelCheckpoint which with seamless uploading to Model registry.\n",
      "GPU available: False, used: False\n",
      "TPU available: False, using: 0 TPU cores\n",
      "HPU available: False, using: 0 HPUs\n",
      "\n",
      "  | Name          | Type       | Params | Mode \n",
      "-----------------------------------------------------\n",
      "0 | activation_fn | Tanh       | 0      | train\n",
      "1 | network       | Sequential | 12.6 K | train\n",
      "-----------------------------------------------------\n",
      "12.6 K    Trainable params\n",
      "0         Non-trainable params\n",
      "12.6 K    Total params\n",
      "0.051     Total estimated model params size (MB)\n",
      "6         Modules in train mode\n",
      "0         Modules in eval mode\n"
     ]
    },
    {
     "name": "stdout",
     "output_type": "stream",
     "text": [
      "\n",
      "────────────────────────────────────────────────────────────────────────────────────────────────────────────────────────\n",
      "     Validate metric           DataLoader 0\n",
      "────────────────────────────────────────────────────────────────────────────────────────────────────────────────────────\n",
      "    eval_noise_factor       0.10000000894069672\n",
      "     val_avg_reward         0.39603960514068604\n",
      "   val_pass_percentage       69.8019790649414\n",
      "────────────────────────────────────────────────────────────────────────────────────────────────────────────────────────\n",
      "\n",
      "Training model 24/64\n",
      "Parameters: {'learning_rate': 0.001, 'lookback': 7, 'hidden_layers': [100, 100, 10], 'epsilon_start': 0.9, 'epsilon_end': 0.05, 'epsilon_decay_epochs': 10}\n",
      "Epoch 9: 100%|██████████| 1/1 [00:00<00:00,  1.25it/s, v_num=0, train_reward=0.515, train_loss=-0.244, epsilon=0.0668] "
     ]
    },
    {
     "name": "stderr",
     "output_type": "stream",
     "text": [
      "`Trainer.fit` stopped: `max_epochs=10` reached.\n"
     ]
    },
    {
     "name": "stdout",
     "output_type": "stream",
     "text": [
      "Epoch 9: 100%|██████████| 1/1 [00:00<00:00,  1.23it/s, v_num=0, train_reward=0.515, train_loss=-0.244, epsilon=0.0668]\n",
      "Validation DataLoader 0: 100%|██████████| 1/1 [00:00<00:00, 10.60it/s]"
     ]
    },
    {
     "name": "stderr",
     "output_type": "stream",
     "text": [
      "You are using the plain ModelCheckpoint callback. Consider using LitModelCheckpoint which with seamless uploading to Model registry.\n"
     ]
    },
    {
     "name": "stdout",
     "output_type": "stream",
     "text": [
      "\n",
      "────────────────────────────────────────────────────────────────────────────────────────────────────────────────────────\n",
      "     Validate metric           DataLoader 0\n",
      "────────────────────────────────────────────────────────────────────────────────────────────────────────────────────────\n",
      "    eval_noise_factor       0.10000000894069672\n",
      "     val_avg_reward         0.3564356565475464\n",
      "   val_pass_percentage       67.82178497314453\n",
      "────────────────────────────────────────────────────────────────────────────────────────────────────────────────────────\n",
      "\n",
      "Training model 25/64\n",
      "Parameters: {'learning_rate': 0.001, 'lookback': 7, 'hidden_layers': [200, 100, 50], 'epsilon_start': 1.0, 'epsilon_end': 0.01, 'epsilon_decay_epochs': 5}\n"
     ]
    },
    {
     "name": "stderr",
     "output_type": "stream",
     "text": [
      "GPU available: False, used: False\n",
      "TPU available: False, using: 0 TPU cores\n",
      "HPU available: False, using: 0 HPUs\n",
      "\n",
      "  | Name          | Type       | Params | Mode \n",
      "-----------------------------------------------------\n",
      "0 | activation_fn | Tanh       | 0      | train\n",
      "1 | network       | Sequential | 28.3 K | train\n",
      "-----------------------------------------------------\n",
      "28.3 K    Trainable params\n",
      "0         Non-trainable params\n",
      "28.3 K    Total params\n",
      "0.113     Total estimated model params size (MB)\n",
      "6         Modules in train mode\n",
      "0         Modules in eval mode\n"
     ]
    },
    {
     "name": "stdout",
     "output_type": "stream",
     "text": [
      "Epoch 9: 100%|██████████| 1/1 [00:00<00:00,  1.60it/s, v_num=0, train_reward=0.485, train_loss=-0.219, epsilon=0.010] "
     ]
    },
    {
     "name": "stderr",
     "output_type": "stream",
     "text": [
      "`Trainer.fit` stopped: `max_epochs=10` reached.\n"
     ]
    },
    {
     "name": "stdout",
     "output_type": "stream",
     "text": [
      "Epoch 9: 100%|██████████| 1/1 [00:00<00:00,  1.57it/s, v_num=0, train_reward=0.485, train_loss=-0.219, epsilon=0.010]\n",
      "Validation DataLoader 0: 100%|██████████| 1/1 [00:00<00:00, 11.31it/s]"
     ]
    },
    {
     "name": "stderr",
     "output_type": "stream",
     "text": [
      "You are using the plain ModelCheckpoint callback. Consider using LitModelCheckpoint which with seamless uploading to Model registry.\n",
      "GPU available: False, used: False\n",
      "TPU available: False, using: 0 TPU cores\n",
      "HPU available: False, using: 0 HPUs\n"
     ]
    },
    {
     "name": "stdout",
     "output_type": "stream",
     "text": [
      "\n",
      "────────────────────────────────────────────────────────────────────────────────────────────────────────────────────────\n",
      "     Validate metric           DataLoader 0\n",
      "────────────────────────────────────────────────────────────────────────────────────────────────────────────────────────\n",
      "    eval_noise_factor       0.10000000894069672\n",
      "     val_avg_reward         0.42574256658554077\n",
      "   val_pass_percentage       71.2871322631836\n",
      "────────────────────────────────────────────────────────────────────────────────────────────────────────────────────────\n",
      "\n",
      "Training model 26/64\n",
      "Parameters: {'learning_rate': 0.001, 'lookback': 7, 'hidden_layers': [200, 100, 50], 'epsilon_start': 1.0, 'epsilon_end': 0.01, 'epsilon_decay_epochs': 10}\n"
     ]
    },
    {
     "name": "stderr",
     "output_type": "stream",
     "text": [
      "\n",
      "  | Name          | Type       | Params | Mode \n",
      "-----------------------------------------------------\n",
      "0 | activation_fn | Tanh       | 0      | train\n",
      "1 | network       | Sequential | 28.3 K | train\n",
      "-----------------------------------------------------\n",
      "28.3 K    Trainable params\n",
      "0         Non-trainable params\n",
      "28.3 K    Total params\n",
      "0.113     Total estimated model params size (MB)\n",
      "6         Modules in train mode\n",
      "0         Modules in eval mode\n"
     ]
    },
    {
     "name": "stdout",
     "output_type": "stream",
     "text": [
      "Epoch 9: 100%|██████████| 1/1 [00:00<00:00,  1.62it/s, v_num=0, train_reward=0.208, train_loss=-0.0148, epsilon=0.0158]"
     ]
    },
    {
     "name": "stderr",
     "output_type": "stream",
     "text": [
      "`Trainer.fit` stopped: `max_epochs=10` reached.\n"
     ]
    },
    {
     "name": "stdout",
     "output_type": "stream",
     "text": [
      "Epoch 9: 100%|██████████| 1/1 [00:00<00:00,  1.58it/s, v_num=0, train_reward=0.208, train_loss=-0.0148, epsilon=0.0158]\n",
      "Validation DataLoader 0: 100%|██████████| 1/1 [00:00<00:00, 11.21it/s]"
     ]
    },
    {
     "name": "stderr",
     "output_type": "stream",
     "text": [
      "You are using the plain ModelCheckpoint callback. Consider using LitModelCheckpoint which with seamless uploading to Model registry.\n",
      "GPU available: False, used: False\n",
      "TPU available: False, using: 0 TPU cores\n",
      "HPU available: False, using: 0 HPUs\n"
     ]
    },
    {
     "name": "stdout",
     "output_type": "stream",
     "text": [
      "\n",
      "────────────────────────────────────────────────────────────────────────────────────────────────────────────────────────\n",
      "     Validate metric           DataLoader 0\n",
      "────────────────────────────────────────────────────────────────────────────────────────────────────────────────────────\n",
      "    eval_noise_factor       0.10000000894069672\n",
      "     val_avg_reward         0.5049505233764648\n",
      "   val_pass_percentage       75.24752807617188\n",
      "────────────────────────────────────────────────────────────────────────────────────────────────────────────────────────\n",
      "\n",
      "Training model 27/64\n",
      "Parameters: {'learning_rate': 0.001, 'lookback': 7, 'hidden_layers': [200, 100, 50], 'epsilon_start': 1.0, 'epsilon_end': 0.05, 'epsilon_decay_epochs': 5}\n"
     ]
    },
    {
     "name": "stderr",
     "output_type": "stream",
     "text": [
      "\n",
      "  | Name          | Type       | Params | Mode \n",
      "-----------------------------------------------------\n",
      "0 | activation_fn | Tanh       | 0      | train\n",
      "1 | network       | Sequential | 28.3 K | train\n",
      "-----------------------------------------------------\n",
      "28.3 K    Trainable params\n",
      "0         Non-trainable params\n",
      "28.3 K    Total params\n",
      "0.113     Total estimated model params size (MB)\n",
      "6         Modules in train mode\n",
      "0         Modules in eval mode\n"
     ]
    },
    {
     "name": "stdout",
     "output_type": "stream",
     "text": [
      "Epoch 9: 100%|██████████| 1/1 [00:00<00:00,  1.63it/s, v_num=0, train_reward=0.188, train_loss=-0.451, epsilon=0.050]  "
     ]
    },
    {
     "name": "stderr",
     "output_type": "stream",
     "text": [
      "`Trainer.fit` stopped: `max_epochs=10` reached.\n"
     ]
    },
    {
     "name": "stdout",
     "output_type": "stream",
     "text": [
      "Epoch 9: 100%|██████████| 1/1 [00:00<00:00,  1.59it/s, v_num=0, train_reward=0.188, train_loss=-0.451, epsilon=0.050]\n",
      "Validation DataLoader 0: 100%|██████████| 1/1 [00:00<00:00, 11.62it/s]"
     ]
    },
    {
     "name": "stderr",
     "output_type": "stream",
     "text": [
      "You are using the plain ModelCheckpoint callback. Consider using LitModelCheckpoint which with seamless uploading to Model registry.\n",
      "GPU available: False, used: False\n",
      "TPU available: False, using: 0 TPU cores\n",
      "HPU available: False, using: 0 HPUs\n",
      "\n",
      "  | Name          | Type       | Params | Mode \n",
      "-----------------------------------------------------\n",
      "0 | activation_fn | Tanh       | 0      | train\n",
      "1 | network       | Sequential | 28.3 K | train\n",
      "-----------------------------------------------------\n",
      "28.3 K    Trainable params\n",
      "0         Non-trainable params\n",
      "28.3 K    Total params\n",
      "0.113     Total estimated model params size (MB)\n",
      "6         Modules in train mode\n",
      "0         Modules in eval mode\n"
     ]
    },
    {
     "name": "stdout",
     "output_type": "stream",
     "text": [
      "\n",
      "────────────────────────────────────────────────────────────────────────────────────────────────────────────────────────\n",
      "     Validate metric           DataLoader 0\n",
      "────────────────────────────────────────────────────────────────────────────────────────────────────────────────────────\n",
      "    eval_noise_factor       0.10000000894069672\n",
      "     val_avg_reward         0.5445544719696045\n",
      "   val_pass_percentage       77.22772216796875\n",
      "────────────────────────────────────────────────────────────────────────────────────────────────────────────────────────\n",
      "\n",
      "Training model 28/64\n",
      "Parameters: {'learning_rate': 0.001, 'lookback': 7, 'hidden_layers': [200, 100, 50], 'epsilon_start': 1.0, 'epsilon_end': 0.05, 'epsilon_decay_epochs': 10}\n",
      "Epoch 9: 100%|██████████| 1/1 [00:00<00:00,  1.51it/s, v_num=0, train_reward=0.218, train_loss=-0.144, epsilon=0.0675]"
     ]
    },
    {
     "name": "stderr",
     "output_type": "stream",
     "text": [
      "`Trainer.fit` stopped: `max_epochs=10` reached.\n"
     ]
    },
    {
     "name": "stdout",
     "output_type": "stream",
     "text": [
      "Epoch 9: 100%|██████████| 1/1 [00:00<00:00,  1.48it/s, v_num=0, train_reward=0.218, train_loss=-0.144, epsilon=0.0675]\n",
      "Validation DataLoader 0: 100%|██████████| 1/1 [00:00<00:00, 11.30it/s]"
     ]
    },
    {
     "name": "stderr",
     "output_type": "stream",
     "text": [
      "You are using the plain ModelCheckpoint callback. Consider using LitModelCheckpoint which with seamless uploading to Model registry.\n",
      "GPU available: False, used: False\n",
      "TPU available: False, using: 0 TPU cores\n",
      "HPU available: False, using: 0 HPUs\n"
     ]
    },
    {
     "name": "stdout",
     "output_type": "stream",
     "text": [
      "\n",
      "────────────────────────────────────────────────────────────────────────────────────────────────────────────────────────\n",
      "     Validate metric           DataLoader 0\n",
      "────────────────────────────────────────────────────────────────────────────────────────────────────────────────────────\n",
      "    eval_noise_factor       0.10000000894069672\n",
      "     val_avg_reward         0.5049505233764648\n",
      "   val_pass_percentage       75.24752807617188\n",
      "────────────────────────────────────────────────────────────────────────────────────────────────────────────────────────\n",
      "\n",
      "Training model 29/64\n",
      "Parameters: {'learning_rate': 0.001, 'lookback': 7, 'hidden_layers': [200, 100, 50], 'epsilon_start': 0.9, 'epsilon_end': 0.01, 'epsilon_decay_epochs': 5}\n"
     ]
    },
    {
     "name": "stderr",
     "output_type": "stream",
     "text": [
      "\n",
      "  | Name          | Type       | Params | Mode \n",
      "-----------------------------------------------------\n",
      "0 | activation_fn | Tanh       | 0      | train\n",
      "1 | network       | Sequential | 28.3 K | train\n",
      "-----------------------------------------------------\n",
      "28.3 K    Trainable params\n",
      "0         Non-trainable params\n",
      "28.3 K    Total params\n",
      "0.113     Total estimated model params size (MB)\n",
      "6         Modules in train mode\n",
      "0         Modules in eval mode\n"
     ]
    },
    {
     "name": "stdout",
     "output_type": "stream",
     "text": [
      "Epoch 9: 100%|██████████| 1/1 [00:00<00:00,  1.47it/s, v_num=0, train_reward=0.535, train_loss=-0.0821, epsilon=0.010]"
     ]
    },
    {
     "name": "stderr",
     "output_type": "stream",
     "text": [
      "`Trainer.fit` stopped: `max_epochs=10` reached.\n"
     ]
    },
    {
     "name": "stdout",
     "output_type": "stream",
     "text": [
      "Epoch 9: 100%|██████████| 1/1 [00:00<00:00,  1.44it/s, v_num=0, train_reward=0.535, train_loss=-0.0821, epsilon=0.010]\n",
      "Validation DataLoader 0: 100%|██████████| 1/1 [00:00<00:00, 11.79it/s]"
     ]
    },
    {
     "name": "stderr",
     "output_type": "stream",
     "text": [
      "You are using the plain ModelCheckpoint callback. Consider using LitModelCheckpoint which with seamless uploading to Model registry.\n",
      "GPU available: False, used: False\n",
      "TPU available: False, using: 0 TPU cores\n",
      "HPU available: False, using: 0 HPUs\n",
      "\n",
      "  | Name          | Type       | Params | Mode \n",
      "-----------------------------------------------------\n",
      "0 | activation_fn | Tanh       | 0      | train\n",
      "1 | network       | Sequential | 28.3 K | train\n",
      "-----------------------------------------------------\n",
      "28.3 K    Trainable params\n",
      "0         Non-trainable params\n",
      "28.3 K    Total params\n",
      "0.113     Total estimated model params size (MB)\n",
      "6         Modules in train mode\n",
      "0         Modules in eval mode\n"
     ]
    },
    {
     "name": "stdout",
     "output_type": "stream",
     "text": [
      "\n",
      "────────────────────────────────────────────────────────────────────────────────────────────────────────────────────────\n",
      "     Validate metric           DataLoader 0\n",
      "────────────────────────────────────────────────────────────────────────────────────────────────────────────────────────\n",
      "    eval_noise_factor       0.10000000894069672\n",
      "     val_avg_reward         0.4554455876350403\n",
      "   val_pass_percentage       72.77227783203125\n",
      "────────────────────────────────────────────────────────────────────────────────────────────────────────────────────────\n",
      "\n",
      "Training model 30/64\n",
      "Parameters: {'learning_rate': 0.001, 'lookback': 7, 'hidden_layers': [200, 100, 50], 'epsilon_start': 0.9, 'epsilon_end': 0.01, 'epsilon_decay_epochs': 10}\n",
      "Epoch 9: 100%|██████████| 1/1 [00:00<00:00,  1.60it/s, v_num=0, train_reward=0.248, train_loss=-0.101, epsilon=0.0157] "
     ]
    },
    {
     "name": "stderr",
     "output_type": "stream",
     "text": [
      "`Trainer.fit` stopped: `max_epochs=10` reached.\n"
     ]
    },
    {
     "name": "stdout",
     "output_type": "stream",
     "text": [
      "Epoch 9: 100%|██████████| 1/1 [00:00<00:00,  1.56it/s, v_num=0, train_reward=0.248, train_loss=-0.101, epsilon=0.0157]\n",
      "Validation DataLoader 0: 100%|██████████| 1/1 [00:00<00:00, 11.06it/s]"
     ]
    },
    {
     "name": "stderr",
     "output_type": "stream",
     "text": [
      "You are using the plain ModelCheckpoint callback. Consider using LitModelCheckpoint which with seamless uploading to Model registry.\n"
     ]
    },
    {
     "name": "stdout",
     "output_type": "stream",
     "text": [
      "\n",
      "────────────────────────────────────────────────────────────────────────────────────────────────────────────────────────\n",
      "     Validate metric           DataLoader 0\n",
      "────────────────────────────────────────────────────────────────────────────────────────────────────────────────────────\n",
      "    eval_noise_factor       0.10000000894069672\n",
      "     val_avg_reward         0.5247524976730347\n",
      "   val_pass_percentage       76.23762512207031\n",
      "────────────────────────────────────────────────────────────────────────────────────────────────────────────────────────\n",
      "\n",
      "Training model 31/64\n",
      "Parameters: {'learning_rate': 0.001, 'lookback': 7, 'hidden_layers': [200, 100, 50], 'epsilon_start': 0.9, 'epsilon_end': 0.05, 'epsilon_decay_epochs': 5}\n"
     ]
    },
    {
     "name": "stderr",
     "output_type": "stream",
     "text": [
      "GPU available: False, used: False\n",
      "TPU available: False, using: 0 TPU cores\n",
      "HPU available: False, using: 0 HPUs\n",
      "\n",
      "  | Name          | Type       | Params | Mode \n",
      "-----------------------------------------------------\n",
      "0 | activation_fn | Tanh       | 0      | train\n",
      "1 | network       | Sequential | 28.3 K | train\n",
      "-----------------------------------------------------\n",
      "28.3 K    Trainable params\n",
      "0         Non-trainable params\n",
      "28.3 K    Total params\n",
      "0.113     Total estimated model params size (MB)\n",
      "6         Modules in train mode\n",
      "0         Modules in eval mode\n"
     ]
    },
    {
     "name": "stdout",
     "output_type": "stream",
     "text": [
      "Epoch 9: 100%|██████████| 1/1 [00:00<00:00,  1.64it/s, v_num=0, train_reward=0.436, train_loss=-0.262, epsilon=0.050] "
     ]
    },
    {
     "name": "stderr",
     "output_type": "stream",
     "text": [
      "`Trainer.fit` stopped: `max_epochs=10` reached.\n"
     ]
    },
    {
     "name": "stdout",
     "output_type": "stream",
     "text": [
      "Epoch 9: 100%|██████████| 1/1 [00:00<00:00,  1.60it/s, v_num=0, train_reward=0.436, train_loss=-0.262, epsilon=0.050]\n",
      "Validation DataLoader 0: 100%|██████████| 1/1 [00:00<00:00, 11.43it/s]"
     ]
    },
    {
     "name": "stderr",
     "output_type": "stream",
     "text": [
      "You are using the plain ModelCheckpoint callback. Consider using LitModelCheckpoint which with seamless uploading to Model registry.\n",
      "GPU available: False, used: False\n",
      "TPU available: False, using: 0 TPU cores\n",
      "HPU available: False, using: 0 HPUs\n"
     ]
    },
    {
     "name": "stdout",
     "output_type": "stream",
     "text": [
      "\n",
      "────────────────────────────────────────────────────────────────────────────────────────────────────────────────────────\n",
      "     Validate metric           DataLoader 0\n",
      "────────────────────────────────────────────────────────────────────────────────────────────────────────────────────────\n",
      "    eval_noise_factor       0.10000000894069672\n",
      "     val_avg_reward         0.4554455876350403\n",
      "   val_pass_percentage       72.77227783203125\n",
      "────────────────────────────────────────────────────────────────────────────────────────────────────────────────────────\n",
      "\n",
      "Training model 32/64\n",
      "Parameters: {'learning_rate': 0.001, 'lookback': 7, 'hidden_layers': [200, 100, 50], 'epsilon_start': 0.9, 'epsilon_end': 0.05, 'epsilon_decay_epochs': 10}\n"
     ]
    },
    {
     "name": "stderr",
     "output_type": "stream",
     "text": [
      "\n",
      "  | Name          | Type       | Params | Mode \n",
      "-----------------------------------------------------\n",
      "0 | activation_fn | Tanh       | 0      | train\n",
      "1 | network       | Sequential | 28.3 K | train\n",
      "-----------------------------------------------------\n",
      "28.3 K    Trainable params\n",
      "0         Non-trainable params\n",
      "28.3 K    Total params\n",
      "0.113     Total estimated model params size (MB)\n",
      "6         Modules in train mode\n",
      "0         Modules in eval mode\n"
     ]
    },
    {
     "name": "stdout",
     "output_type": "stream",
     "text": [
      "Epoch 9: 100%|██████████| 1/1 [00:00<00:00,  1.61it/s, v_num=0, train_reward=0.178, train_loss=-0.984, epsilon=0.0668]"
     ]
    },
    {
     "name": "stderr",
     "output_type": "stream",
     "text": [
      "`Trainer.fit` stopped: `max_epochs=10` reached.\n"
     ]
    },
    {
     "name": "stdout",
     "output_type": "stream",
     "text": [
      "Epoch 9: 100%|██████████| 1/1 [00:00<00:00,  1.58it/s, v_num=0, train_reward=0.178, train_loss=-0.984, epsilon=0.0668]\n",
      "Validation DataLoader 0: 100%|██████████| 1/1 [00:00<00:00, 11.70it/s]"
     ]
    },
    {
     "name": "stderr",
     "output_type": "stream",
     "text": [
      "You are using the plain ModelCheckpoint callback. Consider using LitModelCheckpoint which with seamless uploading to Model registry.\n"
     ]
    },
    {
     "name": "stdout",
     "output_type": "stream",
     "text": [
      "\n",
      "────────────────────────────────────────────────────────────────────────────────────────────────────────────────────────\n",
      "     Validate metric           DataLoader 0\n",
      "────────────────────────────────────────────────────────────────────────────────────────────────────────────────────────\n",
      "    eval_noise_factor       0.10000000894069672\n",
      "     val_avg_reward          0.594059407711029\n",
      "   val_pass_percentage       79.70297241210938\n",
      "────────────────────────────────────────────────────────────────────────────────────────────────────────────────────────\n",
      "\n",
      "Training model 33/64\n",
      "Parameters: {'learning_rate': 0.0005, 'lookback': 5, 'hidden_layers': [100, 100, 10], 'epsilon_start': 1.0, 'epsilon_end': 0.01, 'epsilon_decay_epochs': 5}\n"
     ]
    },
    {
     "name": "stderr",
     "output_type": "stream",
     "text": [
      "GPU available: False, used: False\n",
      "TPU available: False, using: 0 TPU cores\n",
      "HPU available: False, using: 0 HPUs\n",
      "\n",
      "  | Name          | Type       | Params | Mode \n",
      "-----------------------------------------------------\n",
      "0 | activation_fn | Tanh       | 0      | train\n",
      "1 | network       | Sequential | 12.2 K | train\n",
      "-----------------------------------------------------\n",
      "12.2 K    Trainable params\n",
      "0         Non-trainable params\n",
      "12.2 K    Total params\n",
      "0.049     Total estimated model params size (MB)\n",
      "6         Modules in train mode\n",
      "0         Modules in eval mode\n"
     ]
    },
    {
     "name": "stdout",
     "output_type": "stream",
     "text": [
      "Epoch 9: 100%|██████████| 1/1 [00:00<00:00,  1.59it/s, v_num=0, train_reward=0.500, train_loss=-0.0524, epsilon=0.010] "
     ]
    },
    {
     "name": "stderr",
     "output_type": "stream",
     "text": [
      "`Trainer.fit` stopped: `max_epochs=10` reached.\n"
     ]
    },
    {
     "name": "stdout",
     "output_type": "stream",
     "text": [
      "Epoch 9: 100%|██████████| 1/1 [00:00<00:00,  1.56it/s, v_num=0, train_reward=0.500, train_loss=-0.0524, epsilon=0.010]\n",
      "Validation DataLoader 0: 100%|██████████| 1/1 [00:00<00:00, 11.43it/s]"
     ]
    },
    {
     "name": "stderr",
     "output_type": "stream",
     "text": [
      "You are using the plain ModelCheckpoint callback. Consider using LitModelCheckpoint which with seamless uploading to Model registry.\n",
      "GPU available: False, used: False\n",
      "TPU available: False, using: 0 TPU cores\n",
      "HPU available: False, using: 0 HPUs\n"
     ]
    },
    {
     "name": "stdout",
     "output_type": "stream",
     "text": [
      "\n",
      "────────────────────────────────────────────────────────────────────────────────────────────────────────────────────────\n",
      "     Validate metric           DataLoader 0\n",
      "────────────────────────────────────────────────────────────────────────────────────────────────────────────────────────\n",
      "    eval_noise_factor       0.10000000149011612\n",
      "     val_avg_reward         0.3921568691730499\n",
      "   val_pass_percentage       69.60784149169922\n",
      "────────────────────────────────────────────────────────────────────────────────────────────────────────────────────────\n",
      "\n",
      "Training model 34/64\n",
      "Parameters: {'learning_rate': 0.0005, 'lookback': 5, 'hidden_layers': [100, 100, 10], 'epsilon_start': 1.0, 'epsilon_end': 0.01, 'epsilon_decay_epochs': 10}\n"
     ]
    },
    {
     "name": "stderr",
     "output_type": "stream",
     "text": [
      "\n",
      "  | Name          | Type       | Params | Mode \n",
      "-----------------------------------------------------\n",
      "0 | activation_fn | Tanh       | 0      | train\n",
      "1 | network       | Sequential | 12.2 K | train\n",
      "-----------------------------------------------------\n",
      "12.2 K    Trainable params\n",
      "0         Non-trainable params\n",
      "12.2 K    Total params\n",
      "0.049     Total estimated model params size (MB)\n",
      "6         Modules in train mode\n",
      "0         Modules in eval mode\n"
     ]
    },
    {
     "name": "stdout",
     "output_type": "stream",
     "text": [
      "Epoch 9: 100%|██████████| 1/1 [00:00<00:00,  1.63it/s, v_num=0, train_reward=0.490, train_loss=-0.0978, epsilon=0.0158]"
     ]
    },
    {
     "name": "stderr",
     "output_type": "stream",
     "text": [
      "`Trainer.fit` stopped: `max_epochs=10` reached.\n"
     ]
    },
    {
     "name": "stdout",
     "output_type": "stream",
     "text": [
      "Epoch 9: 100%|██████████| 1/1 [00:00<00:00,  1.60it/s, v_num=0, train_reward=0.490, train_loss=-0.0978, epsilon=0.0158]\n",
      "Validation DataLoader 0: 100%|██████████| 1/1 [00:00<00:00, 11.32it/s]"
     ]
    },
    {
     "name": "stderr",
     "output_type": "stream",
     "text": [
      "You are using the plain ModelCheckpoint callback. Consider using LitModelCheckpoint which with seamless uploading to Model registry.\n",
      "GPU available: False, used: False\n",
      "TPU available: False, using: 0 TPU cores\n",
      "HPU available: False, using: 0 HPUs\n",
      "\n",
      "  | Name          | Type       | Params | Mode \n",
      "-----------------------------------------------------\n",
      "0 | activation_fn | Tanh       | 0      | train\n",
      "1 | network       | Sequential | 12.2 K | train\n",
      "-----------------------------------------------------\n",
      "12.2 K    Trainable params\n",
      "0         Non-trainable params\n",
      "12.2 K    Total params\n",
      "0.049     Total estimated model params size (MB)\n",
      "6         Modules in train mode\n",
      "0         Modules in eval mode\n"
     ]
    },
    {
     "name": "stdout",
     "output_type": "stream",
     "text": [
      "\n",
      "────────────────────────────────────────────────────────────────────────────────────────────────────────────────────────\n",
      "     Validate metric           DataLoader 0\n",
      "────────────────────────────────────────────────────────────────────────────────────────────────────────────────────────\n",
      "    eval_noise_factor       0.10000000149011612\n",
      "     val_avg_reward         0.4117647111415863\n",
      "   val_pass_percentage       70.5882339477539\n",
      "────────────────────────────────────────────────────────────────────────────────────────────────────────────────────────\n",
      "\n",
      "Training model 35/64\n",
      "Parameters: {'learning_rate': 0.0005, 'lookback': 5, 'hidden_layers': [100, 100, 10], 'epsilon_start': 1.0, 'epsilon_end': 0.05, 'epsilon_decay_epochs': 5}\n",
      "Epoch 9: 100%|██████████| 1/1 [00:00<00:00,  1.60it/s, v_num=0, train_reward=0.627, train_loss=-0.063, epsilon=0.050] "
     ]
    },
    {
     "name": "stderr",
     "output_type": "stream",
     "text": [
      "`Trainer.fit` stopped: `max_epochs=10` reached.\n"
     ]
    },
    {
     "name": "stdout",
     "output_type": "stream",
     "text": [
      "Epoch 9: 100%|██████████| 1/1 [00:00<00:00,  1.56it/s, v_num=0, train_reward=0.627, train_loss=-0.063, epsilon=0.050]\n",
      "Validation DataLoader 0: 100%|██████████| 1/1 [00:00<00:00, 11.15it/s]"
     ]
    },
    {
     "name": "stderr",
     "output_type": "stream",
     "text": [
      "You are using the plain ModelCheckpoint callback. Consider using LitModelCheckpoint which with seamless uploading to Model registry.\n",
      "GPU available: False, used: False\n",
      "TPU available: False, using: 0 TPU cores\n",
      "HPU available: False, using: 0 HPUs\n",
      "\n",
      "  | Name          | Type       | Params | Mode \n",
      "-----------------------------------------------------\n",
      "0 | activation_fn | Tanh       | 0      | train\n",
      "1 | network       | Sequential | 12.2 K | train\n",
      "-----------------------------------------------------\n",
      "12.2 K    Trainable params\n",
      "0         Non-trainable params\n",
      "12.2 K    Total params\n",
      "0.049     Total estimated model params size (MB)\n",
      "6         Modules in train mode\n",
      "0         Modules in eval mode\n"
     ]
    },
    {
     "name": "stdout",
     "output_type": "stream",
     "text": [
      "\n",
      "────────────────────────────────────────────────────────────────────────────────────────────────────────────────────────\n",
      "     Validate metric           DataLoader 0\n",
      "────────────────────────────────────────────────────────────────────────────────────────────────────────────────────────\n",
      "    eval_noise_factor       0.10000000149011612\n",
      "     val_avg_reward         0.20588235557079315\n",
      "   val_pass_percentage       60.29411697387695\n",
      "────────────────────────────────────────────────────────────────────────────────────────────────────────────────────────\n",
      "\n",
      "Training model 36/64\n",
      "Parameters: {'learning_rate': 0.0005, 'lookback': 5, 'hidden_layers': [100, 100, 10], 'epsilon_start': 1.0, 'epsilon_end': 0.05, 'epsilon_decay_epochs': 10}\n",
      "Epoch 9: 100%|██████████| 1/1 [00:00<00:00,  1.61it/s, v_num=0, train_reward=0.461, train_loss=-0.0802, epsilon=0.0675]"
     ]
    },
    {
     "name": "stderr",
     "output_type": "stream",
     "text": [
      "`Trainer.fit` stopped: `max_epochs=10` reached.\n"
     ]
    },
    {
     "name": "stdout",
     "output_type": "stream",
     "text": [
      "Epoch 9: 100%|██████████| 1/1 [00:00<00:00,  1.58it/s, v_num=0, train_reward=0.461, train_loss=-0.0802, epsilon=0.0675]\n",
      "Validation DataLoader 0: 100%|██████████| 1/1 [00:00<00:00, 11.18it/s]"
     ]
    },
    {
     "name": "stderr",
     "output_type": "stream",
     "text": [
      "You are using the plain ModelCheckpoint callback. Consider using LitModelCheckpoint which with seamless uploading to Model registry.\n",
      "GPU available: False, used: False\n",
      "TPU available: False, using: 0 TPU cores\n",
      "HPU available: False, using: 0 HPUs\n",
      "\n",
      "  | Name          | Type       | Params | Mode \n",
      "-----------------------------------------------------\n",
      "0 | activation_fn | Tanh       | 0      | train\n",
      "1 | network       | Sequential | 12.2 K | train\n",
      "-----------------------------------------------------\n",
      "12.2 K    Trainable params\n",
      "0         Non-trainable params\n",
      "12.2 K    Total params\n",
      "0.049     Total estimated model params size (MB)\n",
      "6         Modules in train mode\n",
      "0         Modules in eval mode\n"
     ]
    },
    {
     "name": "stdout",
     "output_type": "stream",
     "text": [
      "\n",
      "────────────────────────────────────────────────────────────────────────────────────────────────────────────────────────\n",
      "     Validate metric           DataLoader 0\n",
      "────────────────────────────────────────────────────────────────────────────────────────────────────────────────────────\n",
      "    eval_noise_factor       0.10000000149011612\n",
      "     val_avg_reward         0.38235294818878174\n",
      "   val_pass_percentage       69.11764526367188\n",
      "────────────────────────────────────────────────────────────────────────────────────────────────────────────────────────\n",
      "\n",
      "Training model 37/64\n",
      "Parameters: {'learning_rate': 0.0005, 'lookback': 5, 'hidden_layers': [100, 100, 10], 'epsilon_start': 0.9, 'epsilon_end': 0.01, 'epsilon_decay_epochs': 5}\n",
      "Epoch 9: 100%|██████████| 1/1 [00:00<00:00,  1.66it/s, v_num=0, train_reward=0.461, train_loss=-0.0719, epsilon=0.010] "
     ]
    },
    {
     "name": "stderr",
     "output_type": "stream",
     "text": [
      "`Trainer.fit` stopped: `max_epochs=10` reached.\n"
     ]
    },
    {
     "name": "stdout",
     "output_type": "stream",
     "text": [
      "Epoch 9: 100%|██████████| 1/1 [00:00<00:00,  1.63it/s, v_num=0, train_reward=0.461, train_loss=-0.0719, epsilon=0.010]\n",
      "Validation DataLoader 0: 100%|██████████| 1/1 [00:00<00:00, 11.32it/s]"
     ]
    },
    {
     "name": "stderr",
     "output_type": "stream",
     "text": [
      "You are using the plain ModelCheckpoint callback. Consider using LitModelCheckpoint which with seamless uploading to Model registry.\n",
      "GPU available: False, used: False\n",
      "TPU available: False, using: 0 TPU cores\n",
      "HPU available: False, using: 0 HPUs\n",
      "\n",
      "  | Name          | Type       | Params | Mode \n",
      "-----------------------------------------------------\n",
      "0 | activation_fn | Tanh       | 0      | train\n",
      "1 | network       | Sequential | 12.2 K | train\n",
      "-----------------------------------------------------\n",
      "12.2 K    Trainable params\n",
      "0         Non-trainable params\n",
      "12.2 K    Total params\n",
      "0.049     Total estimated model params size (MB)\n",
      "6         Modules in train mode\n",
      "0         Modules in eval mode\n"
     ]
    },
    {
     "name": "stdout",
     "output_type": "stream",
     "text": [
      "\n",
      "────────────────────────────────────────────────────────────────────────────────────────────────────────────────────────\n",
      "     Validate metric           DataLoader 0\n",
      "────────────────────────────────────────────────────────────────────────────────────────────────────────────────────────\n",
      "    eval_noise_factor       0.10000000149011612\n",
      "     val_avg_reward         0.37254902720451355\n",
      "   val_pass_percentage       68.62744903564453\n",
      "────────────────────────────────────────────────────────────────────────────────────────────────────────────────────────\n",
      "\n",
      "Training model 38/64\n",
      "Parameters: {'learning_rate': 0.0005, 'lookback': 5, 'hidden_layers': [100, 100, 10], 'epsilon_start': 0.9, 'epsilon_end': 0.01, 'epsilon_decay_epochs': 10}\n",
      "Epoch 9: 100%|██████████| 1/1 [00:00<00:00,  1.70it/s, v_num=0, train_reward=0.618, train_loss=-0.0104, epsilon=0.0157]"
     ]
    },
    {
     "name": "stderr",
     "output_type": "stream",
     "text": [
      "`Trainer.fit` stopped: `max_epochs=10` reached.\n"
     ]
    },
    {
     "name": "stdout",
     "output_type": "stream",
     "text": [
      "Epoch 9: 100%|██████████| 1/1 [00:00<00:00,  1.66it/s, v_num=0, train_reward=0.618, train_loss=-0.0104, epsilon=0.0157]\n",
      "Validation DataLoader 0: 100%|██████████| 1/1 [00:00<00:00, 12.15it/s]"
     ]
    },
    {
     "name": "stderr",
     "output_type": "stream",
     "text": [
      "You are using the plain ModelCheckpoint callback. Consider using LitModelCheckpoint which with seamless uploading to Model registry.\n",
      "GPU available: False, used: False\n",
      "TPU available: False, using: 0 TPU cores\n",
      "HPU available: False, using: 0 HPUs\n",
      "\n",
      "  | Name          | Type       | Params | Mode \n",
      "-----------------------------------------------------\n",
      "0 | activation_fn | Tanh       | 0      | train\n",
      "1 | network       | Sequential | 12.2 K | train\n",
      "-----------------------------------------------------\n",
      "12.2 K    Trainable params\n",
      "0         Non-trainable params\n",
      "12.2 K    Total params\n",
      "0.049     Total estimated model params size (MB)\n",
      "6         Modules in train mode\n",
      "0         Modules in eval mode\n"
     ]
    },
    {
     "name": "stdout",
     "output_type": "stream",
     "text": [
      "\n",
      "────────────────────────────────────────────────────────────────────────────────────────────────────────────────────────\n",
      "     Validate metric           DataLoader 0\n",
      "────────────────────────────────────────────────────────────────────────────────────────────────────────────────────────\n",
      "    eval_noise_factor       0.10000000149011612\n",
      "     val_avg_reward         0.22549019753932953\n",
      "   val_pass_percentage       61.27450942993164\n",
      "────────────────────────────────────────────────────────────────────────────────────────────────────────────────────────\n",
      "\n",
      "Training model 39/64\n",
      "Parameters: {'learning_rate': 0.0005, 'lookback': 5, 'hidden_layers': [100, 100, 10], 'epsilon_start': 0.9, 'epsilon_end': 0.05, 'epsilon_decay_epochs': 5}\n",
      "Epoch 9: 100%|██████████| 1/1 [00:00<00:00,  1.63it/s, v_num=0, train_reward=0.461, train_loss=-0.0765, epsilon=0.050] "
     ]
    },
    {
     "name": "stderr",
     "output_type": "stream",
     "text": [
      "`Trainer.fit` stopped: `max_epochs=10` reached.\n"
     ]
    },
    {
     "name": "stdout",
     "output_type": "stream",
     "text": [
      "Epoch 9: 100%|██████████| 1/1 [00:00<00:00,  1.59it/s, v_num=0, train_reward=0.461, train_loss=-0.0765, epsilon=0.050]\n",
      "Validation DataLoader 0: 100%|██████████| 1/1 [00:00<00:00, 11.41it/s]"
     ]
    },
    {
     "name": "stderr",
     "output_type": "stream",
     "text": [
      "You are using the plain ModelCheckpoint callback. Consider using LitModelCheckpoint which with seamless uploading to Model registry.\n",
      "GPU available: False, used: False\n",
      "TPU available: False, using: 0 TPU cores\n",
      "HPU available: False, using: 0 HPUs\n",
      "\n",
      "  | Name          | Type       | Params | Mode \n",
      "-----------------------------------------------------\n",
      "0 | activation_fn | Tanh       | 0      | train\n",
      "1 | network       | Sequential | 12.2 K | train\n",
      "-----------------------------------------------------\n",
      "12.2 K    Trainable params\n",
      "0         Non-trainable params\n",
      "12.2 K    Total params\n",
      "0.049     Total estimated model params size (MB)\n",
      "6         Modules in train mode\n",
      "0         Modules in eval mode\n"
     ]
    },
    {
     "name": "stdout",
     "output_type": "stream",
     "text": [
      "\n",
      "────────────────────────────────────────────────────────────────────────────────────────────────────────────────────────\n",
      "     Validate metric           DataLoader 0\n",
      "────────────────────────────────────────────────────────────────────────────────────────────────────────────────────────\n",
      "    eval_noise_factor       0.10000000149011612\n",
      "     val_avg_reward         0.37254902720451355\n",
      "   val_pass_percentage       68.62744903564453\n",
      "────────────────────────────────────────────────────────────────────────────────────────────────────────────────────────\n",
      "\n",
      "Training model 40/64\n",
      "Parameters: {'learning_rate': 0.0005, 'lookback': 5, 'hidden_layers': [100, 100, 10], 'epsilon_start': 0.9, 'epsilon_end': 0.05, 'epsilon_decay_epochs': 10}\n",
      "Epoch 9: 100%|██████████| 1/1 [00:00<00:00,  1.57it/s, v_num=0, train_reward=0.480, train_loss=-0.158, epsilon=0.0668]"
     ]
    },
    {
     "name": "stderr",
     "output_type": "stream",
     "text": [
      "`Trainer.fit` stopped: `max_epochs=10` reached.\n"
     ]
    },
    {
     "name": "stdout",
     "output_type": "stream",
     "text": [
      "Epoch 9: 100%|██████████| 1/1 [00:00<00:00,  1.54it/s, v_num=0, train_reward=0.480, train_loss=-0.158, epsilon=0.0668]\n",
      "Validation DataLoader 0: 100%|██████████| 1/1 [00:00<00:00, 10.49it/s]"
     ]
    },
    {
     "name": "stderr",
     "output_type": "stream",
     "text": [
      "You are using the plain ModelCheckpoint callback. Consider using LitModelCheckpoint which with seamless uploading to Model registry.\n",
      "GPU available: False, used: False\n",
      "TPU available: False, using: 0 TPU cores\n",
      "HPU available: False, using: 0 HPUs\n",
      "\n",
      "  | Name          | Type       | Params | Mode \n",
      "-----------------------------------------------------\n",
      "0 | activation_fn | Tanh       | 0      | train\n",
      "1 | network       | Sequential | 27.5 K | train\n",
      "-----------------------------------------------------\n",
      "27.5 K    Trainable params\n",
      "0         Non-trainable params\n",
      "27.5 K    Total params\n",
      "0.110     Total estimated model params size (MB)\n",
      "6         Modules in train mode\n",
      "0         Modules in eval mode\n"
     ]
    },
    {
     "name": "stdout",
     "output_type": "stream",
     "text": [
      "\n",
      "────────────────────────────────────────────────────────────────────────────────────────────────────────────────────────\n",
      "     Validate metric           DataLoader 0\n",
      "────────────────────────────────────────────────────────────────────────────────────────────────────────────────────────\n",
      "    eval_noise_factor       0.10000000149011612\n",
      "     val_avg_reward         0.3921568691730499\n",
      "   val_pass_percentage       69.60784149169922\n",
      "────────────────────────────────────────────────────────────────────────────────────────────────────────────────────────\n",
      "\n",
      "Training model 41/64\n",
      "Parameters: {'learning_rate': 0.0005, 'lookback': 5, 'hidden_layers': [200, 100, 50], 'epsilon_start': 1.0, 'epsilon_end': 0.01, 'epsilon_decay_epochs': 5}\n",
      "Epoch 9: 100%|██████████| 1/1 [00:00<00:00,  1.52it/s, v_num=0, train_reward=0.706, train_loss=-0.102, epsilon=0.010]  "
     ]
    },
    {
     "name": "stderr",
     "output_type": "stream",
     "text": [
      "`Trainer.fit` stopped: `max_epochs=10` reached.\n"
     ]
    },
    {
     "name": "stdout",
     "output_type": "stream",
     "text": [
      "Epoch 9: 100%|██████████| 1/1 [00:00<00:00,  1.49it/s, v_num=0, train_reward=0.706, train_loss=-0.102, epsilon=0.010]\n",
      "Validation DataLoader 0: 100%|██████████| 1/1 [00:00<00:00, 10.10it/s]"
     ]
    },
    {
     "name": "stderr",
     "output_type": "stream",
     "text": [
      "You are using the plain ModelCheckpoint callback. Consider using LitModelCheckpoint which with seamless uploading to Model registry.\n"
     ]
    },
    {
     "name": "stdout",
     "output_type": "stream",
     "text": [
      "\n",
      "────────────────────────────────────────────────────────────────────────────────────────────────────────────────────────\n",
      "     Validate metric           DataLoader 0\n",
      "────────────────────────────────────────────────────────────────────────────────────────────────────────────────────────\n",
      "    eval_noise_factor       0.10000000149011612\n",
      "     val_avg_reward         0.3137255012989044\n",
      "   val_pass_percentage       65.68627166748047\n",
      "────────────────────────────────────────────────────────────────────────────────────────────────────────────────────────\n",
      "\n",
      "Training model 42/64\n",
      "Parameters: {'learning_rate': 0.0005, 'lookback': 5, 'hidden_layers': [200, 100, 50], 'epsilon_start': 1.0, 'epsilon_end': 0.01, 'epsilon_decay_epochs': 10}\n"
     ]
    },
    {
     "name": "stderr",
     "output_type": "stream",
     "text": [
      "GPU available: False, used: False\n",
      "TPU available: False, using: 0 TPU cores\n",
      "HPU available: False, using: 0 HPUs\n",
      "\n",
      "  | Name          | Type       | Params | Mode \n",
      "-----------------------------------------------------\n",
      "0 | activation_fn | Tanh       | 0      | train\n",
      "1 | network       | Sequential | 27.5 K | train\n",
      "-----------------------------------------------------\n",
      "27.5 K    Trainable params\n",
      "0         Non-trainable params\n",
      "27.5 K    Total params\n",
      "0.110     Total estimated model params size (MB)\n",
      "6         Modules in train mode\n",
      "0         Modules in eval mode\n"
     ]
    },
    {
     "name": "stdout",
     "output_type": "stream",
     "text": [
      "Epoch 9: 100%|██████████| 1/1 [00:00<00:00,  1.61it/s, v_num=0, train_reward=0.373, train_loss=-0.237, epsilon=0.0158]"
     ]
    },
    {
     "name": "stderr",
     "output_type": "stream",
     "text": [
      "`Trainer.fit` stopped: `max_epochs=10` reached.\n"
     ]
    },
    {
     "name": "stdout",
     "output_type": "stream",
     "text": [
      "Epoch 9: 100%|██████████| 1/1 [00:00<00:00,  1.58it/s, v_num=0, train_reward=0.373, train_loss=-0.237, epsilon=0.0158]\n",
      "Validation DataLoader 0: 100%|██████████| 1/1 [00:00<00:00, 11.07it/s]"
     ]
    },
    {
     "name": "stderr",
     "output_type": "stream",
     "text": [
      "You are using the plain ModelCheckpoint callback. Consider using LitModelCheckpoint which with seamless uploading to Model registry.\n",
      "GPU available: False, used: False\n",
      "TPU available: False, using: 0 TPU cores\n",
      "HPU available: False, using: 0 HPUs\n"
     ]
    },
    {
     "name": "stdout",
     "output_type": "stream",
     "text": [
      "\n",
      "────────────────────────────────────────────────────────────────────────────────────────────────────────────────────────\n",
      "     Validate metric           DataLoader 0\n",
      "────────────────────────────────────────────────────────────────────────────────────────────────────────────────────────\n",
      "    eval_noise_factor       0.10000000149011612\n",
      "     val_avg_reward         0.37254902720451355\n",
      "   val_pass_percentage       68.62744903564453\n",
      "────────────────────────────────────────────────────────────────────────────────────────────────────────────────────────\n",
      "\n",
      "Training model 43/64\n",
      "Parameters: {'learning_rate': 0.0005, 'lookback': 5, 'hidden_layers': [200, 100, 50], 'epsilon_start': 1.0, 'epsilon_end': 0.05, 'epsilon_decay_epochs': 5}\n"
     ]
    },
    {
     "name": "stderr",
     "output_type": "stream",
     "text": [
      "\n",
      "  | Name          | Type       | Params | Mode \n",
      "-----------------------------------------------------\n",
      "0 | activation_fn | Tanh       | 0      | train\n",
      "1 | network       | Sequential | 27.5 K | train\n",
      "-----------------------------------------------------\n",
      "27.5 K    Trainable params\n",
      "0         Non-trainable params\n",
      "27.5 K    Total params\n",
      "0.110     Total estimated model params size (MB)\n",
      "6         Modules in train mode\n",
      "0         Modules in eval mode\n"
     ]
    },
    {
     "name": "stdout",
     "output_type": "stream",
     "text": [
      "Epoch 9: 100%|██████████| 1/1 [00:00<00:00,  1.65it/s, v_num=0, train_reward=0.441, train_loss=-0.412, epsilon=0.050]"
     ]
    },
    {
     "name": "stderr",
     "output_type": "stream",
     "text": [
      "`Trainer.fit` stopped: `max_epochs=10` reached.\n"
     ]
    },
    {
     "name": "stdout",
     "output_type": "stream",
     "text": [
      "Epoch 9: 100%|██████████| 1/1 [00:00<00:00,  1.62it/s, v_num=0, train_reward=0.441, train_loss=-0.412, epsilon=0.050]\n",
      "Validation DataLoader 0: 100%|██████████| 1/1 [00:00<00:00, 11.92it/s]"
     ]
    },
    {
     "name": "stderr",
     "output_type": "stream",
     "text": [
      "You are using the plain ModelCheckpoint callback. Consider using LitModelCheckpoint which with seamless uploading to Model registry.\n",
      "GPU available: False, used: False\n",
      "TPU available: False, using: 0 TPU cores\n",
      "HPU available: False, using: 0 HPUs\n",
      "\n",
      "  | Name          | Type       | Params | Mode \n",
      "-----------------------------------------------------\n",
      "0 | activation_fn | Tanh       | 0      | train\n",
      "1 | network       | Sequential | 27.5 K | train\n",
      "-----------------------------------------------------\n",
      "27.5 K    Trainable params\n",
      "0         Non-trainable params\n",
      "27.5 K    Total params\n",
      "0.110     Total estimated model params size (MB)\n",
      "6         Modules in train mode\n",
      "0         Modules in eval mode\n"
     ]
    },
    {
     "name": "stdout",
     "output_type": "stream",
     "text": [
      "\n",
      "────────────────────────────────────────────────────────────────────────────────────────────────────────────────────────\n",
      "     Validate metric           DataLoader 0\n",
      "────────────────────────────────────────────────────────────────────────────────────────────────────────────────────────\n",
      "    eval_noise_factor       0.10000000149011612\n",
      "     val_avg_reward         0.4313725531101227\n",
      "   val_pass_percentage       71.5686264038086\n",
      "────────────────────────────────────────────────────────────────────────────────────────────────────────────────────────\n",
      "\n",
      "Training model 44/64\n",
      "Parameters: {'learning_rate': 0.0005, 'lookback': 5, 'hidden_layers': [200, 100, 50], 'epsilon_start': 1.0, 'epsilon_end': 0.05, 'epsilon_decay_epochs': 10}\n",
      "Epoch 9: 100%|██████████| 1/1 [00:00<00:00,  1.56it/s, v_num=0, train_reward=0.402, train_loss=-0.671, epsilon=0.0675]"
     ]
    },
    {
     "name": "stderr",
     "output_type": "stream",
     "text": [
      "`Trainer.fit` stopped: `max_epochs=10` reached.\n"
     ]
    },
    {
     "name": "stdout",
     "output_type": "stream",
     "text": [
      "Epoch 9: 100%|██████████| 1/1 [00:00<00:00,  1.53it/s, v_num=0, train_reward=0.402, train_loss=-0.671, epsilon=0.0675]\n",
      "Validation DataLoader 0: 100%|██████████| 1/1 [00:00<00:00, 12.26it/s]"
     ]
    },
    {
     "name": "stderr",
     "output_type": "stream",
     "text": [
      "You are using the plain ModelCheckpoint callback. Consider using LitModelCheckpoint which with seamless uploading to Model registry.\n",
      "GPU available: False, used: False\n",
      "TPU available: False, using: 0 TPU cores\n",
      "HPU available: False, using: 0 HPUs\n",
      "\n",
      "  | Name          | Type       | Params | Mode \n",
      "-----------------------------------------------------\n",
      "0 | activation_fn | Tanh       | 0      | train\n",
      "1 | network       | Sequential | 27.5 K | train\n",
      "-----------------------------------------------------\n",
      "27.5 K    Trainable params\n",
      "0         Non-trainable params\n",
      "27.5 K    Total params\n",
      "0.110     Total estimated model params size (MB)\n",
      "6         Modules in train mode\n",
      "0         Modules in eval mode\n"
     ]
    },
    {
     "name": "stdout",
     "output_type": "stream",
     "text": [
      "\n",
      "────────────────────────────────────────────────────────────────────────────────────────────────────────────────────────\n",
      "     Validate metric           DataLoader 0\n",
      "────────────────────────────────────────────────────────────────────────────────────────────────────────────────────────\n",
      "    eval_noise_factor       0.10000000149011612\n",
      "     val_avg_reward         0.3921568691730499\n",
      "   val_pass_percentage       69.60784149169922\n",
      "────────────────────────────────────────────────────────────────────────────────────────────────────────────────────────\n",
      "\n",
      "Training model 45/64\n",
      "Parameters: {'learning_rate': 0.0005, 'lookback': 5, 'hidden_layers': [200, 100, 50], 'epsilon_start': 0.9, 'epsilon_end': 0.01, 'epsilon_decay_epochs': 5}\n",
      "Epoch 9: 100%|██████████| 1/1 [00:00<00:00,  1.55it/s, v_num=0, train_reward=0.529, train_loss=-0.0866, epsilon=0.010] "
     ]
    },
    {
     "name": "stderr",
     "output_type": "stream",
     "text": [
      "`Trainer.fit` stopped: `max_epochs=10` reached.\n"
     ]
    },
    {
     "name": "stdout",
     "output_type": "stream",
     "text": [
      "Epoch 9: 100%|██████████| 1/1 [00:00<00:00,  1.52it/s, v_num=0, train_reward=0.529, train_loss=-0.0866, epsilon=0.010]\n",
      "Validation DataLoader 0: 100%|██████████| 1/1 [00:00<00:00, 11.20it/s]"
     ]
    },
    {
     "name": "stderr",
     "output_type": "stream",
     "text": [
      "You are using the plain ModelCheckpoint callback. Consider using LitModelCheckpoint which with seamless uploading to Model registry.\n",
      "GPU available: False, used: False\n",
      "TPU available: False, using: 0 TPU cores\n",
      "HPU available: False, using: 0 HPUs\n",
      "\n",
      "  | Name          | Type       | Params | Mode \n",
      "-----------------------------------------------------\n",
      "0 | activation_fn | Tanh       | 0      | train\n",
      "1 | network       | Sequential | 27.5 K | train\n",
      "-----------------------------------------------------\n",
      "27.5 K    Trainable params\n",
      "0         Non-trainable params\n",
      "27.5 K    Total params\n",
      "0.110     Total estimated model params size (MB)\n",
      "6         Modules in train mode\n",
      "0         Modules in eval mode\n"
     ]
    },
    {
     "name": "stdout",
     "output_type": "stream",
     "text": [
      "\n",
      "────────────────────────────────────────────────────────────────────────────────────────────────────────────────────────\n",
      "     Validate metric           DataLoader 0\n",
      "────────────────────────────────────────────────────────────────────────────────────────────────────────────────────────\n",
      "    eval_noise_factor       0.10000000149011612\n",
      "     val_avg_reward         0.38235294818878174\n",
      "   val_pass_percentage       69.11764526367188\n",
      "────────────────────────────────────────────────────────────────────────────────────────────────────────────────────────\n",
      "\n",
      "Training model 46/64\n",
      "Parameters: {'learning_rate': 0.0005, 'lookback': 5, 'hidden_layers': [200, 100, 50], 'epsilon_start': 0.9, 'epsilon_end': 0.01, 'epsilon_decay_epochs': 10}\n",
      "Epoch 9: 100%|██████████| 1/1 [00:00<00:00,  1.52it/s, v_num=0, train_reward=0.686, train_loss=0.00391, epsilon=0.0157]"
     ]
    },
    {
     "name": "stderr",
     "output_type": "stream",
     "text": [
      "`Trainer.fit` stopped: `max_epochs=10` reached.\n"
     ]
    },
    {
     "name": "stdout",
     "output_type": "stream",
     "text": [
      "Epoch 9: 100%|██████████| 1/1 [00:00<00:00,  1.49it/s, v_num=0, train_reward=0.686, train_loss=0.00391, epsilon=0.0157]\n",
      "Validation DataLoader 0: 100%|██████████| 1/1 [00:00<00:00, 11.32it/s]"
     ]
    },
    {
     "name": "stderr",
     "output_type": "stream",
     "text": [
      "You are using the plain ModelCheckpoint callback. Consider using LitModelCheckpoint which with seamless uploading to Model registry.\n",
      "GPU available: False, used: False\n",
      "TPU available: False, using: 0 TPU cores\n",
      "HPU available: False, using: 0 HPUs\n",
      "\n",
      "  | Name          | Type       | Params | Mode \n",
      "-----------------------------------------------------\n",
      "0 | activation_fn | Tanh       | 0      | train\n",
      "1 | network       | Sequential | 27.5 K | train\n",
      "-----------------------------------------------------\n",
      "27.5 K    Trainable params\n",
      "0         Non-trainable params\n",
      "27.5 K    Total params\n",
      "0.110     Total estimated model params size (MB)\n",
      "6         Modules in train mode\n",
      "0         Modules in eval mode\n"
     ]
    },
    {
     "name": "stdout",
     "output_type": "stream",
     "text": [
      "\n",
      "────────────────────────────────────────────────────────────────────────────────────────────────────────────────────────\n",
      "     Validate metric           DataLoader 0\n",
      "────────────────────────────────────────────────────────────────────────────────────────────────────────────────────────\n",
      "    eval_noise_factor       0.10000000149011612\n",
      "     val_avg_reward         0.3137255012989044\n",
      "   val_pass_percentage       65.68627166748047\n",
      "────────────────────────────────────────────────────────────────────────────────────────────────────────────────────────\n",
      "\n",
      "Training model 47/64\n",
      "Parameters: {'learning_rate': 0.0005, 'lookback': 5, 'hidden_layers': [200, 100, 50], 'epsilon_start': 0.9, 'epsilon_end': 0.05, 'epsilon_decay_epochs': 5}\n",
      "Epoch 9: 100%|██████████| 1/1 [00:00<00:00,  1.58it/s, v_num=0, train_reward=0.422, train_loss=-0.355, epsilon=0.050] "
     ]
    },
    {
     "name": "stderr",
     "output_type": "stream",
     "text": [
      "`Trainer.fit` stopped: `max_epochs=10` reached.\n"
     ]
    },
    {
     "name": "stdout",
     "output_type": "stream",
     "text": [
      "Epoch 9: 100%|██████████| 1/1 [00:00<00:00,  1.55it/s, v_num=0, train_reward=0.422, train_loss=-0.355, epsilon=0.050]\n",
      "Validation DataLoader 0: 100%|██████████| 1/1 [00:00<00:00, 11.32it/s]"
     ]
    },
    {
     "name": "stderr",
     "output_type": "stream",
     "text": [
      "You are using the plain ModelCheckpoint callback. Consider using LitModelCheckpoint which with seamless uploading to Model registry.\n",
      "GPU available: False, used: False\n",
      "TPU available: False, using: 0 TPU cores\n",
      "HPU available: False, using: 0 HPUs\n",
      "\n",
      "  | Name          | Type       | Params | Mode \n",
      "-----------------------------------------------------\n",
      "0 | activation_fn | Tanh       | 0      | train\n",
      "1 | network       | Sequential | 27.5 K | train\n",
      "-----------------------------------------------------\n",
      "27.5 K    Trainable params\n",
      "0         Non-trainable params\n",
      "27.5 K    Total params\n",
      "0.110     Total estimated model params size (MB)\n",
      "6         Modules in train mode\n",
      "0         Modules in eval mode\n"
     ]
    },
    {
     "name": "stdout",
     "output_type": "stream",
     "text": [
      "\n",
      "────────────────────────────────────────────────────────────────────────────────────────────────────────────────────────\n",
      "     Validate metric           DataLoader 0\n",
      "────────────────────────────────────────────────────────────────────────────────────────────────────────────────────────\n",
      "    eval_noise_factor       0.10000000149011612\n",
      "     val_avg_reward         0.4019607901573181\n",
      "   val_pass_percentage       70.09803771972656\n",
      "────────────────────────────────────────────────────────────────────────────────────────────────────────────────────────\n",
      "\n",
      "Training model 48/64\n",
      "Parameters: {'learning_rate': 0.0005, 'lookback': 5, 'hidden_layers': [200, 100, 50], 'epsilon_start': 0.9, 'epsilon_end': 0.05, 'epsilon_decay_epochs': 10}\n",
      "Epoch 9: 100%|██████████| 1/1 [00:00<00:00,  1.60it/s, v_num=0, train_reward=0.627, train_loss=-0.664, epsilon=0.0668]"
     ]
    },
    {
     "name": "stderr",
     "output_type": "stream",
     "text": [
      "`Trainer.fit` stopped: `max_epochs=10` reached.\n"
     ]
    },
    {
     "name": "stdout",
     "output_type": "stream",
     "text": [
      "Epoch 9: 100%|██████████| 1/1 [00:00<00:00,  1.57it/s, v_num=0, train_reward=0.627, train_loss=-0.664, epsilon=0.0668]\n",
      "Validation DataLoader 0: 100%|██████████| 1/1 [00:00<00:00, 11.66it/s]"
     ]
    },
    {
     "name": "stderr",
     "output_type": "stream",
     "text": [
      "You are using the plain ModelCheckpoint callback. Consider using LitModelCheckpoint which with seamless uploading to Model registry.\n",
      "GPU available: False, used: False\n",
      "TPU available: False, using: 0 TPU cores\n",
      "HPU available: False, using: 0 HPUs\n",
      "\n",
      "  | Name          | Type       | Params | Mode \n",
      "-----------------------------------------------------\n",
      "0 | activation_fn | Tanh       | 0      | train\n",
      "1 | network       | Sequential | 12.6 K | train\n",
      "-----------------------------------------------------\n",
      "12.6 K    Trainable params\n",
      "0         Non-trainable params\n",
      "12.6 K    Total params\n",
      "0.051     Total estimated model params size (MB)\n",
      "6         Modules in train mode\n",
      "0         Modules in eval mode\n"
     ]
    },
    {
     "name": "stdout",
     "output_type": "stream",
     "text": [
      "\n",
      "────────────────────────────────────────────────────────────────────────────────────────────────────────────────────────\n",
      "     Validate metric           DataLoader 0\n",
      "────────────────────────────────────────────────────────────────────────────────────────────────────────────────────────\n",
      "    eval_noise_factor       0.10000000149011612\n",
      "     val_avg_reward         0.28431373834609985\n",
      "   val_pass_percentage       64.21568298339844\n",
      "────────────────────────────────────────────────────────────────────────────────────────────────────────────────────────\n",
      "\n",
      "Training model 49/64\n",
      "Parameters: {'learning_rate': 0.0005, 'lookback': 7, 'hidden_layers': [100, 100, 10], 'epsilon_start': 1.0, 'epsilon_end': 0.01, 'epsilon_decay_epochs': 5}\n",
      "Epoch 9: 100%|██████████| 1/1 [00:00<00:00,  1.66it/s, v_num=0, train_reward=0.436, train_loss=-0.0725, epsilon=0.010] "
     ]
    },
    {
     "name": "stderr",
     "output_type": "stream",
     "text": [
      "`Trainer.fit` stopped: `max_epochs=10` reached.\n"
     ]
    },
    {
     "name": "stdout",
     "output_type": "stream",
     "text": [
      "Epoch 9: 100%|██████████| 1/1 [00:00<00:00,  1.63it/s, v_num=0, train_reward=0.436, train_loss=-0.0725, epsilon=0.010]\n",
      "Validation DataLoader 0: 100%|██████████| 1/1 [00:00<00:00, 11.38it/s]"
     ]
    },
    {
     "name": "stderr",
     "output_type": "stream",
     "text": [
      "You are using the plain ModelCheckpoint callback. Consider using LitModelCheckpoint which with seamless uploading to Model registry.\n",
      "GPU available: False, used: False\n",
      "TPU available: False, using: 0 TPU cores\n",
      "HPU available: False, using: 0 HPUs\n",
      "\n",
      "  | Name          | Type       | Params | Mode \n",
      "-----------------------------------------------------\n",
      "0 | activation_fn | Tanh       | 0      | train\n",
      "1 | network       | Sequential | 12.6 K | train\n",
      "-----------------------------------------------------\n",
      "12.6 K    Trainable params\n",
      "0         Non-trainable params\n",
      "12.6 K    Total params\n",
      "0.051     Total estimated model params size (MB)\n",
      "6         Modules in train mode\n",
      "0         Modules in eval mode\n"
     ]
    },
    {
     "name": "stdout",
     "output_type": "stream",
     "text": [
      "\n",
      "────────────────────────────────────────────────────────────────────────────────────────────────────────────────────────\n",
      "     Validate metric           DataLoader 0\n",
      "────────────────────────────────────────────────────────────────────────────────────────────────────────────────────────\n",
      "    eval_noise_factor       0.10000000894069672\n",
      "     val_avg_reward         0.40594056248664856\n",
      "   val_pass_percentage       70.29702758789062\n",
      "────────────────────────────────────────────────────────────────────────────────────────────────────────────────────────\n",
      "\n",
      "Training model 50/64\n",
      "Parameters: {'learning_rate': 0.0005, 'lookback': 7, 'hidden_layers': [100, 100, 10], 'epsilon_start': 1.0, 'epsilon_end': 0.01, 'epsilon_decay_epochs': 10}\n",
      "Epoch 9: 100%|██████████| 1/1 [00:00<00:00,  1.69it/s, v_num=0, train_reward=0.505, train_loss=-0.0635, epsilon=0.0158]"
     ]
    },
    {
     "name": "stderr",
     "output_type": "stream",
     "text": [
      "`Trainer.fit` stopped: `max_epochs=10` reached.\n"
     ]
    },
    {
     "name": "stdout",
     "output_type": "stream",
     "text": [
      "Epoch 9: 100%|██████████| 1/1 [00:00<00:00,  1.65it/s, v_num=0, train_reward=0.505, train_loss=-0.0635, epsilon=0.0158]\n",
      "Validation DataLoader 0: 100%|██████████| 1/1 [00:00<00:00, 11.29it/s]"
     ]
    },
    {
     "name": "stderr",
     "output_type": "stream",
     "text": [
      "You are using the plain ModelCheckpoint callback. Consider using LitModelCheckpoint which with seamless uploading to Model registry.\n",
      "GPU available: False, used: False\n",
      "TPU available: False, using: 0 TPU cores\n",
      "HPU available: False, using: 0 HPUs\n",
      "\n",
      "  | Name          | Type       | Params | Mode \n",
      "-----------------------------------------------------\n",
      "0 | activation_fn | Tanh       | 0      | train\n",
      "1 | network       | Sequential | 12.6 K | train\n",
      "-----------------------------------------------------\n",
      "12.6 K    Trainable params\n",
      "0         Non-trainable params\n",
      "12.6 K    Total params\n",
      "0.051     Total estimated model params size (MB)\n",
      "6         Modules in train mode\n",
      "0         Modules in eval mode\n"
     ]
    },
    {
     "name": "stdout",
     "output_type": "stream",
     "text": [
      "\n",
      "────────────────────────────────────────────────────────────────────────────────────────────────────────────────────────\n",
      "     Validate metric           DataLoader 0\n",
      "────────────────────────────────────────────────────────────────────────────────────────────────────────────────────────\n",
      "    eval_noise_factor       0.10000000894069672\n",
      "     val_avg_reward          0.485148549079895\n",
      "   val_pass_percentage       74.2574234008789\n",
      "────────────────────────────────────────────────────────────────────────────────────────────────────────────────────────\n",
      "\n",
      "Training model 51/64\n",
      "Parameters: {'learning_rate': 0.0005, 'lookback': 7, 'hidden_layers': [100, 100, 10], 'epsilon_start': 1.0, 'epsilon_end': 0.05, 'epsilon_decay_epochs': 5}\n",
      "Epoch 9: 100%|██████████| 1/1 [00:00<00:00,  1.50it/s, v_num=0, train_reward=0.525, train_loss=-0.0926, epsilon=0.050]"
     ]
    },
    {
     "name": "stderr",
     "output_type": "stream",
     "text": [
      "`Trainer.fit` stopped: `max_epochs=10` reached.\n"
     ]
    },
    {
     "name": "stdout",
     "output_type": "stream",
     "text": [
      "Epoch 9: 100%|██████████| 1/1 [00:00<00:00,  1.47it/s, v_num=0, train_reward=0.525, train_loss=-0.0926, epsilon=0.050]\n",
      "Validation DataLoader 0: 100%|██████████| 1/1 [00:00<00:00, 10.92it/s]"
     ]
    },
    {
     "name": "stderr",
     "output_type": "stream",
     "text": [
      "You are using the plain ModelCheckpoint callback. Consider using LitModelCheckpoint which with seamless uploading to Model registry.\n",
      "GPU available: False, used: False\n",
      "TPU available: False, using: 0 TPU cores\n",
      "HPU available: False, using: 0 HPUs\n",
      "\n",
      "  | Name          | Type       | Params | Mode \n",
      "-----------------------------------------------------\n",
      "0 | activation_fn | Tanh       | 0      | train\n",
      "1 | network       | Sequential | 12.6 K | train\n",
      "-----------------------------------------------------\n",
      "12.6 K    Trainable params\n",
      "0         Non-trainable params\n",
      "12.6 K    Total params\n",
      "0.051     Total estimated model params size (MB)\n",
      "6         Modules in train mode\n",
      "0         Modules in eval mode\n"
     ]
    },
    {
     "name": "stdout",
     "output_type": "stream",
     "text": [
      "\n",
      "────────────────────────────────────────────────────────────────────────────────────────────────────────────────────────\n",
      "     Validate metric           DataLoader 0\n",
      "────────────────────────────────────────────────────────────────────────────────────────────────────────────────────────\n",
      "    eval_noise_factor       0.10000000894069672\n",
      "     val_avg_reward         0.32673266530036926\n",
      "   val_pass_percentage       66.33663177490234\n",
      "────────────────────────────────────────────────────────────────────────────────────────────────────────────────────────\n",
      "\n",
      "Training model 52/64\n",
      "Parameters: {'learning_rate': 0.0005, 'lookback': 7, 'hidden_layers': [100, 100, 10], 'epsilon_start': 1.0, 'epsilon_end': 0.05, 'epsilon_decay_epochs': 10}\n",
      "Epoch 9: 100%|██████████| 1/1 [00:00<00:00,  1.32it/s, v_num=0, train_reward=0.545, train_loss=-0.149, epsilon=0.0675]"
     ]
    },
    {
     "name": "stderr",
     "output_type": "stream",
     "text": [
      "`Trainer.fit` stopped: `max_epochs=10` reached.\n"
     ]
    },
    {
     "name": "stdout",
     "output_type": "stream",
     "text": [
      "Epoch 9: 100%|██████████| 1/1 [00:00<00:00,  1.29it/s, v_num=0, train_reward=0.545, train_loss=-0.149, epsilon=0.0675]\n",
      "Validation DataLoader 0: 100%|██████████| 1/1 [00:00<00:00, 11.49it/s]"
     ]
    },
    {
     "name": "stderr",
     "output_type": "stream",
     "text": [
      "You are using the plain ModelCheckpoint callback. Consider using LitModelCheckpoint which with seamless uploading to Model registry.\n",
      "GPU available: False, used: False\n",
      "TPU available: False, using: 0 TPU cores\n",
      "HPU available: False, using: 0 HPUs\n"
     ]
    },
    {
     "name": "stdout",
     "output_type": "stream",
     "text": [
      "\n",
      "────────────────────────────────────────────────────────────────────────────────────────────────────────────────────────\n",
      "     Validate metric           DataLoader 0\n",
      "────────────────────────────────────────────────────────────────────────────────────────────────────────────────────────\n",
      "    eval_noise_factor       0.10000000894069672\n",
      "     val_avg_reward         0.21782177686691284\n",
      "   val_pass_percentage      60.891090393066406\n",
      "────────────────────────────────────────────────────────────────────────────────────────────────────────────────────────\n",
      "\n",
      "Training model 53/64\n",
      "Parameters: {'learning_rate': 0.0005, 'lookback': 7, 'hidden_layers': [100, 100, 10], 'epsilon_start': 0.9, 'epsilon_end': 0.01, 'epsilon_decay_epochs': 5}\n"
     ]
    },
    {
     "name": "stderr",
     "output_type": "stream",
     "text": [
      "\n",
      "  | Name          | Type       | Params | Mode \n",
      "-----------------------------------------------------\n",
      "0 | activation_fn | Tanh       | 0      | train\n",
      "1 | network       | Sequential | 12.6 K | train\n",
      "-----------------------------------------------------\n",
      "12.6 K    Trainable params\n",
      "0         Non-trainable params\n",
      "12.6 K    Total params\n",
      "0.051     Total estimated model params size (MB)\n",
      "6         Modules in train mode\n",
      "0         Modules in eval mode\n"
     ]
    },
    {
     "name": "stdout",
     "output_type": "stream",
     "text": [
      "Epoch 9: 100%|██████████| 1/1 [00:00<00:00,  1.69it/s, v_num=0, train_reward=0.525, train_loss=-0.112, epsilon=0.010]  "
     ]
    },
    {
     "name": "stderr",
     "output_type": "stream",
     "text": [
      "`Trainer.fit` stopped: `max_epochs=10` reached.\n"
     ]
    },
    {
     "name": "stdout",
     "output_type": "stream",
     "text": [
      "Epoch 9: 100%|██████████| 1/1 [00:00<00:00,  1.65it/s, v_num=0, train_reward=0.525, train_loss=-0.112, epsilon=0.010]\n",
      "Validation DataLoader 0: 100%|██████████| 1/1 [00:00<00:00, 11.29it/s]"
     ]
    },
    {
     "name": "stderr",
     "output_type": "stream",
     "text": [
      "You are using the plain ModelCheckpoint callback. Consider using LitModelCheckpoint which with seamless uploading to Model registry.\n",
      "GPU available: False, used: False\n",
      "TPU available: False, using: 0 TPU cores\n",
      "HPU available: False, using: 0 HPUs\n",
      "\n",
      "  | Name          | Type       | Params | Mode \n",
      "-----------------------------------------------------\n",
      "0 | activation_fn | Tanh       | 0      | train\n",
      "1 | network       | Sequential | 12.6 K | train\n",
      "-----------------------------------------------------\n",
      "12.6 K    Trainable params\n",
      "0         Non-trainable params\n",
      "12.6 K    Total params\n",
      "0.051     Total estimated model params size (MB)\n",
      "6         Modules in train mode\n",
      "0         Modules in eval mode\n"
     ]
    },
    {
     "name": "stdout",
     "output_type": "stream",
     "text": [
      "\n",
      "────────────────────────────────────────────────────────────────────────────────────────────────────────────────────────\n",
      "     Validate metric           DataLoader 0\n",
      "────────────────────────────────────────────────────────────────────────────────────────────────────────────────────────\n",
      "    eval_noise_factor       0.10000000894069672\n",
      "     val_avg_reward         0.39603960514068604\n",
      "   val_pass_percentage       69.8019790649414\n",
      "────────────────────────────────────────────────────────────────────────────────────────────────────────────────────────\n",
      "\n",
      "Training model 54/64\n",
      "Parameters: {'learning_rate': 0.0005, 'lookback': 7, 'hidden_layers': [100, 100, 10], 'epsilon_start': 0.9, 'epsilon_end': 0.01, 'epsilon_decay_epochs': 10}\n",
      "Epoch 9: 100%|██████████| 1/1 [00:00<00:00,  1.00it/s, v_num=0, train_reward=0.515, train_loss=-0.109, epsilon=0.0157]"
     ]
    },
    {
     "name": "stderr",
     "output_type": "stream",
     "text": [
      "`Trainer.fit` stopped: `max_epochs=10` reached.\n"
     ]
    },
    {
     "name": "stdout",
     "output_type": "stream",
     "text": [
      "Epoch 9: 100%|██████████| 1/1 [00:01<00:00,  0.99it/s, v_num=0, train_reward=0.515, train_loss=-0.109, epsilon=0.0157]\n",
      "Validation DataLoader 0: 100%|██████████| 1/1 [00:00<00:00, 10.98it/s]"
     ]
    },
    {
     "name": "stderr",
     "output_type": "stream",
     "text": [
      "You are using the plain ModelCheckpoint callback. Consider using LitModelCheckpoint which with seamless uploading to Model registry.\n",
      "GPU available: False, used: False\n"
     ]
    },
    {
     "name": "stdout",
     "output_type": "stream",
     "text": [
      "\n",
      "────────────────────────────────────────────────────────────────────────────────────────────────────────────────────────\n",
      "     Validate metric           DataLoader 0\n",
      "────────────────────────────────────────────────────────────────────────────────────────────────────────────────────────\n",
      "    eval_noise_factor       0.10000000894069672\n",
      "     val_avg_reward         0.4356435537338257\n",
      "   val_pass_percentage       71.78218078613281\n",
      "────────────────────────────────────────────────────────────────────────────────────────────────────────────────────────\n",
      "\n",
      "Training model 55/64\n",
      "Parameters: {'learning_rate': 0.0005, 'lookback': 7, 'hidden_layers': [100, 100, 10], 'epsilon_start': 0.9, 'epsilon_end': 0.05, 'epsilon_decay_epochs': 5}\n"
     ]
    },
    {
     "name": "stderr",
     "output_type": "stream",
     "text": [
      "TPU available: False, using: 0 TPU cores\n",
      "HPU available: False, using: 0 HPUs\n",
      "\n",
      "  | Name          | Type       | Params | Mode \n",
      "-----------------------------------------------------\n",
      "0 | activation_fn | Tanh       | 0      | train\n",
      "1 | network       | Sequential | 12.6 K | train\n",
      "-----------------------------------------------------\n",
      "12.6 K    Trainable params\n",
      "0         Non-trainable params\n",
      "12.6 K    Total params\n",
      "0.051     Total estimated model params size (MB)\n",
      "6         Modules in train mode\n",
      "0         Modules in eval mode\n"
     ]
    },
    {
     "name": "stdout",
     "output_type": "stream",
     "text": [
      "Epoch 9: 100%|██████████| 1/1 [00:00<00:00,  1.23it/s, v_num=0, train_reward=0.446, train_loss=-0.151, epsilon=0.050] "
     ]
    },
    {
     "name": "stderr",
     "output_type": "stream",
     "text": [
      "`Trainer.fit` stopped: `max_epochs=10` reached.\n"
     ]
    },
    {
     "name": "stdout",
     "output_type": "stream",
     "text": [
      "Epoch 9: 100%|██████████| 1/1 [00:00<00:00,  1.21it/s, v_num=0, train_reward=0.446, train_loss=-0.151, epsilon=0.050]\n",
      "Validation DataLoader 0: 100%|██████████| 1/1 [00:00<00:00, 10.20it/s]"
     ]
    },
    {
     "name": "stderr",
     "output_type": "stream",
     "text": [
      "You are using the plain ModelCheckpoint callback. Consider using LitModelCheckpoint which with seamless uploading to Model registry.\n"
     ]
    },
    {
     "name": "stdout",
     "output_type": "stream",
     "text": [
      "\n",
      "────────────────────────────────────────────────────────────────────────────────────────────────────────────────────────\n",
      "     Validate metric           DataLoader 0\n",
      "────────────────────────────────────────────────────────────────────────────────────────────────────────────────────────\n",
      "    eval_noise_factor       0.10000000894069672\n",
      "     val_avg_reward         0.39603960514068604\n",
      "   val_pass_percentage       69.8019790649414\n",
      "────────────────────────────────────────────────────────────────────────────────────────────────────────────────────────\n",
      "\n",
      "Training model 56/64\n",
      "Parameters: {'learning_rate': 0.0005, 'lookback': 7, 'hidden_layers': [100, 100, 10], 'epsilon_start': 0.9, 'epsilon_end': 0.05, 'epsilon_decay_epochs': 10}\n"
     ]
    },
    {
     "name": "stderr",
     "output_type": "stream",
     "text": [
      "GPU available: False, used: False\n",
      "TPU available: False, using: 0 TPU cores\n",
      "HPU available: False, using: 0 HPUs\n",
      "\n",
      "  | Name          | Type       | Params | Mode \n",
      "-----------------------------------------------------\n",
      "0 | activation_fn | Tanh       | 0      | train\n",
      "1 | network       | Sequential | 12.6 K | train\n",
      "-----------------------------------------------------\n",
      "12.6 K    Trainable params\n",
      "0         Non-trainable params\n",
      "12.6 K    Total params\n",
      "0.051     Total estimated model params size (MB)\n",
      "6         Modules in train mode\n",
      "0         Modules in eval mode\n"
     ]
    },
    {
     "name": "stdout",
     "output_type": "stream",
     "text": [
      "Epoch 9: 100%|██████████| 1/1 [00:00<00:00,  1.48it/s, v_num=0, train_reward=0.356, train_loss=-0.395, epsilon=0.0668] "
     ]
    },
    {
     "name": "stderr",
     "output_type": "stream",
     "text": [
      "`Trainer.fit` stopped: `max_epochs=10` reached.\n"
     ]
    },
    {
     "name": "stdout",
     "output_type": "stream",
     "text": [
      "Epoch 9: 100%|██████████| 1/1 [00:00<00:00,  1.45it/s, v_num=0, train_reward=0.356, train_loss=-0.395, epsilon=0.0668]\n",
      "Validation DataLoader 0: 100%|██████████| 1/1 [00:00<00:00, 10.20it/s]"
     ]
    },
    {
     "name": "stderr",
     "output_type": "stream",
     "text": [
      "You are using the plain ModelCheckpoint callback. Consider using LitModelCheckpoint which with seamless uploading to Model registry.\n",
      "GPU available: False, used: False\n"
     ]
    },
    {
     "name": "stdout",
     "output_type": "stream",
     "text": [
      "\n",
      "────────────────────────────────────────────────────────────────────────────────────────────────────────────────────────\n",
      "     Validate metric           DataLoader 0\n",
      "────────────────────────────────────────────────────────────────────────────────────────────────────────────────────────\n",
      "    eval_noise_factor       0.10000000894069672\n",
      "     val_avg_reward         0.4356435537338257\n",
      "   val_pass_percentage       71.78218078613281\n",
      "────────────────────────────────────────────────────────────────────────────────────────────────────────────────────────\n",
      "\n",
      "Training model 57/64\n",
      "Parameters: {'learning_rate': 0.0005, 'lookback': 7, 'hidden_layers': [200, 100, 50], 'epsilon_start': 1.0, 'epsilon_end': 0.01, 'epsilon_decay_epochs': 5}\n"
     ]
    },
    {
     "name": "stderr",
     "output_type": "stream",
     "text": [
      "TPU available: False, using: 0 TPU cores\n",
      "HPU available: False, using: 0 HPUs\n",
      "\n",
      "  | Name          | Type       | Params | Mode \n",
      "-----------------------------------------------------\n",
      "0 | activation_fn | Tanh       | 0      | train\n",
      "1 | network       | Sequential | 28.3 K | train\n",
      "-----------------------------------------------------\n",
      "28.3 K    Trainable params\n",
      "0         Non-trainable params\n",
      "28.3 K    Total params\n",
      "0.113     Total estimated model params size (MB)\n",
      "6         Modules in train mode\n",
      "0         Modules in eval mode\n"
     ]
    },
    {
     "name": "stdout",
     "output_type": "stream",
     "text": [
      "Epoch 9: 100%|██████████| 1/1 [00:00<00:00,  1.55it/s, v_num=0, train_reward=0.525, train_loss=-0.114, epsilon=0.010] "
     ]
    },
    {
     "name": "stderr",
     "output_type": "stream",
     "text": [
      "`Trainer.fit` stopped: `max_epochs=10` reached.\n"
     ]
    },
    {
     "name": "stdout",
     "output_type": "stream",
     "text": [
      "Epoch 9: 100%|██████████| 1/1 [00:00<00:00,  1.51it/s, v_num=0, train_reward=0.525, train_loss=-0.114, epsilon=0.010]\n",
      "Validation DataLoader 0: 100%|██████████| 1/1 [00:00<00:00, 10.55it/s]"
     ]
    },
    {
     "name": "stderr",
     "output_type": "stream",
     "text": [
      "You are using the plain ModelCheckpoint callback. Consider using LitModelCheckpoint which with seamless uploading to Model registry.\n"
     ]
    },
    {
     "name": "stdout",
     "output_type": "stream",
     "text": [
      "\n",
      "────────────────────────────────────────────────────────────────────────────────────────────────────────────────────────\n",
      "     Validate metric           DataLoader 0\n",
      "────────────────────────────────────────────────────────────────────────────────────────────────────────────────────────\n",
      "    eval_noise_factor       0.10000000894069672\n",
      "     val_avg_reward         0.3564356565475464\n",
      "   val_pass_percentage       67.82178497314453\n",
      "────────────────────────────────────────────────────────────────────────────────────────────────────────────────────────\n",
      "\n",
      "Training model 58/64\n",
      "Parameters: {'learning_rate': 0.0005, 'lookback': 7, 'hidden_layers': [200, 100, 50], 'epsilon_start': 1.0, 'epsilon_end': 0.01, 'epsilon_decay_epochs': 10}\n"
     ]
    },
    {
     "name": "stderr",
     "output_type": "stream",
     "text": [
      "GPU available: False, used: False\n",
      "TPU available: False, using: 0 TPU cores\n",
      "HPU available: False, using: 0 HPUs\n",
      "\n",
      "  | Name          | Type       | Params | Mode \n",
      "-----------------------------------------------------\n",
      "0 | activation_fn | Tanh       | 0      | train\n",
      "1 | network       | Sequential | 28.3 K | train\n",
      "-----------------------------------------------------\n",
      "28.3 K    Trainable params\n",
      "0         Non-trainable params\n",
      "28.3 K    Total params\n",
      "0.113     Total estimated model params size (MB)\n",
      "6         Modules in train mode\n",
      "0         Modules in eval mode\n"
     ]
    },
    {
     "name": "stdout",
     "output_type": "stream",
     "text": [
      "Epoch 9: 100%|██████████| 1/1 [00:00<00:00,  1.20it/s, v_num=0, train_reward=0.475, train_loss=-0.228, epsilon=0.0158] "
     ]
    },
    {
     "name": "stderr",
     "output_type": "stream",
     "text": [
      "`Trainer.fit` stopped: `max_epochs=10` reached.\n"
     ]
    },
    {
     "name": "stdout",
     "output_type": "stream",
     "text": [
      "Epoch 9: 100%|██████████| 1/1 [00:00<00:00,  1.18it/s, v_num=0, train_reward=0.475, train_loss=-0.228, epsilon=0.0158]\n",
      "Validation DataLoader 0: 100%|██████████| 1/1 [00:00<00:00, 10.28it/s]"
     ]
    },
    {
     "name": "stderr",
     "output_type": "stream",
     "text": [
      "You are using the plain ModelCheckpoint callback. Consider using LitModelCheckpoint which with seamless uploading to Model registry.\n"
     ]
    },
    {
     "name": "stdout",
     "output_type": "stream",
     "text": [
      "\n",
      "────────────────────────────────────────────────────────────────────────────────────────────────────────────────────────\n",
      "     Validate metric           DataLoader 0\n",
      "────────────────────────────────────────────────────────────────────────────────────────────────────────────────────────\n",
      "    eval_noise_factor       0.10000000894069672\n",
      "     val_avg_reward         0.41584157943725586\n",
      "   val_pass_percentage       70.79207611083984\n",
      "────────────────────────────────────────────────────────────────────────────────────────────────────────────────────────\n",
      "\n",
      "Training model 59/64\n",
      "Parameters: {'learning_rate': 0.0005, 'lookback': 7, 'hidden_layers': [200, 100, 50], 'epsilon_start': 1.0, 'epsilon_end': 0.05, 'epsilon_decay_epochs': 5}\n"
     ]
    },
    {
     "name": "stderr",
     "output_type": "stream",
     "text": [
      "GPU available: False, used: False\n",
      "TPU available: False, using: 0 TPU cores\n",
      "HPU available: False, using: 0 HPUs\n",
      "\n",
      "  | Name          | Type       | Params | Mode \n",
      "-----------------------------------------------------\n",
      "0 | activation_fn | Tanh       | 0      | train\n",
      "1 | network       | Sequential | 28.3 K | train\n",
      "-----------------------------------------------------\n",
      "28.3 K    Trainable params\n",
      "0         Non-trainable params\n",
      "28.3 K    Total params\n",
      "0.113     Total estimated model params size (MB)\n",
      "6         Modules in train mode\n",
      "0         Modules in eval mode\n"
     ]
    },
    {
     "name": "stdout",
     "output_type": "stream",
     "text": [
      "Epoch 9: 100%|██████████| 1/1 [00:00<00:00,  1.36it/s, v_num=0, train_reward=0.515, train_loss=-0.153, epsilon=0.050] "
     ]
    },
    {
     "name": "stderr",
     "output_type": "stream",
     "text": [
      "`Trainer.fit` stopped: `max_epochs=10` reached.\n"
     ]
    },
    {
     "name": "stdout",
     "output_type": "stream",
     "text": [
      "Epoch 9: 100%|██████████| 1/1 [00:00<00:00,  1.34it/s, v_num=0, train_reward=0.515, train_loss=-0.153, epsilon=0.050]\n",
      "Validation DataLoader 0: 100%|██████████| 1/1 [00:00<00:00,  9.99it/s]"
     ]
    },
    {
     "name": "stderr",
     "output_type": "stream",
     "text": [
      "You are using the plain ModelCheckpoint callback. Consider using LitModelCheckpoint which with seamless uploading to Model registry.\n"
     ]
    },
    {
     "name": "stdout",
     "output_type": "stream",
     "text": [
      "\n",
      "────────────────────────────────────────────────────────────────────────────────────────────────────────────────────────\n",
      "     Validate metric           DataLoader 0\n",
      "────────────────────────────────────────────────────────────────────────────────────────────────────────────────────────\n",
      "    eval_noise_factor       0.10000000894069672\n",
      "     val_avg_reward         0.41584157943725586\n",
      "   val_pass_percentage       70.79207611083984\n",
      "────────────────────────────────────────────────────────────────────────────────────────────────────────────────────────\n",
      "\n",
      "Training model 60/64\n",
      "Parameters: {'learning_rate': 0.0005, 'lookback': 7, 'hidden_layers': [200, 100, 50], 'epsilon_start': 1.0, 'epsilon_end': 0.05, 'epsilon_decay_epochs': 10}\n"
     ]
    },
    {
     "name": "stderr",
     "output_type": "stream",
     "text": [
      "GPU available: False, used: False\n",
      "TPU available: False, using: 0 TPU cores\n",
      "HPU available: False, using: 0 HPUs\n",
      "\n",
      "  | Name          | Type       | Params | Mode \n",
      "-----------------------------------------------------\n",
      "0 | activation_fn | Tanh       | 0      | train\n",
      "1 | network       | Sequential | 28.3 K | train\n",
      "-----------------------------------------------------\n",
      "28.3 K    Trainable params\n",
      "0         Non-trainable params\n",
      "28.3 K    Total params\n",
      "0.113     Total estimated model params size (MB)\n",
      "6         Modules in train mode\n",
      "0         Modules in eval mode\n"
     ]
    },
    {
     "name": "stdout",
     "output_type": "stream",
     "text": [
      "Epoch 9: 100%|██████████| 1/1 [00:00<00:00,  1.36it/s, v_num=0, train_reward=0.475, train_loss=-0.579, epsilon=0.0675]"
     ]
    },
    {
     "name": "stderr",
     "output_type": "stream",
     "text": [
      "`Trainer.fit` stopped: `max_epochs=10` reached.\n"
     ]
    },
    {
     "name": "stdout",
     "output_type": "stream",
     "text": [
      "Epoch 9: 100%|██████████| 1/1 [00:00<00:00,  1.33it/s, v_num=0, train_reward=0.475, train_loss=-0.579, epsilon=0.0675]\n",
      "Validation DataLoader 0: 100%|██████████| 1/1 [00:00<00:00, 10.68it/s]"
     ]
    },
    {
     "name": "stderr",
     "output_type": "stream",
     "text": [
      "You are using the plain ModelCheckpoint callback. Consider using LitModelCheckpoint which with seamless uploading to Model registry.\n",
      "GPU available: False, used: False\n",
      "TPU available: False, using: 0 TPU cores\n",
      "HPU available: False, using: 0 HPUs\n"
     ]
    },
    {
     "name": "stdout",
     "output_type": "stream",
     "text": [
      "\n",
      "────────────────────────────────────────────────────────────────────────────────────────────────────────────────────────\n",
      "     Validate metric           DataLoader 0\n",
      "────────────────────────────────────────────────────────────────────────────────────────────────────────────────────────\n",
      "    eval_noise_factor       0.10000000894069672\n",
      "     val_avg_reward         0.40594056248664856\n",
      "   val_pass_percentage       70.29702758789062\n",
      "────────────────────────────────────────────────────────────────────────────────────────────────────────────────────────\n",
      "\n",
      "Training model 61/64\n",
      "Parameters: {'learning_rate': 0.0005, 'lookback': 7, 'hidden_layers': [200, 100, 50], 'epsilon_start': 0.9, 'epsilon_end': 0.01, 'epsilon_decay_epochs': 5}\n"
     ]
    },
    {
     "name": "stderr",
     "output_type": "stream",
     "text": [
      "\n",
      "  | Name          | Type       | Params | Mode \n",
      "-----------------------------------------------------\n",
      "0 | activation_fn | Tanh       | 0      | train\n",
      "1 | network       | Sequential | 28.3 K | train\n",
      "-----------------------------------------------------\n",
      "28.3 K    Trainable params\n",
      "0         Non-trainable params\n",
      "28.3 K    Total params\n",
      "0.113     Total estimated model params size (MB)\n",
      "6         Modules in train mode\n",
      "0         Modules in eval mode\n"
     ]
    },
    {
     "name": "stdout",
     "output_type": "stream",
     "text": [
      "Epoch 9: 100%|██████████| 1/1 [00:00<00:00,  1.39it/s, v_num=0, train_reward=0.485, train_loss=-0.131, epsilon=0.010] "
     ]
    },
    {
     "name": "stderr",
     "output_type": "stream",
     "text": [
      "`Trainer.fit` stopped: `max_epochs=10` reached.\n"
     ]
    },
    {
     "name": "stdout",
     "output_type": "stream",
     "text": [
      "Epoch 9: 100%|██████████| 1/1 [00:00<00:00,  1.37it/s, v_num=0, train_reward=0.485, train_loss=-0.131, epsilon=0.010]\n",
      "Validation DataLoader 0: 100%|██████████| 1/1 [00:00<00:00, 10.62it/s]"
     ]
    },
    {
     "name": "stderr",
     "output_type": "stream",
     "text": [
      "You are using the plain ModelCheckpoint callback. Consider using LitModelCheckpoint which with seamless uploading to Model registry.\n"
     ]
    },
    {
     "name": "stdout",
     "output_type": "stream",
     "text": [
      "\n",
      "────────────────────────────────────────────────────────────────────────────────────────────────────────────────────────\n",
      "     Validate metric           DataLoader 0\n",
      "────────────────────────────────────────────────────────────────────────────────────────────────────────────────────────\n",
      "    eval_noise_factor       0.10000000894069672\n",
      "     val_avg_reward         0.4554455876350403\n",
      "   val_pass_percentage       72.77227783203125\n",
      "────────────────────────────────────────────────────────────────────────────────────────────────────────────────────────\n",
      "\n",
      "Training model 62/64\n",
      "Parameters: {'learning_rate': 0.0005, 'lookback': 7, 'hidden_layers': [200, 100, 50], 'epsilon_start': 0.9, 'epsilon_end': 0.01, 'epsilon_decay_epochs': 10}\n"
     ]
    },
    {
     "name": "stderr",
     "output_type": "stream",
     "text": [
      "GPU available: False, used: False\n",
      "TPU available: False, using: 0 TPU cores\n",
      "HPU available: False, using: 0 HPUs\n",
      "\n",
      "  | Name          | Type       | Params | Mode \n",
      "-----------------------------------------------------\n",
      "0 | activation_fn | Tanh       | 0      | train\n",
      "1 | network       | Sequential | 28.3 K | train\n",
      "-----------------------------------------------------\n",
      "28.3 K    Trainable params\n",
      "0         Non-trainable params\n",
      "28.3 K    Total params\n",
      "0.113     Total estimated model params size (MB)\n",
      "6         Modules in train mode\n",
      "0         Modules in eval mode\n"
     ]
    },
    {
     "name": "stdout",
     "output_type": "stream",
     "text": [
      "Epoch 9: 100%|██████████| 1/1 [00:00<00:00,  1.29it/s, v_num=0, train_reward=0.495, train_loss=-0.0652, epsilon=0.0157]"
     ]
    },
    {
     "name": "stderr",
     "output_type": "stream",
     "text": [
      "`Trainer.fit` stopped: `max_epochs=10` reached.\n"
     ]
    },
    {
     "name": "stdout",
     "output_type": "stream",
     "text": [
      "Epoch 9: 100%|██████████| 1/1 [00:00<00:00,  1.26it/s, v_num=0, train_reward=0.495, train_loss=-0.0652, epsilon=0.0157]\n",
      "Validation DataLoader 0: 100%|██████████| 1/1 [00:00<00:00, 10.81it/s]"
     ]
    },
    {
     "name": "stderr",
     "output_type": "stream",
     "text": [
      "You are using the plain ModelCheckpoint callback. Consider using LitModelCheckpoint which with seamless uploading to Model registry.\n"
     ]
    },
    {
     "name": "stdout",
     "output_type": "stream",
     "text": [
      "\n",
      "────────────────────────────────────────────────────────────────────────────────────────────────────────────────────────\n",
      "     Validate metric           DataLoader 0\n",
      "────────────────────────────────────────────────────────────────────────────────────────────────────────────────────────\n",
      "    eval_noise_factor       0.10000000894069672\n",
      "     val_avg_reward         0.4653465449810028\n",
      "   val_pass_percentage       73.26732635498047\n",
      "────────────────────────────────────────────────────────────────────────────────────────────────────────────────────────\n",
      "\n",
      "Training model 63/64\n",
      "Parameters: {'learning_rate': 0.0005, 'lookback': 7, 'hidden_layers': [200, 100, 50], 'epsilon_start': 0.9, 'epsilon_end': 0.05, 'epsilon_decay_epochs': 5}\n"
     ]
    },
    {
     "name": "stderr",
     "output_type": "stream",
     "text": [
      "GPU available: False, used: False\n",
      "TPU available: False, using: 0 TPU cores\n",
      "HPU available: False, using: 0 HPUs\n",
      "\n",
      "  | Name          | Type       | Params | Mode \n",
      "-----------------------------------------------------\n",
      "0 | activation_fn | Tanh       | 0      | train\n",
      "1 | network       | Sequential | 28.3 K | train\n",
      "-----------------------------------------------------\n",
      "28.3 K    Trainable params\n",
      "0         Non-trainable params\n",
      "28.3 K    Total params\n",
      "0.113     Total estimated model params size (MB)\n",
      "6         Modules in train mode\n",
      "0         Modules in eval mode\n"
     ]
    },
    {
     "name": "stdout",
     "output_type": "stream",
     "text": [
      "Epoch 9: 100%|██████████| 1/1 [00:00<00:00,  1.26it/s, v_num=0, train_reward=0.396, train_loss=-0.277, epsilon=0.050] "
     ]
    },
    {
     "name": "stderr",
     "output_type": "stream",
     "text": [
      "`Trainer.fit` stopped: `max_epochs=10` reached.\n"
     ]
    },
    {
     "name": "stdout",
     "output_type": "stream",
     "text": [
      "Epoch 9: 100%|██████████| 1/1 [00:00<00:00,  1.24it/s, v_num=0, train_reward=0.396, train_loss=-0.277, epsilon=0.050]\n",
      "Validation DataLoader 0: 100%|██████████| 1/1 [00:00<00:00, 10.18it/s]"
     ]
    },
    {
     "name": "stderr",
     "output_type": "stream",
     "text": [
      "You are using the plain ModelCheckpoint callback. Consider using LitModelCheckpoint which with seamless uploading to Model registry.\n"
     ]
    },
    {
     "name": "stdout",
     "output_type": "stream",
     "text": [
      "\n",
      "────────────────────────────────────────────────────────────────────────────────────────────────────────────────────────\n",
      "     Validate metric           DataLoader 0\n",
      "────────────────────────────────────────────────────────────────────────────────────────────────────────────────────────\n",
      "    eval_noise_factor       0.10000000894069672\n",
      "     val_avg_reward         0.3366336524486542\n",
      "   val_pass_percentage       66.83168029785156\n",
      "────────────────────────────────────────────────────────────────────────────────────────────────────────────────────────\n",
      "\n",
      "Training model 64/64\n",
      "Parameters: {'learning_rate': 0.0005, 'lookback': 7, 'hidden_layers': [200, 100, 50], 'epsilon_start': 0.9, 'epsilon_end': 0.05, 'epsilon_decay_epochs': 10}\n"
     ]
    },
    {
     "name": "stderr",
     "output_type": "stream",
     "text": [
      "GPU available: False, used: False\n",
      "TPU available: False, using: 0 TPU cores\n",
      "HPU available: False, using: 0 HPUs\n",
      "\n",
      "  | Name          | Type       | Params | Mode \n",
      "-----------------------------------------------------\n",
      "0 | activation_fn | Tanh       | 0      | train\n",
      "1 | network       | Sequential | 28.3 K | train\n",
      "-----------------------------------------------------\n",
      "28.3 K    Trainable params\n",
      "0         Non-trainable params\n",
      "28.3 K    Total params\n",
      "0.113     Total estimated model params size (MB)\n",
      "6         Modules in train mode\n",
      "0         Modules in eval mode\n"
     ]
    },
    {
     "name": "stdout",
     "output_type": "stream",
     "text": [
      "Epoch 9: 100%|██████████| 1/1 [00:00<00:00,  1.43it/s, v_num=0, train_reward=0.366, train_loss=-0.906, epsilon=0.0668]"
     ]
    },
    {
     "name": "stderr",
     "output_type": "stream",
     "text": [
      "`Trainer.fit` stopped: `max_epochs=10` reached.\n"
     ]
    },
    {
     "name": "stdout",
     "output_type": "stream",
     "text": [
      "Epoch 9: 100%|██████████| 1/1 [00:00<00:00,  1.40it/s, v_num=0, train_reward=0.366, train_loss=-0.906, epsilon=0.0668]\n",
      "Validation DataLoader 0: 100%|██████████| 1/1 [00:00<00:00, 10.09it/s]\n",
      "────────────────────────────────────────────────────────────────────────────────────────────────────────────────────────\n",
      "     Validate metric           DataLoader 0\n",
      "────────────────────────────────────────────────────────────────────────────────────────────────────────────────────────\n",
      "    eval_noise_factor       0.10000000894069672\n",
      "     val_avg_reward         0.4653465449810028\n",
      "   val_pass_percentage       73.26732635498047\n",
      "────────────────────────────────────────────────────────────────────────────────────────────────────────────────────────\n"
     ]
    }
   ],
   "source": [
    "# Create tuner instance\n",
    "tuner = ModelTuner(\n",
    "    data_df=data_df,\n",
    "    base_log_dir=\"logs\",\n",
    "    target_column=\"value\",\n",
    ")\n",
    "\n",
    "# Train models with different hyperparameter combinations\n",
    "print(\"\\nStarting hyperparameter search...\")\n",
    "results = tuner.train(\n",
    "    param_ranges=param_ranges,\n",
    "    num_epochs=10,  # Using fewer epochs for quick tuning\n",
    "    base_params=base_params,\n",
    ")"
   ]
  },
  {
   "cell_type": "markdown",
   "metadata": {},
   "source": [
    "### 2.2 Analyze Tuning Results\n",
    "\n",
    "Let's examine the results of our hyperparameter search:"
   ]
  },
  {
   "cell_type": "code",
   "execution_count": 7,
   "metadata": {},
   "outputs": [
    {
     "name": "stdout",
     "output_type": "stream",
     "text": [
      "\n",
      "Tuning Results (sorted by validation reward):\n",
      "    learning_rate  lookback   hidden_layers  epsilon_start  epsilon_end  \\\n",
      "31         0.0010         7  [200, 100, 50]            0.9         0.05   \n",
      "8          0.0010         5  [200, 100, 50]            1.0         0.01   \n",
      "26         0.0010         7  [200, 100, 50]            1.0         0.05   \n",
      "29         0.0010         7  [200, 100, 50]            0.9         0.01   \n",
      "25         0.0010         7  [200, 100, 50]            1.0         0.01   \n",
      "..            ...       ...             ...            ...          ...   \n",
      "16         0.0010         7  [100, 100, 10]            1.0         0.01   \n",
      "47         0.0005         5  [200, 100, 50]            0.9         0.05   \n",
      "37         0.0005         5  [100, 100, 10]            0.9         0.01   \n",
      "51         0.0005         7  [100, 100, 10]            1.0         0.05   \n",
      "34         0.0005         5  [100, 100, 10]            1.0         0.05   \n",
      "\n",
      "    epsilon_decay_epochs  val_avg_reward  val_pass_percentage  \\\n",
      "31                    10        0.594059            79.702972   \n",
      "8                      5        0.568627            78.431374   \n",
      "26                     5        0.544554            77.227722   \n",
      "29                    10        0.524752            76.237625   \n",
      "25                    10        0.504951            75.247528   \n",
      "..                   ...             ...                  ...   \n",
      "16                     5        0.287129            64.356438   \n",
      "47                    10        0.284314            64.215683   \n",
      "37                    10        0.225490            61.274509   \n",
      "51                    10        0.217822            60.891090   \n",
      "34                     5        0.205882            60.294117   \n",
      "\n",
      "                                            model_dir  \n",
      "31  c:\\Users\\Collins P. Ohagwu\\Desktop\\pypi_projec...  \n",
      "8   c:\\Users\\Collins P. Ohagwu\\Desktop\\pypi_projec...  \n",
      "26  c:\\Users\\Collins P. Ohagwu\\Desktop\\pypi_projec...  \n",
      "29  c:\\Users\\Collins P. Ohagwu\\Desktop\\pypi_projec...  \n",
      "25  c:\\Users\\Collins P. Ohagwu\\Desktop\\pypi_projec...  \n",
      "..                                                ...  \n",
      "16  c:\\Users\\Collins P. Ohagwu\\Desktop\\pypi_projec...  \n",
      "47  c:\\Users\\Collins P. Ohagwu\\Desktop\\pypi_projec...  \n",
      "37  c:\\Users\\Collins P. Ohagwu\\Desktop\\pypi_projec...  \n",
      "51  c:\\Users\\Collins P. Ohagwu\\Desktop\\pypi_projec...  \n",
      "34  c:\\Users\\Collins P. Ohagwu\\Desktop\\pypi_projec...  \n",
      "\n",
      "[64 rows x 9 columns]\n",
      "\n",
      "Best Model Configuration:\n",
      "learning_rate: 0.001\n",
      "lookback: 7\n",
      "hidden_layers: [200, 100, 50]\n",
      "epsilon_start: 0.9\n",
      "epsilon_end: 0.05\n",
      "epsilon_decay_epochs: 10\n",
      "val_avg_reward: 0.594059407711029\n",
      "val_pass_percentage: 79.70297241210938\n",
      "model_dir: c:\\Users\\Collins P. Ohagwu\\Desktop\\pypi_projects\\timeseries_agent\\examples\\logs\\tuning/model_31\\version_0\n",
      "\n",
      "Best model checkpoint saved at: c:\\Users\\Collins P. Ohagwu\\Desktop\\pypi_projects\\timeseries_agent\\examples\\logs\\tuning/model_31\\version_0\n"
     ]
    }
   ],
   "source": [
    "print(\"\\nTuning Results (sorted by validation reward):\")\n",
    "print(results)\n",
    "\n",
    "# Get best performing model details\n",
    "best_model = results.iloc[0]\n",
    "print(\"\\nBest Model Configuration:\")\n",
    "for param, value in best_model.items():\n",
    "    print(f\"{param}: {value}\")\n",
    "\n",
    "print(f\"\\nBest model checkpoint saved at: {best_model['model_dir']}\")"
   ]
  },
  {
   "cell_type": "markdown",
   "metadata": {},
   "source": [
    "## Part 3: Training Final Model with Best Parameters\n",
    "\n",
    "### 3.1 Setup Final Training\n",
    "\n",
    "Extract and prepare the best parameters for final training:"
   ]
  },
  {
   "cell_type": "code",
   "execution_count": 8,
   "metadata": {},
   "outputs": [
    {
     "name": "stdout",
     "output_type": "stream",
     "text": [
      "\n",
      "Final Training Parameters:\n",
      "normalize_state: True\n",
      "eval_noise_factor: 0.1\n",
      "learning_rate: 0.001\n",
      "lookback: 7\n",
      "hidden_layers: [200, 100, 50]\n",
      "epsilon_start: 0.9\n",
      "epsilon_end: 0.05\n",
      "epsilon_decay_epochs: 10\n"
     ]
    }
   ],
   "source": [
    "# Extract best hyperparameters\n",
    "best_params = {\n",
    "    'learning_rate': best_model['learning_rate'],\n",
    "    'lookback': best_model['lookback'],\n",
    "    'hidden_layers': best_model['hidden_layers'],\n",
    "    'epsilon_start': best_model['epsilon_start'],\n",
    "    'epsilon_end': best_model['epsilon_end'],\n",
    "    'epsilon_decay_epochs': best_model['epsilon_decay_epochs'],\n",
    "}\n",
    "\n",
    "# Combine with base parameters\n",
    "final_params = {**base_params, **best_params}\n",
    "\n",
    "print(\"\\nFinal Training Parameters:\")\n",
    "for param, value in final_params.items():\n",
    "    print(f\"{param}: {value}\")"
   ]
  },
  {
   "cell_type": "markdown",
   "metadata": {},
   "source": [
    "### 3.2 Train Final Model\n",
    "\n",
    "Train a new model using the best parameters:"
   ]
  },
  {
   "cell_type": "code",
   "execution_count": 9,
   "metadata": {},
   "outputs": [
    {
     "name": "stderr",
     "output_type": "stream",
     "text": [
      "You are using the plain ModelCheckpoint callback. Consider using LitModelCheckpoint which with seamless uploading to Model registry.\n",
      "GPU available: False, used: False\n",
      "TPU available: False, using: 0 TPU cores\n",
      "HPU available: False, using: 0 HPUs\n",
      "c:\\Users\\Collins P. Ohagwu\\anaconda3\\envs\\tests\\Lib\\site-packages\\lightning\\pytorch\\trainer\\configuration_validator.py:70: You defined a `validation_step` but have no `val_dataloader`. Skipping val loop.\n",
      "\n",
      "  | Name          | Type       | Params | Mode \n",
      "-----------------------------------------------------\n",
      "0 | activation_fn | Tanh       | 0      | train\n",
      "1 | network       | Sequential | 28.3 K | train\n",
      "-----------------------------------------------------\n",
      "28.3 K    Trainable params\n",
      "0         Non-trainable params\n",
      "28.3 K    Total params\n",
      "0.113     Total estimated model params size (MB)\n",
      "6         Modules in train mode\n",
      "0         Modules in eval mode\n",
      "c:\\Users\\Collins P. Ohagwu\\anaconda3\\envs\\tests\\Lib\\site-packages\\lightning\\pytorch\\trainer\\connectors\\data_connector.py:425: The 'train_dataloader' does not have many workers which may be a bottleneck. Consider increasing the value of the `num_workers` argument` to `num_workers=15` in the `DataLoader` to improve performance.\n"
     ]
    },
    {
     "name": "stdout",
     "output_type": "stream",
     "text": [
      "\n",
      "Training final model with best parameters...\n",
      "Epoch 999: 100%|██████████| 1/1 [00:00<00:00,  2.57it/s, v_num=0, train_reward=0.198, train_loss=-0.103, epsilon=0.050]  "
     ]
    },
    {
     "name": "stderr",
     "output_type": "stream",
     "text": [
      "`Trainer.fit` stopped: `max_epochs=1000` reached.\n"
     ]
    },
    {
     "name": "stdout",
     "output_type": "stream",
     "text": [
      "Epoch 999: 100%|██████████| 1/1 [00:00<00:00,  2.49it/s, v_num=0, train_reward=0.198, train_loss=-0.103, epsilon=0.050]"
     ]
    },
    {
     "name": "stderr",
     "output_type": "stream",
     "text": [
      "c:\\Users\\Collins P. Ohagwu\\anaconda3\\envs\\tests\\Lib\\site-packages\\lightning\\pytorch\\trainer\\connectors\\data_connector.py:425: The 'val_dataloader' does not have many workers which may be a bottleneck. Consider increasing the value of the `num_workers` argument` to `num_workers=15` in the `DataLoader` to improve performance.\n"
     ]
    },
    {
     "name": "stdout",
     "output_type": "stream",
     "text": [
      "\n",
      "\n",
      "Training finished.\n",
      "\n",
      "Evaluating final model...\n",
      "Validation DataLoader 0: 100%|██████████| 1/1 [00:00<00:00, 10.59it/s]\n",
      "────────────────────────────────────────────────────────────────────────────────────────────────────────────────────────\n",
      "     Validate metric           DataLoader 0\n",
      "────────────────────────────────────────────────────────────────────────────────────────────────────────────────────────\n",
      "    eval_noise_factor       0.10000000894069672\n",
      "     val_avg_reward          0.485148549079895\n",
      "   val_pass_percentage       74.2574234008789\n",
      "────────────────────────────────────────────────────────────────────────────────────────────────────────────────────────\n",
      "Evaluation finished.\n"
     ]
    }
   ],
   "source": [
    "# Create dataset\n",
    "final_dataset = RLTimeSeriesDataset(\n",
    "    data=data_df,\n",
    "    lookback=best_params['lookback'],\n",
    ")\n",
    "dataloader = DataLoader(final_dataset, batch_size=len(final_dataset), shuffle=False, num_workers=0)\n",
    "\n",
    "# Create agent with best parameters\n",
    "agent = PolicyGradientAgent(\n",
    "    full_data=data_df,\n",
    "    target_column=\"value\",\n",
    "    input_features=data_df.shape[1],\n",
    "    output_size=3,\n",
    "    **final_params\n",
    ")\n",
    "\n",
    "# Setup trainer\n",
    "trainer = L.Trainer(\n",
    "    max_epochs=1000,  # More epochs for final training\n",
    "    accelerator='auto',\n",
    "    devices='auto',\n",
    "    log_every_n_steps=1,\n",
    "    enable_checkpointing=True,\n",
    "    logger=L.pytorch.loggers.CSVLogger(\"logs\", name=\"tuning_final_model\"),\n",
    "    deterministic=True,\n",
    ")\n",
    "\n",
    "print(\"\\nTraining final model with best parameters...\")\n",
    "trainer.fit(agent, dataloader)\n",
    "print(\"\\nTraining finished.\")\n",
    "\n",
    "print(\"\\nEvaluating final model...\")\n",
    "trainer.validate(model=agent, dataloaders=dataloader)\n",
    "print(\"Evaluation finished.\")"
   ]
  },
  {
   "cell_type": "markdown",
   "metadata": {},
   "source": [
    "### 3.3 Save and Visualize Results\n",
    "\n",
    "Save the final model and plot the training progress:"
   ]
  },
  {
   "cell_type": "code",
   "execution_count": 11,
   "metadata": {},
   "outputs": [
    {
     "name": "stdout",
     "output_type": "stream",
     "text": [
      "Final model saved to: logs\\tuning_final_model\\version_0\\final_model.ckpt\n"
     ]
    },
    {
     "data": {
      "image/png": "[encoded data removed]",
      "text/plain": [
       "<Figure size 1000x600 with 2 Axes>"
      ]
     },
     "metadata": {},
     "output_type": "display_data"
    }
   ],
   "source": [
    "# Save model\n",
    "model_dir = trainer.logger.log_dir\n",
    "trainer.save_checkpoint(os.path.join(model_dir, \"final_model.ckpt\"))\n",
    "print(f\"Final model saved to: {os.path.join(model_dir, 'final_model.ckpt')}\")\n",
    "\n",
    "# Plot training logs\n",
    "logs = pd.read_csv(os.path.join(model_dir, \"metrics.csv\"))\n",
    "logs.set_index('epoch', inplace=True)\n",
    "logs[['train_reward', 'train_loss']].plot(subplots=True, figsize=(10, 6))\n",
    "plt.title(\"Final Model Training Progress\")\n",
    "plt.show()"
   ]
  }
 ],
 "metadata": {
  "kernelspec": {
   "display_name": "tests",
   "language": "python",
   "name": "python3"
  },
  "language_info": {
   "codemirror_mode": {
    "name": "ipython",
    "version": 3
   },
   "file_extension": ".py",
   "mimetype": "text/x-python",
   "name": "python",
   "nbconvert_exporter": "python",
   "pygments_lexer": "ipython3",
   "version": "3.12.9"
  }
 },
 "nbformat": 4,
 "nbformat_minor": 4
}
