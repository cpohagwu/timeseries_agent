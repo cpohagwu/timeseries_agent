{
 "cells": [
  {
   "cell_type": "markdown",
   "metadata": {},
   "source": [
    "# Genetic Tuner Tutorial\n",
    "\n",
    "This notebook demonstrates how to use the `GeneticTuner` to find optimal hyperparameters for a TimeSeries Agent."
   ]
  },
  {
   "cell_type": "code",
   "execution_count": 1,
   "metadata": {},
   "outputs": [],
   "source": [
    "import os\n",
    "import pandas as pd\n",
    "import numpy as np\n",
    "from collections import Counter\n",
    "from timeseries_agent.tuners.genetic import GeneticTuner\n",
    "from timeseries_agent.api import load_agent\n",
    "from timeseries_agent.utils.extras import plot_evolution_of_fitness_scores_across_generations, plot_average_diversity_scores_across_generations\n",
    "import warnings\n",
    "warnings.filterwarnings(\"ignore\")"
   ]
  },
  {
   "cell_type": "markdown",
   "metadata": {},
   "source": [
    "## 1. Get Synthetic Data"
   ]
  },
  {
   "cell_type": "code",
   "execution_count": 2,
   "metadata": {},
   "outputs": [],
   "source": [
    "# Load data\n",
    "df = pd.read_csv(\"https://raw.githubusercontent.com/datasets/global-temp/main/data/monthly.csv\")\n",
    "df = df[df['Source'] == 'gcag']\n",
    "df = df[['Year', 'Mean']]\n",
    "df['temperature'] = df['Mean']\n",
    "df.drop(columns=['Mean'], inplace=True)\n",
    "\n",
    "# Train test split\n",
    "target_column = 'temperature'\n",
    "df = df.head(1000)\n",
    "last_n_test_rows = 100\n",
    "train_data = df.iloc[:-last_n_test_rows]\n",
    "test_data = df.tail(last_n_test_rows)\n",
    "\n",
    "# Add lags\n",
    "train_data['Lag1'] = train_data[target_column].shift(1)\n",
    "train_data['Lag2'] = train_data[target_column].shift(2)\n",
    "test_data['Lag1'] = test_data[target_column].shift(1)\n",
    "test_data['Lag2'] = test_data[target_column].shift(2)\n",
    "\n",
    "train_data = train_data.dropna(subset=['Lag1', 'Lag2'])\n",
    "test_data = test_data.dropna(subset=['Lag1', 'Lag2'])\n",
    "\n",
    "# Save data to dir\n",
    "DATA_DIR = 'data'\n",
    "os.makedirs(DATA_DIR, exist_ok=True)\n",
    "train_csv_path = os.path.join(DATA_DIR, 'global_temp_train.csv')\n",
    "test_csv_path = os.path.join(DATA_DIR, 'global_temp_test.csv')\n",
    "train_data.to_csv(train_csv_path, index=False)\n",
    "test_data.to_csv(test_csv_path, index=False)"
   ]
  },
  {
   "cell_type": "markdown",
   "metadata": {},
   "source": [
    "## 2. Define Parameter Search Space"
   ]
  },
  {
   "cell_type": "code",
   "execution_count": 3,
   "metadata": {},
   "outputs": [],
   "source": [
    "# Parameter grid to explore\n",
    "params_grid = {\n",
    "    'learning_rate': [0.001, 0.0005, 0.0001],\n",
    "    'lookback': [5, 10, 15],\n",
    "    'hidden_layers': [\n",
    "        [50, 50],\n",
    "        [100, 100, 10],\n",
    "        [200, 100, 50],\n",
    "    ],\n",
    "}\n",
    "\n",
    "# Base parameters that will be the same for all models\n",
    "base_params = {\n",
    "    'csv_path': train_csv_path,\n",
    "    'feature_cols': ['Lag1', 'Lag2', 'temperature'],\n",
    "    'target_col': 'temperature',\n",
    "    'env_kwargs': {\n",
    "        'normalize_state': True,\n",
    "        'test_size': 0.2\n",
    "    },\n",
    "    'agent_kwargs': {\n",
    "        'agent_type': 'reinforce',\n",
    "        'output_size': 3,\n",
    "    },\n",
    "    'trainer_kwargs': {\n",
    "        'max_epochs': 10,\n",
    "        'enable_checkpointing': True,\n",
    "    }\n",
    "}\n",
    "\n",
    "# Genetic Algorithm Configuration\n",
    "genetic_params = {\n",
    "    'population_size': 5,               # Size of each generation's population\n",
    "    'num_generations': 3,               # Number of generations to evolve\n",
    "    'mutation_rate': 0.1,               # Probability of parameter mutation\n",
    "    'elitism_count': 1,                 # Number of best individuals to preserve\n",
    "    'initial_temperature': 100.0,       # Initial temperature for simulated annealing\n",
    "    'cooling_rate': 0.95,               # Rate at which temperature decreases\n",
    "}"
   ]
  },
  {
   "cell_type": "markdown",
   "metadata": {},
   "source": [
    "## 3. Run Genetic Tuner"
   ]
  },
  {
   "cell_type": "code",
   "execution_count": 4,
   "metadata": {},
   "outputs": [
    {
     "name": "stderr",
     "output_type": "stream",
     "text": [
      "GPU available: False, used: False\n",
      "TPU available: False, using: 0 TPU cores\n",
      "HPU available: False, using: 0 HPUs\n",
      "\n",
      "  | Name          | Type       | Params | Mode \n",
      "-----------------------------------------------------\n",
      "0 | activation_fn | Tanh       | 0      | train\n",
      "1 | policy_net    | Sequential | 3.5 K  | train\n",
      "-----------------------------------------------------\n",
      "3.5 K     Trainable params\n",
      "0         Non-trainable params\n",
      "3.5 K     Total params\n",
      "0.014     Total estimated model params size (MB)\n",
      "5         Modules in train mode\n",
      "0         Modules in eval mode\n"
     ]
    },
    {
     "name": "stdout",
     "output_type": "stream",
     "text": [
      "\n",
      "Generation 1/3\n",
      "\n",
      "Evaluating model 1/5\n",
      "Parameters: {'learning_rate': 0.001, 'lookback': 5, 'hidden_layers': [50, 50]}\n",
      "Epoch 2: 100%|██████████| 1/1 [00:00<00:00,  1.95it/s, v_num=0, train_reward=-77.5, train_steps=712.0, train_loss=5.260, train_epsilon=0.832, train_accuracy=0.344, train_precision=0.512, train_recall=0.344, train_f1=0.410]\n",
      "Validation DataLoader 0: 100%|██████████| 1/1 [00:00<00:00, 12.61it/s]\n"
     ]
    },
    {
     "data": {
      "text/html": [
       "<pre style=\"white-space:pre;overflow-x:auto;line-height:normal;font-family:Menlo,'DejaVu Sans Mono',consolas,'Courier New',monospace\">┏━━━━━━━━━━━━━━━━━━━━━━━━━━━┳━━━━━━━━━━━━━━━━━━━━━━━━━━━┓\n",
       "┃<span style=\"font-weight: bold\">      Validate metric      </span>┃<span style=\"font-weight: bold\">       DataLoader 0        </span>┃\n",
       "┡━━━━━━━━━━━━━━━━━━━━━━━━━━━╇━━━━━━━━━━━━━━━━━━━━━━━━━━━┩\n",
       "│<span style=\"color: #008080; text-decoration-color: #008080\">       val_accuracy        </span>│<span style=\"color: #800080; text-decoration-color: #800080\">    0.3735632300376892     </span>│\n",
       "│<span style=\"color: #008080; text-decoration-color: #008080\">          val_f1           </span>│<span style=\"color: #800080; text-decoration-color: #800080\">     0.41632279753685      </span>│\n",
       "│<span style=\"color: #008080; text-decoration-color: #008080\">       val_precision       </span>│<span style=\"color: #800080; text-decoration-color: #800080\">    0.4757562577724457     </span>│\n",
       "│<span style=\"color: #008080; text-decoration-color: #008080\">        val_recall         </span>│<span style=\"color: #800080; text-decoration-color: #800080\">    0.3735632300376892     </span>│\n",
       "│<span style=\"color: #008080; text-decoration-color: #008080\">        val_reward         </span>│<span style=\"color: #800080; text-decoration-color: #800080\">   -0.25384995341300964    </span>│\n",
       "│<span style=\"color: #008080; text-decoration-color: #008080\">         val_steps         </span>│<span style=\"color: #800080; text-decoration-color: #800080\">           174.0           </span>│\n",
       "└───────────────────────────┴───────────────────────────┘\n",
       "</pre>\n"
      ],
      "text/plain": [
       "┏━━━━━━━━━━━━━━━━━━━━━━━━━━━┳━━━━━━━━━━━━━━━━━━━━━━━━━━━┓\n",
       "┃\u001b[1m \u001b[0m\u001b[1m     Validate metric     \u001b[0m\u001b[1m \u001b[0m┃\u001b[1m \u001b[0m\u001b[1m      DataLoader 0       \u001b[0m\u001b[1m \u001b[0m┃\n",
       "┡━━━━━━━━━━━━━━━━━━━━━━━━━━━╇━━━━━━━━━━━━━━━━━━━━━━━━━━━┩\n",
       "│\u001b[36m \u001b[0m\u001b[36m      val_accuracy       \u001b[0m\u001b[36m \u001b[0m│\u001b[35m \u001b[0m\u001b[35m   0.3735632300376892    \u001b[0m\u001b[35m \u001b[0m│\n",
       "│\u001b[36m \u001b[0m\u001b[36m         val_f1          \u001b[0m\u001b[36m \u001b[0m│\u001b[35m \u001b[0m\u001b[35m    0.41632279753685     \u001b[0m\u001b[35m \u001b[0m│\n",
       "│\u001b[36m \u001b[0m\u001b[36m      val_precision      \u001b[0m\u001b[36m \u001b[0m│\u001b[35m \u001b[0m\u001b[35m   0.4757562577724457    \u001b[0m\u001b[35m \u001b[0m│\n",
       "│\u001b[36m \u001b[0m\u001b[36m       val_recall        \u001b[0m\u001b[36m \u001b[0m│\u001b[35m \u001b[0m\u001b[35m   0.3735632300376892    \u001b[0m\u001b[35m \u001b[0m│\n",
       "│\u001b[36m \u001b[0m\u001b[36m       val_reward        \u001b[0m\u001b[36m \u001b[0m│\u001b[35m \u001b[0m\u001b[35m  -0.25384995341300964   \u001b[0m\u001b[35m \u001b[0m│\n",
       "│\u001b[36m \u001b[0m\u001b[36m        val_steps        \u001b[0m\u001b[36m \u001b[0m│\u001b[35m \u001b[0m\u001b[35m          174.0          \u001b[0m\u001b[35m \u001b[0m│\n",
       "└───────────────────────────┴───────────────────────────┘\n"
      ]
     },
     "metadata": {},
     "output_type": "display_data"
    },
    {
     "name": "stdout",
     "output_type": "stream",
     "text": [
      "Validation DataLoader 0: 100%|██████████| 1/1 [00:00<00:00, 15.35it/s]\n",
      "\n",
      "Evaluating model 2/5\n",
      "Parameters: {'learning_rate': 0.0001, 'lookback': 15, 'hidden_layers': [100, 100, 10]}\n"
     ]
    },
    {
     "name": "stderr",
     "output_type": "stream",
     "text": [
      "GPU available: False, used: False\n",
      "TPU available: False, using: 0 TPU cores\n",
      "HPU available: False, using: 0 HPUs\n",
      "\n",
      "  | Name          | Type       | Params | Mode \n",
      "-----------------------------------------------------\n",
      "0 | activation_fn | Tanh       | 0      | train\n",
      "1 | policy_net    | Sequential | 15.7 K | train\n",
      "-----------------------------------------------------\n",
      "15.7 K    Trainable params\n",
      "0         Non-trainable params\n",
      "15.7 K    Total params\n",
      "0.063     Total estimated model params size (MB)\n",
      "6         Modules in train mode\n",
      "0         Modules in eval mode\n"
     ]
    },
    {
     "name": "stdout",
     "output_type": "stream",
     "text": [
      "Epoch 6: 100%|██████████| 1/1 [00:00<00:00,  1.66it/s, v_num=0, train_reward=-70.5, train_steps=702.0, train_loss=-12.7, train_epsilon=0.575, train_accuracy=0.332, train_precision=0.470, train_recall=0.332, train_f1=0.389]\n",
      "Validation DataLoader 0: 100%|██████████| 1/1 [00:00<00:00, 11.83it/s]\n"
     ]
    },
    {
     "data": {
      "text/html": [
       "<pre style=\"white-space:pre;overflow-x:auto;line-height:normal;font-family:Menlo,'DejaVu Sans Mono',consolas,'Courier New',monospace\">┏━━━━━━━━━━━━━━━━━━━━━━━━━━━┳━━━━━━━━━━━━━━━━━━━━━━━━━━━┓\n",
       "┃<span style=\"font-weight: bold\">      Validate metric      </span>┃<span style=\"font-weight: bold\">       DataLoader 0        </span>┃\n",
       "┡━━━━━━━━━━━━━━━━━━━━━━━━━━━╇━━━━━━━━━━━━━━━━━━━━━━━━━━━┩\n",
       "│<span style=\"color: #008080; text-decoration-color: #008080\">       val_accuracy        </span>│<span style=\"color: #800080; text-decoration-color: #800080\">    0.37195122241973877    </span>│\n",
       "│<span style=\"color: #008080; text-decoration-color: #008080\">          val_f1           </span>│<span style=\"color: #800080; text-decoration-color: #800080\">    0.4265214800834656     </span>│\n",
       "│<span style=\"color: #008080; text-decoration-color: #008080\">       val_precision       </span>│<span style=\"color: #800080; text-decoration-color: #800080\">    0.49986231327056885    </span>│\n",
       "│<span style=\"color: #008080; text-decoration-color: #008080\">        val_recall         </span>│<span style=\"color: #800080; text-decoration-color: #800080\">    0.37195122241973877    </span>│\n",
       "│<span style=\"color: #008080; text-decoration-color: #008080\">        val_reward         </span>│<span style=\"color: #800080; text-decoration-color: #800080\">    -0.2552797794342041    </span>│\n",
       "│<span style=\"color: #008080; text-decoration-color: #008080\">         val_steps         </span>│<span style=\"color: #800080; text-decoration-color: #800080\">           164.0           </span>│\n",
       "└───────────────────────────┴───────────────────────────┘\n",
       "</pre>\n"
      ],
      "text/plain": [
       "┏━━━━━━━━━━━━━━━━━━━━━━━━━━━┳━━━━━━━━━━━━━━━━━━━━━━━━━━━┓\n",
       "┃\u001b[1m \u001b[0m\u001b[1m     Validate metric     \u001b[0m\u001b[1m \u001b[0m┃\u001b[1m \u001b[0m\u001b[1m      DataLoader 0       \u001b[0m\u001b[1m \u001b[0m┃\n",
       "┡━━━━━━━━━━━━━━━━━━━━━━━━━━━╇━━━━━━━━━━━━━━━━━━━━━━━━━━━┩\n",
       "│\u001b[36m \u001b[0m\u001b[36m      val_accuracy       \u001b[0m\u001b[36m \u001b[0m│\u001b[35m \u001b[0m\u001b[35m   0.37195122241973877   \u001b[0m\u001b[35m \u001b[0m│\n",
       "│\u001b[36m \u001b[0m\u001b[36m         val_f1          \u001b[0m\u001b[36m \u001b[0m│\u001b[35m \u001b[0m\u001b[35m   0.4265214800834656    \u001b[0m\u001b[35m \u001b[0m│\n",
       "│\u001b[36m \u001b[0m\u001b[36m      val_precision      \u001b[0m\u001b[36m \u001b[0m│\u001b[35m \u001b[0m\u001b[35m   0.49986231327056885   \u001b[0m\u001b[35m \u001b[0m│\n",
       "│\u001b[36m \u001b[0m\u001b[36m       val_recall        \u001b[0m\u001b[36m \u001b[0m│\u001b[35m \u001b[0m\u001b[35m   0.37195122241973877   \u001b[0m\u001b[35m \u001b[0m│\n",
       "│\u001b[36m \u001b[0m\u001b[36m       val_reward        \u001b[0m\u001b[36m \u001b[0m│\u001b[35m \u001b[0m\u001b[35m   -0.2552797794342041   \u001b[0m\u001b[35m \u001b[0m│\n",
       "│\u001b[36m \u001b[0m\u001b[36m        val_steps        \u001b[0m\u001b[36m \u001b[0m│\u001b[35m \u001b[0m\u001b[35m          164.0          \u001b[0m\u001b[35m \u001b[0m│\n",
       "└───────────────────────────┴───────────────────────────┘\n"
      ]
     },
     "metadata": {},
     "output_type": "display_data"
    },
    {
     "name": "stdout",
     "output_type": "stream",
     "text": [
      "Validation DataLoader 0: 100%|██████████| 1/1 [00:00<00:00, 23.79it/s]\n",
      "\n",
      "Evaluating model 3/5\n",
      "Parameters: {'learning_rate': 0.0001, 'lookback': 5, 'hidden_layers': [100, 100, 10]}\n"
     ]
    },
    {
     "name": "stderr",
     "output_type": "stream",
     "text": [
      "GPU available: False, used: False\n",
      "TPU available: False, using: 0 TPU cores\n",
      "HPU available: False, using: 0 HPUs\n",
      "\n",
      "  | Name          | Type       | Params | Mode \n",
      "-----------------------------------------------------\n",
      "0 | activation_fn | Tanh       | 0      | train\n",
      "1 | policy_net    | Sequential | 12.7 K | train\n",
      "-----------------------------------------------------\n",
      "12.7 K    Trainable params\n",
      "0         Non-trainable params\n",
      "12.7 K    Total params\n",
      "0.051     Total estimated model params size (MB)\n",
      "6         Modules in train mode\n",
      "0         Modules in eval mode\n"
     ]
    },
    {
     "name": "stdout",
     "output_type": "stream",
     "text": [
      "Epoch 5: 100%|██████████| 1/1 [00:00<00:00,  1.78it/s, v_num=0, train_reward=-78.5, train_steps=712.0, train_loss=-14.7, train_epsilon=0.631, train_accuracy=0.336, train_precision=0.500, train_recall=0.336, train_f1=0.401]\n",
      "Validation DataLoader 0: 100%|██████████| 1/1 [00:00<00:00, 11.86it/s]\n"
     ]
    },
    {
     "data": {
      "text/html": [
       "<pre style=\"white-space:pre;overflow-x:auto;line-height:normal;font-family:Menlo,'DejaVu Sans Mono',consolas,'Courier New',monospace\">┏━━━━━━━━━━━━━━━━━━━━━━━━━━━┳━━━━━━━━━━━━━━━━━━━━━━━━━━━┓\n",
       "┃<span style=\"font-weight: bold\">      Validate metric      </span>┃<span style=\"font-weight: bold\">       DataLoader 0        </span>┃\n",
       "┡━━━━━━━━━━━━━━━━━━━━━━━━━━━╇━━━━━━━━━━━━━━━━━━━━━━━━━━━┩\n",
       "│<span style=\"color: #008080; text-decoration-color: #008080\">       val_accuracy        </span>│<span style=\"color: #800080; text-decoration-color: #800080\">    0.3218390941619873     </span>│\n",
       "│<span style=\"color: #008080; text-decoration-color: #008080\">          val_f1           </span>│<span style=\"color: #800080; text-decoration-color: #800080\">    0.3778802156448364     </span>│\n",
       "│<span style=\"color: #008080; text-decoration-color: #008080\">       val_precision       </span>│<span style=\"color: #800080; text-decoration-color: #800080\">     0.461709201335907     </span>│\n",
       "│<span style=\"color: #008080; text-decoration-color: #008080\">        val_recall         </span>│<span style=\"color: #800080; text-decoration-color: #800080\">    0.3218390941619873     </span>│\n",
       "│<span style=\"color: #008080; text-decoration-color: #008080\">        val_reward         </span>│<span style=\"color: #800080; text-decoration-color: #800080\">     -0.35643270611763     </span>│\n",
       "│<span style=\"color: #008080; text-decoration-color: #008080\">         val_steps         </span>│<span style=\"color: #800080; text-decoration-color: #800080\">           174.0           </span>│\n",
       "└───────────────────────────┴───────────────────────────┘\n",
       "</pre>\n"
      ],
      "text/plain": [
       "┏━━━━━━━━━━━━━━━━━━━━━━━━━━━┳━━━━━━━━━━━━━━━━━━━━━━━━━━━┓\n",
       "┃\u001b[1m \u001b[0m\u001b[1m     Validate metric     \u001b[0m\u001b[1m \u001b[0m┃\u001b[1m \u001b[0m\u001b[1m      DataLoader 0       \u001b[0m\u001b[1m \u001b[0m┃\n",
       "┡━━━━━━━━━━━━━━━━━━━━━━━━━━━╇━━━━━━━━━━━━━━━━━━━━━━━━━━━┩\n",
       "│\u001b[36m \u001b[0m\u001b[36m      val_accuracy       \u001b[0m\u001b[36m \u001b[0m│\u001b[35m \u001b[0m\u001b[35m   0.3218390941619873    \u001b[0m\u001b[35m \u001b[0m│\n",
       "│\u001b[36m \u001b[0m\u001b[36m         val_f1          \u001b[0m\u001b[36m \u001b[0m│\u001b[35m \u001b[0m\u001b[35m   0.3778802156448364    \u001b[0m\u001b[35m \u001b[0m│\n",
       "│\u001b[36m \u001b[0m\u001b[36m      val_precision      \u001b[0m\u001b[36m \u001b[0m│\u001b[35m \u001b[0m\u001b[35m    0.461709201335907    \u001b[0m\u001b[35m \u001b[0m│\n",
       "│\u001b[36m \u001b[0m\u001b[36m       val_recall        \u001b[0m\u001b[36m \u001b[0m│\u001b[35m \u001b[0m\u001b[35m   0.3218390941619873    \u001b[0m\u001b[35m \u001b[0m│\n",
       "│\u001b[36m \u001b[0m\u001b[36m       val_reward        \u001b[0m\u001b[36m \u001b[0m│\u001b[35m \u001b[0m\u001b[35m    -0.35643270611763    \u001b[0m\u001b[35m \u001b[0m│\n",
       "│\u001b[36m \u001b[0m\u001b[36m        val_steps        \u001b[0m\u001b[36m \u001b[0m│\u001b[35m \u001b[0m\u001b[35m          174.0          \u001b[0m\u001b[35m \u001b[0m│\n",
       "└───────────────────────────┴───────────────────────────┘\n"
      ]
     },
     "metadata": {},
     "output_type": "display_data"
    },
    {
     "name": "stdout",
     "output_type": "stream",
     "text": [
      "Validation DataLoader 0: 100%|██████████| 1/1 [00:00<00:00, 15.89it/s]\n",
      "\n",
      "Evaluating model 4/5\n",
      "Parameters: {'learning_rate': 0.001, 'lookback': 5, 'hidden_layers': [100, 100, 10]}\n"
     ]
    },
    {
     "name": "stderr",
     "output_type": "stream",
     "text": [
      "GPU available: False, used: False\n",
      "TPU available: False, using: 0 TPU cores\n",
      "HPU available: False, using: 0 HPUs\n",
      "\n",
      "  | Name          | Type       | Params | Mode \n",
      "-----------------------------------------------------\n",
      "0 | activation_fn | Tanh       | 0      | train\n",
      "1 | policy_net    | Sequential | 12.7 K | train\n",
      "-----------------------------------------------------\n",
      "12.7 K    Trainable params\n",
      "0         Non-trainable params\n",
      "12.7 K    Total params\n",
      "0.051     Total estimated model params size (MB)\n",
      "6         Modules in train mode\n",
      "0         Modules in eval mode\n"
     ]
    },
    {
     "name": "stdout",
     "output_type": "stream",
     "text": [
      "Epoch 5: 100%|██████████| 1/1 [00:00<00:00,  1.61it/s, v_num=0, train_reward=-81.2, train_steps=712.0, train_loss=-7.24, train_epsilon=0.631, train_accuracy=0.319, train_precision=0.481, train_recall=0.319, train_f1=0.384]\n",
      "Validation DataLoader 0: 100%|██████████| 1/1 [00:00<00:00, 12.33it/s]\n"
     ]
    },
    {
     "data": {
      "text/html": [
       "<pre style=\"white-space:pre;overflow-x:auto;line-height:normal;font-family:Menlo,'DejaVu Sans Mono',consolas,'Courier New',monospace\">┏━━━━━━━━━━━━━━━━━━━━━━━━━━━┳━━━━━━━━━━━━━━━━━━━━━━━━━━━┓\n",
       "┃<span style=\"font-weight: bold\">      Validate metric      </span>┃<span style=\"font-weight: bold\">       DataLoader 0        </span>┃\n",
       "┡━━━━━━━━━━━━━━━━━━━━━━━━━━━╇━━━━━━━━━━━━━━━━━━━━━━━━━━━┩\n",
       "│<span style=\"color: #008080; text-decoration-color: #008080\">       val_accuracy        </span>│<span style=\"color: #800080; text-decoration-color: #800080\">    0.3563218414783478     </span>│\n",
       "│<span style=\"color: #008080; text-decoration-color: #008080\">          val_f1           </span>│<span style=\"color: #800080; text-decoration-color: #800080\">    0.43018418550491333    </span>│\n",
       "│<span style=\"color: #008080; text-decoration-color: #008080\">       val_precision       </span>│<span style=\"color: #800080; text-decoration-color: #800080\">    0.5545454621315002     </span>│\n",
       "│<span style=\"color: #008080; text-decoration-color: #008080\">        val_recall         </span>│<span style=\"color: #800080; text-decoration-color: #800080\">    0.3563218414783478     </span>│\n",
       "│<span style=\"color: #008080; text-decoration-color: #008080\">        val_reward         </span>│<span style=\"color: #800080; text-decoration-color: #800080\">   -0.28666090965270996    </span>│\n",
       "│<span style=\"color: #008080; text-decoration-color: #008080\">         val_steps         </span>│<span style=\"color: #800080; text-decoration-color: #800080\">           174.0           </span>│\n",
       "└───────────────────────────┴───────────────────────────┘\n",
       "</pre>\n"
      ],
      "text/plain": [
       "┏━━━━━━━━━━━━━━━━━━━━━━━━━━━┳━━━━━━━━━━━━━━━━━━━━━━━━━━━┓\n",
       "┃\u001b[1m \u001b[0m\u001b[1m     Validate metric     \u001b[0m\u001b[1m \u001b[0m┃\u001b[1m \u001b[0m\u001b[1m      DataLoader 0       \u001b[0m\u001b[1m \u001b[0m┃\n",
       "┡━━━━━━━━━━━━━━━━━━━━━━━━━━━╇━━━━━━━━━━━━━━━━━━━━━━━━━━━┩\n",
       "│\u001b[36m \u001b[0m\u001b[36m      val_accuracy       \u001b[0m\u001b[36m \u001b[0m│\u001b[35m \u001b[0m\u001b[35m   0.3563218414783478    \u001b[0m\u001b[35m \u001b[0m│\n",
       "│\u001b[36m \u001b[0m\u001b[36m         val_f1          \u001b[0m\u001b[36m \u001b[0m│\u001b[35m \u001b[0m\u001b[35m   0.43018418550491333   \u001b[0m\u001b[35m \u001b[0m│\n",
       "│\u001b[36m \u001b[0m\u001b[36m      val_precision      \u001b[0m\u001b[36m \u001b[0m│\u001b[35m \u001b[0m\u001b[35m   0.5545454621315002    \u001b[0m\u001b[35m \u001b[0m│\n",
       "│\u001b[36m \u001b[0m\u001b[36m       val_recall        \u001b[0m\u001b[36m \u001b[0m│\u001b[35m \u001b[0m\u001b[35m   0.3563218414783478    \u001b[0m\u001b[35m \u001b[0m│\n",
       "│\u001b[36m \u001b[0m\u001b[36m       val_reward        \u001b[0m\u001b[36m \u001b[0m│\u001b[35m \u001b[0m\u001b[35m  -0.28666090965270996   \u001b[0m\u001b[35m \u001b[0m│\n",
       "│\u001b[36m \u001b[0m\u001b[36m        val_steps        \u001b[0m\u001b[36m \u001b[0m│\u001b[35m \u001b[0m\u001b[35m          174.0          \u001b[0m\u001b[35m \u001b[0m│\n",
       "└───────────────────────────┴───────────────────────────┘\n"
      ]
     },
     "metadata": {},
     "output_type": "display_data"
    },
    {
     "name": "stdout",
     "output_type": "stream",
     "text": [
      "Validation DataLoader 0: 100%|██████████| 1/1 [00:00<00:00, 15.03it/s]\n",
      "\n",
      "Evaluating model 5/5\n",
      "Parameters: {'learning_rate': 0.0005, 'lookback': 15, 'hidden_layers': [200, 100, 50]}\n"
     ]
    },
    {
     "name": "stderr",
     "output_type": "stream",
     "text": [
      "GPU available: False, used: False\n",
      "TPU available: False, using: 0 TPU cores\n",
      "HPU available: False, using: 0 HPUs\n",
      "\n",
      "  | Name          | Type       | Params | Mode \n",
      "-----------------------------------------------------\n",
      "0 | activation_fn | Tanh       | 0      | train\n",
      "1 | policy_net    | Sequential | 34.5 K | train\n",
      "-----------------------------------------------------\n",
      "34.5 K    Trainable params\n",
      "0         Non-trainable params\n",
      "34.5 K    Total params\n",
      "0.138     Total estimated model params size (MB)\n",
      "6         Modules in train mode\n",
      "0         Modules in eval mode\n"
     ]
    },
    {
     "name": "stdout",
     "output_type": "stream",
     "text": [
      "Epoch 5: 100%|██████████| 1/1 [00:00<00:00,  1.50it/s, v_num=0, train_reward=-82.0, train_steps=702.0, train_loss=-7.96, train_epsilon=0.631, train_accuracy=0.329, train_precision=0.498, train_recall=0.329, train_f1=0.396]\n",
      "Validation DataLoader 0: 100%|██████████| 1/1 [00:00<00:00, 10.72it/s]\n"
     ]
    },
    {
     "data": {
      "text/html": [
       "<pre style=\"white-space:pre;overflow-x:auto;line-height:normal;font-family:Menlo,'DejaVu Sans Mono',consolas,'Courier New',monospace\">┏━━━━━━━━━━━━━━━━━━━━━━━━━━━┳━━━━━━━━━━━━━━━━━━━━━━━━━━━┓\n",
       "┃<span style=\"font-weight: bold\">      Validate metric      </span>┃<span style=\"font-weight: bold\">       DataLoader 0        </span>┃\n",
       "┡━━━━━━━━━━━━━━━━━━━━━━━━━━━╇━━━━━━━━━━━━━━━━━━━━━━━━━━━┩\n",
       "│<span style=\"color: #008080; text-decoration-color: #008080\">       val_accuracy        </span>│<span style=\"color: #800080; text-decoration-color: #800080\">    0.28658536076545715    </span>│\n",
       "│<span style=\"color: #008080; text-decoration-color: #008080\">          val_f1           </span>│<span style=\"color: #800080; text-decoration-color: #800080\">    0.3643490672111511     </span>│\n",
       "│<span style=\"color: #008080; text-decoration-color: #008080\">       val_precision       </span>│<span style=\"color: #800080; text-decoration-color: #800080\">    0.5003235340118408     </span>│\n",
       "│<span style=\"color: #008080; text-decoration-color: #008080\">        val_recall         </span>│<span style=\"color: #800080; text-decoration-color: #800080\">    0.28658536076545715    </span>│\n",
       "│<span style=\"color: #008080; text-decoration-color: #008080\">        val_reward         </span>│<span style=\"color: #800080; text-decoration-color: #800080\">    -0.4270337224006653    </span>│\n",
       "│<span style=\"color: #008080; text-decoration-color: #008080\">         val_steps         </span>│<span style=\"color: #800080; text-decoration-color: #800080\">           164.0           </span>│\n",
       "└───────────────────────────┴───────────────────────────┘\n",
       "</pre>\n"
      ],
      "text/plain": [
       "┏━━━━━━━━━━━━━━━━━━━━━━━━━━━┳━━━━━━━━━━━━━━━━━━━━━━━━━━━┓\n",
       "┃\u001b[1m \u001b[0m\u001b[1m     Validate metric     \u001b[0m\u001b[1m \u001b[0m┃\u001b[1m \u001b[0m\u001b[1m      DataLoader 0       \u001b[0m\u001b[1m \u001b[0m┃\n",
       "┡━━━━━━━━━━━━━━━━━━━━━━━━━━━╇━━━━━━━━━━━━━━━━━━━━━━━━━━━┩\n",
       "│\u001b[36m \u001b[0m\u001b[36m      val_accuracy       \u001b[0m\u001b[36m \u001b[0m│\u001b[35m \u001b[0m\u001b[35m   0.28658536076545715   \u001b[0m\u001b[35m \u001b[0m│\n",
       "│\u001b[36m \u001b[0m\u001b[36m         val_f1          \u001b[0m\u001b[36m \u001b[0m│\u001b[35m \u001b[0m\u001b[35m   0.3643490672111511    \u001b[0m\u001b[35m \u001b[0m│\n",
       "│\u001b[36m \u001b[0m\u001b[36m      val_precision      \u001b[0m\u001b[36m \u001b[0m│\u001b[35m \u001b[0m\u001b[35m   0.5003235340118408    \u001b[0m\u001b[35m \u001b[0m│\n",
       "│\u001b[36m \u001b[0m\u001b[36m       val_recall        \u001b[0m\u001b[36m \u001b[0m│\u001b[35m \u001b[0m\u001b[35m   0.28658536076545715   \u001b[0m\u001b[35m \u001b[0m│\n",
       "│\u001b[36m \u001b[0m\u001b[36m       val_reward        \u001b[0m\u001b[36m \u001b[0m│\u001b[35m \u001b[0m\u001b[35m   -0.4270337224006653   \u001b[0m\u001b[35m \u001b[0m│\n",
       "│\u001b[36m \u001b[0m\u001b[36m        val_steps        \u001b[0m\u001b[36m \u001b[0m│\u001b[35m \u001b[0m\u001b[35m          164.0          \u001b[0m\u001b[35m \u001b[0m│\n",
       "└───────────────────────────┴───────────────────────────┘\n"
      ]
     },
     "metadata": {},
     "output_type": "display_data"
    },
    {
     "name": "stdout",
     "output_type": "stream",
     "text": [
      "Validation DataLoader 0: 100%|██████████| 1/1 [00:00<00:00, 16.09it/s]\n",
      "\n",
      "Generation 2/3\n",
      "\n",
      "Evaluating model 1/5\n",
      "Parameters: {'learning_rate': 0.001, 'lookback': 5, 'hidden_layers': [50, 50]}\n"
     ]
    },
    {
     "name": "stderr",
     "output_type": "stream",
     "text": [
      "GPU available: False, used: False\n",
      "TPU available: False, using: 0 TPU cores\n",
      "HPU available: False, using: 0 HPUs\n",
      "\n",
      "  | Name          | Type       | Params | Mode \n",
      "-----------------------------------------------------\n",
      "0 | activation_fn | Tanh       | 0      | train\n",
      "1 | policy_net    | Sequential | 3.5 K  | train\n",
      "-----------------------------------------------------\n",
      "3.5 K     Trainable params\n",
      "0         Non-trainable params\n",
      "3.5 K     Total params\n",
      "0.014     Total estimated model params size (MB)\n",
      "5         Modules in train mode\n",
      "0         Modules in eval mode\n"
     ]
    },
    {
     "name": "stdout",
     "output_type": "stream",
     "text": [
      "Epoch 2: 100%|██████████| 1/1 [00:00<00:00,  1.76it/s, v_num=0, train_reward=-75.9, train_steps=712.0, train_loss=-23.1, train_epsilon=0.832, train_accuracy=0.350, train_precision=0.513, train_recall=0.350, train_f1=0.414]\n",
      "Validation DataLoader 0: 100%|██████████| 1/1 [00:00<00:00, 12.90it/s]\n"
     ]
    },
    {
     "data": {
      "text/html": [
       "<pre style=\"white-space:pre;overflow-x:auto;line-height:normal;font-family:Menlo,'DejaVu Sans Mono',consolas,'Courier New',monospace\">┏━━━━━━━━━━━━━━━━━━━━━━━━━━━┳━━━━━━━━━━━━━━━━━━━━━━━━━━━┓\n",
       "┃<span style=\"font-weight: bold\">      Validate metric      </span>┃<span style=\"font-weight: bold\">       DataLoader 0        </span>┃\n",
       "┡━━━━━━━━━━━━━━━━━━━━━━━━━━━╇━━━━━━━━━━━━━━━━━━━━━━━━━━━┩\n",
       "│<span style=\"color: #008080; text-decoration-color: #008080\">       val_accuracy        </span>│<span style=\"color: #800080; text-decoration-color: #800080\">    0.27586206793785095    </span>│\n",
       "│<span style=\"color: #008080; text-decoration-color: #008080\">          val_f1           </span>│<span style=\"color: #800080; text-decoration-color: #800080\">     0.331063836812973     </span>│\n",
       "│<span style=\"color: #008080; text-decoration-color: #008080\">       val_precision       </span>│<span style=\"color: #800080; text-decoration-color: #800080\">    0.41534388065338135    </span>│\n",
       "│<span style=\"color: #008080; text-decoration-color: #008080\">        val_recall         </span>│<span style=\"color: #800080; text-decoration-color: #800080\">    0.27586206793785095    </span>│\n",
       "│<span style=\"color: #008080; text-decoration-color: #008080\">        val_reward         </span>│<span style=\"color: #800080; text-decoration-color: #800080\">   -0.44994768500328064    </span>│\n",
       "│<span style=\"color: #008080; text-decoration-color: #008080\">         val_steps         </span>│<span style=\"color: #800080; text-decoration-color: #800080\">           174.0           </span>│\n",
       "└───────────────────────────┴───────────────────────────┘\n",
       "</pre>\n"
      ],
      "text/plain": [
       "┏━━━━━━━━━━━━━━━━━━━━━━━━━━━┳━━━━━━━━━━━━━━━━━━━━━━━━━━━┓\n",
       "┃\u001b[1m \u001b[0m\u001b[1m     Validate metric     \u001b[0m\u001b[1m \u001b[0m┃\u001b[1m \u001b[0m\u001b[1m      DataLoader 0       \u001b[0m\u001b[1m \u001b[0m┃\n",
       "┡━━━━━━━━━━━━━━━━━━━━━━━━━━━╇━━━━━━━━━━━━━━━━━━━━━━━━━━━┩\n",
       "│\u001b[36m \u001b[0m\u001b[36m      val_accuracy       \u001b[0m\u001b[36m \u001b[0m│\u001b[35m \u001b[0m\u001b[35m   0.27586206793785095   \u001b[0m\u001b[35m \u001b[0m│\n",
       "│\u001b[36m \u001b[0m\u001b[36m         val_f1          \u001b[0m\u001b[36m \u001b[0m│\u001b[35m \u001b[0m\u001b[35m    0.331063836812973    \u001b[0m\u001b[35m \u001b[0m│\n",
       "│\u001b[36m \u001b[0m\u001b[36m      val_precision      \u001b[0m\u001b[36m \u001b[0m│\u001b[35m \u001b[0m\u001b[35m   0.41534388065338135   \u001b[0m\u001b[35m \u001b[0m│\n",
       "│\u001b[36m \u001b[0m\u001b[36m       val_recall        \u001b[0m\u001b[36m \u001b[0m│\u001b[35m \u001b[0m\u001b[35m   0.27586206793785095   \u001b[0m\u001b[35m \u001b[0m│\n",
       "│\u001b[36m \u001b[0m\u001b[36m       val_reward        \u001b[0m\u001b[36m \u001b[0m│\u001b[35m \u001b[0m\u001b[35m  -0.44994768500328064   \u001b[0m\u001b[35m \u001b[0m│\n",
       "│\u001b[36m \u001b[0m\u001b[36m        val_steps        \u001b[0m\u001b[36m \u001b[0m│\u001b[35m \u001b[0m\u001b[35m          174.0          \u001b[0m\u001b[35m \u001b[0m│\n",
       "└───────────────────────────┴───────────────────────────┘\n"
      ]
     },
     "metadata": {},
     "output_type": "display_data"
    },
    {
     "name": "stdout",
     "output_type": "stream",
     "text": [
      "Validation DataLoader 0: 100%|██████████| 1/1 [00:00<00:00, 15.87it/s]\n",
      "\n",
      "Evaluating model 2/5\n",
      "Parameters: {'learning_rate': 0.0001, 'lookback': 15, 'hidden_layers': [100, 100, 10]}\n"
     ]
    },
    {
     "name": "stderr",
     "output_type": "stream",
     "text": [
      "GPU available: False, used: False\n",
      "TPU available: False, using: 0 TPU cores\n",
      "HPU available: False, using: 0 HPUs\n",
      "\n",
      "  | Name          | Type       | Params | Mode \n",
      "-----------------------------------------------------\n",
      "0 | activation_fn | Tanh       | 0      | train\n",
      "1 | policy_net    | Sequential | 15.7 K | train\n",
      "-----------------------------------------------------\n",
      "15.7 K    Trainable params\n",
      "0         Non-trainable params\n",
      "15.7 K    Total params\n",
      "0.063     Total estimated model params size (MB)\n",
      "6         Modules in train mode\n",
      "0         Modules in eval mode\n"
     ]
    },
    {
     "name": "stdout",
     "output_type": "stream",
     "text": [
      "Epoch 3: 100%|██████████| 1/1 [00:00<00:00,  1.58it/s, v_num=0, train_reward=-81.7, train_steps=702.0, train_loss=0.600, train_epsilon=0.759, train_accuracy=0.322, train_precision=0.488, train_recall=0.322, train_f1=0.387]\n",
      "Validation DataLoader 0: 100%|██████████| 1/1 [00:00<00:00, 10.01it/s]\n"
     ]
    },
    {
     "data": {
      "text/html": [
       "<pre style=\"white-space:pre;overflow-x:auto;line-height:normal;font-family:Menlo,'DejaVu Sans Mono',consolas,'Courier New',monospace\">┏━━━━━━━━━━━━━━━━━━━━━━━━━━━┳━━━━━━━━━━━━━━━━━━━━━━━━━━━┓\n",
       "┃<span style=\"font-weight: bold\">      Validate metric      </span>┃<span style=\"font-weight: bold\">       DataLoader 0        </span>┃\n",
       "┡━━━━━━━━━━━━━━━━━━━━━━━━━━━╇━━━━━━━━━━━━━━━━━━━━━━━━━━━┩\n",
       "│<span style=\"color: #008080; text-decoration-color: #008080\">       val_accuracy        </span>│<span style=\"color: #800080; text-decoration-color: #800080\">    0.3231707215309143     </span>│\n",
       "│<span style=\"color: #008080; text-decoration-color: #008080\">          val_f1           </span>│<span style=\"color: #800080; text-decoration-color: #800080\">    0.4059176445007324     </span>│\n",
       "│<span style=\"color: #008080; text-decoration-color: #008080\">       val_precision       </span>│<span style=\"color: #800080; text-decoration-color: #800080\">    0.5457420945167542     </span>│\n",
       "│<span style=\"color: #008080; text-decoration-color: #008080\">        val_recall         </span>│<span style=\"color: #800080; text-decoration-color: #800080\">    0.3231707215309143     </span>│\n",
       "│<span style=\"color: #008080; text-decoration-color: #008080\">        val_reward         </span>│<span style=\"color: #800080; text-decoration-color: #800080\">    -0.352927565574646     </span>│\n",
       "│<span style=\"color: #008080; text-decoration-color: #008080\">         val_steps         </span>│<span style=\"color: #800080; text-decoration-color: #800080\">           164.0           </span>│\n",
       "└───────────────────────────┴───────────────────────────┘\n",
       "</pre>\n"
      ],
      "text/plain": [
       "┏━━━━━━━━━━━━━━━━━━━━━━━━━━━┳━━━━━━━━━━━━━━━━━━━━━━━━━━━┓\n",
       "┃\u001b[1m \u001b[0m\u001b[1m     Validate metric     \u001b[0m\u001b[1m \u001b[0m┃\u001b[1m \u001b[0m\u001b[1m      DataLoader 0       \u001b[0m\u001b[1m \u001b[0m┃\n",
       "┡━━━━━━━━━━━━━━━━━━━━━━━━━━━╇━━━━━━━━━━━━━━━━━━━━━━━━━━━┩\n",
       "│\u001b[36m \u001b[0m\u001b[36m      val_accuracy       \u001b[0m\u001b[36m \u001b[0m│\u001b[35m \u001b[0m\u001b[35m   0.3231707215309143    \u001b[0m\u001b[35m \u001b[0m│\n",
       "│\u001b[36m \u001b[0m\u001b[36m         val_f1          \u001b[0m\u001b[36m \u001b[0m│\u001b[35m \u001b[0m\u001b[35m   0.4059176445007324    \u001b[0m\u001b[35m \u001b[0m│\n",
       "│\u001b[36m \u001b[0m\u001b[36m      val_precision      \u001b[0m\u001b[36m \u001b[0m│\u001b[35m \u001b[0m\u001b[35m   0.5457420945167542    \u001b[0m\u001b[35m \u001b[0m│\n",
       "│\u001b[36m \u001b[0m\u001b[36m       val_recall        \u001b[0m\u001b[36m \u001b[0m│\u001b[35m \u001b[0m\u001b[35m   0.3231707215309143    \u001b[0m\u001b[35m \u001b[0m│\n",
       "│\u001b[36m \u001b[0m\u001b[36m       val_reward        \u001b[0m\u001b[36m \u001b[0m│\u001b[35m \u001b[0m\u001b[35m   -0.352927565574646    \u001b[0m\u001b[35m \u001b[0m│\n",
       "│\u001b[36m \u001b[0m\u001b[36m        val_steps        \u001b[0m\u001b[36m \u001b[0m│\u001b[35m \u001b[0m\u001b[35m          164.0          \u001b[0m\u001b[35m \u001b[0m│\n",
       "└───────────────────────────┴───────────────────────────┘\n"
      ]
     },
     "metadata": {},
     "output_type": "display_data"
    },
    {
     "name": "stdout",
     "output_type": "stream",
     "text": [
      "Validation DataLoader 0: 100%|██████████| 1/1 [00:00<00:00, 15.50it/s]"
     ]
    },
    {
     "name": "stderr",
     "output_type": "stream",
     "text": [
      "GPU available: False, used: False\n",
      "TPU available: False, using: 0 TPU cores\n",
      "HPU available: False, using: 0 HPUs\n",
      "\n",
      "  | Name          | Type       | Params | Mode \n",
      "-----------------------------------------------------\n",
      "0 | activation_fn | Tanh       | 0      | train\n",
      "1 | policy_net    | Sequential | 3.5 K  | train\n",
      "-----------------------------------------------------\n",
      "3.5 K     Trainable params\n",
      "0         Non-trainable params\n",
      "3.5 K     Total params\n",
      "0.014     Total estimated model params size (MB)\n",
      "5         Modules in train mode\n",
      "0         Modules in eval mode\n"
     ]
    },
    {
     "name": "stdout",
     "output_type": "stream",
     "text": [
      "\n",
      "\n",
      "Evaluating model 3/5\n",
      "Parameters: {'learning_rate': 0.001, 'lookback': 5, 'hidden_layers': [50, 50]}\n",
      "Epoch 4: 100%|██████████| 1/1 [00:00<00:00,  1.54it/s, v_num=0, train_reward=-77.9, train_steps=712.0, train_loss=-11.6, train_epsilon=0.692, train_accuracy=0.322, train_precision=0.474, train_recall=0.322, train_f1=0.382] \n",
      "Validation DataLoader 0: 100%|██████████| 1/1 [00:00<00:00, 10.15it/s]\n"
     ]
    },
    {
     "data": {
      "text/html": [
       "<pre style=\"white-space:pre;overflow-x:auto;line-height:normal;font-family:Menlo,'DejaVu Sans Mono',consolas,'Courier New',monospace\">┏━━━━━━━━━━━━━━━━━━━━━━━━━━━┳━━━━━━━━━━━━━━━━━━━━━━━━━━━┓\n",
       "┃<span style=\"font-weight: bold\">      Validate metric      </span>┃<span style=\"font-weight: bold\">       DataLoader 0        </span>┃\n",
       "┡━━━━━━━━━━━━━━━━━━━━━━━━━━━╇━━━━━━━━━━━━━━━━━━━━━━━━━━━┩\n",
       "│<span style=\"color: #008080; text-decoration-color: #008080\">       val_accuracy        </span>│<span style=\"color: #800080; text-decoration-color: #800080\">    0.3735632300376892     </span>│\n",
       "│<span style=\"color: #008080; text-decoration-color: #008080\">          val_f1           </span>│<span style=\"color: #800080; text-decoration-color: #800080\">    0.4357426166534424     </span>│\n",
       "│<span style=\"color: #008080; text-decoration-color: #008080\">       val_precision       </span>│<span style=\"color: #800080; text-decoration-color: #800080\">    0.5234680771827698     </span>│\n",
       "│<span style=\"color: #008080; text-decoration-color: #008080\">        val_recall         </span>│<span style=\"color: #800080; text-decoration-color: #800080\">    0.3735632300376892     </span>│\n",
       "│<span style=\"color: #008080; text-decoration-color: #008080\">        val_reward         </span>│<span style=\"color: #800080; text-decoration-color: #800080\">    -0.2524784803390503    </span>│\n",
       "│<span style=\"color: #008080; text-decoration-color: #008080\">         val_steps         </span>│<span style=\"color: #800080; text-decoration-color: #800080\">           174.0           </span>│\n",
       "└───────────────────────────┴───────────────────────────┘\n",
       "</pre>\n"
      ],
      "text/plain": [
       "┏━━━━━━━━━━━━━━━━━━━━━━━━━━━┳━━━━━━━━━━━━━━━━━━━━━━━━━━━┓\n",
       "┃\u001b[1m \u001b[0m\u001b[1m     Validate metric     \u001b[0m\u001b[1m \u001b[0m┃\u001b[1m \u001b[0m\u001b[1m      DataLoader 0       \u001b[0m\u001b[1m \u001b[0m┃\n",
       "┡━━━━━━━━━━━━━━━━━━━━━━━━━━━╇━━━━━━━━━━━━━━━━━━━━━━━━━━━┩\n",
       "│\u001b[36m \u001b[0m\u001b[36m      val_accuracy       \u001b[0m\u001b[36m \u001b[0m│\u001b[35m \u001b[0m\u001b[35m   0.3735632300376892    \u001b[0m\u001b[35m \u001b[0m│\n",
       "│\u001b[36m \u001b[0m\u001b[36m         val_f1          \u001b[0m\u001b[36m \u001b[0m│\u001b[35m \u001b[0m\u001b[35m   0.4357426166534424    \u001b[0m\u001b[35m \u001b[0m│\n",
       "│\u001b[36m \u001b[0m\u001b[36m      val_precision      \u001b[0m\u001b[36m \u001b[0m│\u001b[35m \u001b[0m\u001b[35m   0.5234680771827698    \u001b[0m\u001b[35m \u001b[0m│\n",
       "│\u001b[36m \u001b[0m\u001b[36m       val_recall        \u001b[0m\u001b[36m \u001b[0m│\u001b[35m \u001b[0m\u001b[35m   0.3735632300376892    \u001b[0m\u001b[35m \u001b[0m│\n",
       "│\u001b[36m \u001b[0m\u001b[36m       val_reward        \u001b[0m\u001b[36m \u001b[0m│\u001b[35m \u001b[0m\u001b[35m   -0.2524784803390503   \u001b[0m\u001b[35m \u001b[0m│\n",
       "│\u001b[36m \u001b[0m\u001b[36m        val_steps        \u001b[0m\u001b[36m \u001b[0m│\u001b[35m \u001b[0m\u001b[35m          174.0          \u001b[0m\u001b[35m \u001b[0m│\n",
       "└───────────────────────────┴───────────────────────────┘\n"
      ]
     },
     "metadata": {},
     "output_type": "display_data"
    },
    {
     "name": "stdout",
     "output_type": "stream",
     "text": [
      "Validation DataLoader 0: 100%|██████████| 1/1 [00:00<00:00, 12.37it/s]\n",
      "\n",
      "Evaluating model 4/5\n",
      "Parameters: {'learning_rate': 0.0005, 'lookback': 15, 'hidden_layers': [200, 100, 50]}\n"
     ]
    },
    {
     "name": "stderr",
     "output_type": "stream",
     "text": [
      "GPU available: False, used: False\n",
      "TPU available: False, using: 0 TPU cores\n",
      "HPU available: False, using: 0 HPUs\n",
      "\n",
      "  | Name          | Type       | Params | Mode \n",
      "-----------------------------------------------------\n",
      "0 | activation_fn | Tanh       | 0      | train\n",
      "1 | policy_net    | Sequential | 34.5 K | train\n",
      "-----------------------------------------------------\n",
      "34.5 K    Trainable params\n",
      "0         Non-trainable params\n",
      "34.5 K    Total params\n",
      "0.138     Total estimated model params size (MB)\n",
      "6         Modules in train mode\n",
      "0         Modules in eval mode\n"
     ]
    },
    {
     "name": "stdout",
     "output_type": "stream",
     "text": [
      "Epoch 2: 100%|██████████| 1/1 [00:00<00:00,  1.53it/s, v_num=0, train_reward=-83.4, train_steps=702.0, train_loss=-6.48, train_epsilon=0.832, train_accuracy=0.325, train_precision=0.499, train_recall=0.325, train_f1=0.393]\n",
      "Validation DataLoader 0: 100%|██████████| 1/1 [00:00<00:00, 10.57it/s]\n"
     ]
    },
    {
     "data": {
      "text/html": [
       "<pre style=\"white-space:pre;overflow-x:auto;line-height:normal;font-family:Menlo,'DejaVu Sans Mono',consolas,'Courier New',monospace\">┏━━━━━━━━━━━━━━━━━━━━━━━━━━━┳━━━━━━━━━━━━━━━━━━━━━━━━━━━┓\n",
       "┃<span style=\"font-weight: bold\">      Validate metric      </span>┃<span style=\"font-weight: bold\">       DataLoader 0        </span>┃\n",
       "┡━━━━━━━━━━━━━━━━━━━━━━━━━━━╇━━━━━━━━━━━━━━━━━━━━━━━━━━━┩\n",
       "│<span style=\"color: #008080; text-decoration-color: #008080\">       val_accuracy        </span>│<span style=\"color: #800080; text-decoration-color: #800080\">    0.3109756112098694     </span>│\n",
       "│<span style=\"color: #008080; text-decoration-color: #008080\">          val_f1           </span>│<span style=\"color: #800080; text-decoration-color: #800080\">    0.37621432542800903    </span>│\n",
       "│<span style=\"color: #008080; text-decoration-color: #008080\">       val_precision       </span>│<span style=\"color: #800080; text-decoration-color: #800080\">    0.47643598914146423    </span>│\n",
       "│<span style=\"color: #008080; text-decoration-color: #008080\">        val_recall         </span>│<span style=\"color: #800080; text-decoration-color: #800080\">    0.3109756112098694     </span>│\n",
       "│<span style=\"color: #008080; text-decoration-color: #008080\">        val_reward         </span>│<span style=\"color: #800080; text-decoration-color: #800080\">    -0.3779551386833191    </span>│\n",
       "│<span style=\"color: #008080; text-decoration-color: #008080\">         val_steps         </span>│<span style=\"color: #800080; text-decoration-color: #800080\">           164.0           </span>│\n",
       "└───────────────────────────┴───────────────────────────┘\n",
       "</pre>\n"
      ],
      "text/plain": [
       "┏━━━━━━━━━━━━━━━━━━━━━━━━━━━┳━━━━━━━━━━━━━━━━━━━━━━━━━━━┓\n",
       "┃\u001b[1m \u001b[0m\u001b[1m     Validate metric     \u001b[0m\u001b[1m \u001b[0m┃\u001b[1m \u001b[0m\u001b[1m      DataLoader 0       \u001b[0m\u001b[1m \u001b[0m┃\n",
       "┡━━━━━━━━━━━━━━━━━━━━━━━━━━━╇━━━━━━━━━━━━━━━━━━━━━━━━━━━┩\n",
       "│\u001b[36m \u001b[0m\u001b[36m      val_accuracy       \u001b[0m\u001b[36m \u001b[0m│\u001b[35m \u001b[0m\u001b[35m   0.3109756112098694    \u001b[0m\u001b[35m \u001b[0m│\n",
       "│\u001b[36m \u001b[0m\u001b[36m         val_f1          \u001b[0m\u001b[36m \u001b[0m│\u001b[35m \u001b[0m\u001b[35m   0.37621432542800903   \u001b[0m\u001b[35m \u001b[0m│\n",
       "│\u001b[36m \u001b[0m\u001b[36m      val_precision      \u001b[0m\u001b[36m \u001b[0m│\u001b[35m \u001b[0m\u001b[35m   0.47643598914146423   \u001b[0m\u001b[35m \u001b[0m│\n",
       "│\u001b[36m \u001b[0m\u001b[36m       val_recall        \u001b[0m\u001b[36m \u001b[0m│\u001b[35m \u001b[0m\u001b[35m   0.3109756112098694    \u001b[0m\u001b[35m \u001b[0m│\n",
       "│\u001b[36m \u001b[0m\u001b[36m       val_reward        \u001b[0m\u001b[36m \u001b[0m│\u001b[35m \u001b[0m\u001b[35m   -0.3779551386833191   \u001b[0m\u001b[35m \u001b[0m│\n",
       "│\u001b[36m \u001b[0m\u001b[36m        val_steps        \u001b[0m\u001b[36m \u001b[0m│\u001b[35m \u001b[0m\u001b[35m          164.0          \u001b[0m\u001b[35m \u001b[0m│\n",
       "└───────────────────────────┴───────────────────────────┘\n"
      ]
     },
     "metadata": {},
     "output_type": "display_data"
    },
    {
     "name": "stdout",
     "output_type": "stream",
     "text": [
      "Validation DataLoader 0: 100%|██████████| 1/1 [00:00<00:00, 14.10it/s]\n",
      "\n",
      "Evaluating model 5/5\n",
      "Parameters: {'learning_rate': 0.0001, 'lookback': 15, 'hidden_layers': [100, 100, 10]}\n"
     ]
    },
    {
     "name": "stderr",
     "output_type": "stream",
     "text": [
      "GPU available: False, used: False\n",
      "TPU available: False, using: 0 TPU cores\n",
      "HPU available: False, using: 0 HPUs\n",
      "\n",
      "  | Name          | Type       | Params | Mode \n",
      "-----------------------------------------------------\n",
      "0 | activation_fn | Tanh       | 0      | train\n",
      "1 | policy_net    | Sequential | 15.7 K | train\n",
      "-----------------------------------------------------\n",
      "15.7 K    Trainable params\n",
      "0         Non-trainable params\n",
      "15.7 K    Total params\n",
      "0.063     Total estimated model params size (MB)\n",
      "6         Modules in train mode\n",
      "0         Modules in eval mode\n"
     ]
    },
    {
     "name": "stdout",
     "output_type": "stream",
     "text": [
      "Epoch 3: 100%|██████████| 1/1 [00:00<00:00,  1.68it/s, v_num=0, train_reward=-80.0, train_steps=702.0, train_loss=-15.0, train_epsilon=0.759, train_accuracy=0.333, train_precision=0.502, train_recall=0.333, train_f1=0.400]\n",
      "Validation DataLoader 0: 100%|██████████| 1/1 [00:00<00:00, 12.38it/s]\n"
     ]
    },
    {
     "data": {
      "text/html": [
       "<pre style=\"white-space:pre;overflow-x:auto;line-height:normal;font-family:Menlo,'DejaVu Sans Mono',consolas,'Courier New',monospace\">┏━━━━━━━━━━━━━━━━━━━━━━━━━━━┳━━━━━━━━━━━━━━━━━━━━━━━━━━━┓\n",
       "┃<span style=\"font-weight: bold\">      Validate metric      </span>┃<span style=\"font-weight: bold\">       DataLoader 0        </span>┃\n",
       "┡━━━━━━━━━━━━━━━━━━━━━━━━━━━╇━━━━━━━━━━━━━━━━━━━━━━━━━━━┩\n",
       "│<span style=\"color: #008080; text-decoration-color: #008080\">       val_accuracy        </span>│<span style=\"color: #800080; text-decoration-color: #800080\">    0.31707316637039185    </span>│\n",
       "│<span style=\"color: #008080; text-decoration-color: #008080\">          val_f1           </span>│<span style=\"color: #800080; text-decoration-color: #800080\">    0.3873274624347687     </span>│\n",
       "│<span style=\"color: #008080; text-decoration-color: #008080\">       val_precision       </span>│<span style=\"color: #800080; text-decoration-color: #800080\">            0.5            </span>│\n",
       "│<span style=\"color: #008080; text-decoration-color: #008080\">        val_recall         </span>│<span style=\"color: #800080; text-decoration-color: #800080\">    0.31707316637039185    </span>│\n",
       "│<span style=\"color: #008080; text-decoration-color: #008080\">        val_reward         </span>│<span style=\"color: #800080; text-decoration-color: #800080\">    -0.3658536672592163    </span>│\n",
       "│<span style=\"color: #008080; text-decoration-color: #008080\">         val_steps         </span>│<span style=\"color: #800080; text-decoration-color: #800080\">           164.0           </span>│\n",
       "└───────────────────────────┴───────────────────────────┘\n",
       "</pre>\n"
      ],
      "text/plain": [
       "┏━━━━━━━━━━━━━━━━━━━━━━━━━━━┳━━━━━━━━━━━━━━━━━━━━━━━━━━━┓\n",
       "┃\u001b[1m \u001b[0m\u001b[1m     Validate metric     \u001b[0m\u001b[1m \u001b[0m┃\u001b[1m \u001b[0m\u001b[1m      DataLoader 0       \u001b[0m\u001b[1m \u001b[0m┃\n",
       "┡━━━━━━━━━━━━━━━━━━━━━━━━━━━╇━━━━━━━━━━━━━━━━━━━━━━━━━━━┩\n",
       "│\u001b[36m \u001b[0m\u001b[36m      val_accuracy       \u001b[0m\u001b[36m \u001b[0m│\u001b[35m \u001b[0m\u001b[35m   0.31707316637039185   \u001b[0m\u001b[35m \u001b[0m│\n",
       "│\u001b[36m \u001b[0m\u001b[36m         val_f1          \u001b[0m\u001b[36m \u001b[0m│\u001b[35m \u001b[0m\u001b[35m   0.3873274624347687    \u001b[0m\u001b[35m \u001b[0m│\n",
       "│\u001b[36m \u001b[0m\u001b[36m      val_precision      \u001b[0m\u001b[36m \u001b[0m│\u001b[35m \u001b[0m\u001b[35m           0.5           \u001b[0m\u001b[35m \u001b[0m│\n",
       "│\u001b[36m \u001b[0m\u001b[36m       val_recall        \u001b[0m\u001b[36m \u001b[0m│\u001b[35m \u001b[0m\u001b[35m   0.31707316637039185   \u001b[0m\u001b[35m \u001b[0m│\n",
       "│\u001b[36m \u001b[0m\u001b[36m       val_reward        \u001b[0m\u001b[36m \u001b[0m│\u001b[35m \u001b[0m\u001b[35m   -0.3658536672592163   \u001b[0m\u001b[35m \u001b[0m│\n",
       "│\u001b[36m \u001b[0m\u001b[36m        val_steps        \u001b[0m\u001b[36m \u001b[0m│\u001b[35m \u001b[0m\u001b[35m          164.0          \u001b[0m\u001b[35m \u001b[0m│\n",
       "└───────────────────────────┴───────────────────────────┘\n"
      ]
     },
     "metadata": {},
     "output_type": "display_data"
    },
    {
     "name": "stdout",
     "output_type": "stream",
     "text": [
      "Validation DataLoader 0: 100%|██████████| 1/1 [00:00<00:00, 17.21it/s]"
     ]
    },
    {
     "name": "stderr",
     "output_type": "stream",
     "text": [
      "GPU available: False, used: False\n"
     ]
    },
    {
     "name": "stdout",
     "output_type": "stream",
     "text": [
      "\n",
      "\n",
      "Generation 3/3\n",
      "\n",
      "Evaluating model 1/5\n",
      "Parameters: {'learning_rate': 0.001, 'lookback': 5, 'hidden_layers': [50, 50]}\n"
     ]
    },
    {
     "name": "stderr",
     "output_type": "stream",
     "text": [
      "TPU available: False, using: 0 TPU cores\n",
      "HPU available: False, using: 0 HPUs\n",
      "\n",
      "  | Name          | Type       | Params | Mode \n",
      "-----------------------------------------------------\n",
      "0 | activation_fn | Tanh       | 0      | train\n",
      "1 | policy_net    | Sequential | 3.5 K  | train\n",
      "-----------------------------------------------------\n",
      "3.5 K     Trainable params\n",
      "0         Non-trainable params\n",
      "3.5 K     Total params\n",
      "0.014     Total estimated model params size (MB)\n",
      "5         Modules in train mode\n",
      "0         Modules in eval mode\n"
     ]
    },
    {
     "name": "stdout",
     "output_type": "stream",
     "text": [
      "Epoch 4: 100%|██████████| 1/1 [00:00<00:00,  1.60it/s, v_num=0, train_reward=-81.2, train_steps=712.0, train_loss=-11.7, train_epsilon=0.692, train_accuracy=0.331, train_precision=0.501, train_recall=0.331, train_f1=0.398]\n",
      "Validation DataLoader 0: 100%|██████████| 1/1 [00:00<00:00, 10.16it/s]\n"
     ]
    },
    {
     "data": {
      "text/html": [
       "<pre style=\"white-space:pre;overflow-x:auto;line-height:normal;font-family:Menlo,'DejaVu Sans Mono',consolas,'Courier New',monospace\">┏━━━━━━━━━━━━━━━━━━━━━━━━━━━┳━━━━━━━━━━━━━━━━━━━━━━━━━━━┓\n",
       "┃<span style=\"font-weight: bold\">      Validate metric      </span>┃<span style=\"font-weight: bold\">       DataLoader 0        </span>┃\n",
       "┡━━━━━━━━━━━━━━━━━━━━━━━━━━━╇━━━━━━━━━━━━━━━━━━━━━━━━━━━┩\n",
       "│<span style=\"color: #008080; text-decoration-color: #008080\">       val_accuracy        </span>│<span style=\"color: #800080; text-decoration-color: #800080\">    0.32758620381355286    </span>│\n",
       "│<span style=\"color: #008080; text-decoration-color: #008080\">          val_f1           </span>│<span style=\"color: #800080; text-decoration-color: #800080\">    0.38666167855262756    </span>│\n",
       "│<span style=\"color: #008080; text-decoration-color: #008080\">       val_precision       </span>│<span style=\"color: #800080; text-decoration-color: #800080\">    0.48061227798461914    </span>│\n",
       "│<span style=\"color: #008080; text-decoration-color: #008080\">        val_recall         </span>│<span style=\"color: #800080; text-decoration-color: #800080\">    0.32758620381355286    </span>│\n",
       "│<span style=\"color: #008080; text-decoration-color: #008080\">        val_reward         </span>│<span style=\"color: #800080; text-decoration-color: #800080\">    -0.3445466160774231    </span>│\n",
       "│<span style=\"color: #008080; text-decoration-color: #008080\">         val_steps         </span>│<span style=\"color: #800080; text-decoration-color: #800080\">           174.0           </span>│\n",
       "└───────────────────────────┴───────────────────────────┘\n",
       "</pre>\n"
      ],
      "text/plain": [
       "┏━━━━━━━━━━━━━━━━━━━━━━━━━━━┳━━━━━━━━━━━━━━━━━━━━━━━━━━━┓\n",
       "┃\u001b[1m \u001b[0m\u001b[1m     Validate metric     \u001b[0m\u001b[1m \u001b[0m┃\u001b[1m \u001b[0m\u001b[1m      DataLoader 0       \u001b[0m\u001b[1m \u001b[0m┃\n",
       "┡━━━━━━━━━━━━━━━━━━━━━━━━━━━╇━━━━━━━━━━━━━━━━━━━━━━━━━━━┩\n",
       "│\u001b[36m \u001b[0m\u001b[36m      val_accuracy       \u001b[0m\u001b[36m \u001b[0m│\u001b[35m \u001b[0m\u001b[35m   0.32758620381355286   \u001b[0m\u001b[35m \u001b[0m│\n",
       "│\u001b[36m \u001b[0m\u001b[36m         val_f1          \u001b[0m\u001b[36m \u001b[0m│\u001b[35m \u001b[0m\u001b[35m   0.38666167855262756   \u001b[0m\u001b[35m \u001b[0m│\n",
       "│\u001b[36m \u001b[0m\u001b[36m      val_precision      \u001b[0m\u001b[36m \u001b[0m│\u001b[35m \u001b[0m\u001b[35m   0.48061227798461914   \u001b[0m\u001b[35m \u001b[0m│\n",
       "│\u001b[36m \u001b[0m\u001b[36m       val_recall        \u001b[0m\u001b[36m \u001b[0m│\u001b[35m \u001b[0m\u001b[35m   0.32758620381355286   \u001b[0m\u001b[35m \u001b[0m│\n",
       "│\u001b[36m \u001b[0m\u001b[36m       val_reward        \u001b[0m\u001b[36m \u001b[0m│\u001b[35m \u001b[0m\u001b[35m   -0.3445466160774231   \u001b[0m\u001b[35m \u001b[0m│\n",
       "│\u001b[36m \u001b[0m\u001b[36m        val_steps        \u001b[0m\u001b[36m \u001b[0m│\u001b[35m \u001b[0m\u001b[35m          174.0          \u001b[0m\u001b[35m \u001b[0m│\n",
       "└───────────────────────────┴───────────────────────────┘\n"
      ]
     },
     "metadata": {},
     "output_type": "display_data"
    },
    {
     "name": "stdout",
     "output_type": "stream",
     "text": [
      "Validation DataLoader 0: 100%|██████████| 1/1 [00:00<00:00, 11.92it/s]\n",
      "\n",
      "Evaluating model 2/5\n",
      "Parameters: {'learning_rate': 0.001, 'lookback': 5, 'hidden_layers': [50, 50]}\n"
     ]
    },
    {
     "name": "stderr",
     "output_type": "stream",
     "text": [
      "GPU available: False, used: False\n",
      "TPU available: False, using: 0 TPU cores\n",
      "HPU available: False, using: 0 HPUs\n",
      "\n",
      "  | Name          | Type       | Params | Mode \n",
      "-----------------------------------------------------\n",
      "0 | activation_fn | Tanh       | 0      | train\n",
      "1 | policy_net    | Sequential | 3.5 K  | train\n",
      "-----------------------------------------------------\n",
      "3.5 K     Trainable params\n",
      "0         Non-trainable params\n",
      "3.5 K     Total params\n",
      "0.014     Total estimated model params size (MB)\n",
      "5         Modules in train mode\n",
      "0         Modules in eval mode\n"
     ]
    },
    {
     "name": "stdout",
     "output_type": "stream",
     "text": [
      "Epoch 2: 100%|██████████| 1/1 [00:00<00:00,  1.63it/s, v_num=0, train_reward=-93.0, train_steps=712.0, train_loss=-2.93, train_epsilon=0.832, train_accuracy=0.303, train_precision=0.496, train_recall=0.303, train_f1=0.376] \n",
      "Validation DataLoader 0: 100%|██████████| 1/1 [00:00<00:00, 10.34it/s]\n"
     ]
    },
    {
     "data": {
      "text/html": [
       "<pre style=\"white-space:pre;overflow-x:auto;line-height:normal;font-family:Menlo,'DejaVu Sans Mono',consolas,'Courier New',monospace\">┏━━━━━━━━━━━━━━━━━━━━━━━━━━━┳━━━━━━━━━━━━━━━━━━━━━━━━━━━┓\n",
       "┃<span style=\"font-weight: bold\">      Validate metric      </span>┃<span style=\"font-weight: bold\">       DataLoader 0        </span>┃\n",
       "┡━━━━━━━━━━━━━━━━━━━━━━━━━━━╇━━━━━━━━━━━━━━━━━━━━━━━━━━━┩\n",
       "│<span style=\"color: #008080; text-decoration-color: #008080\">       val_accuracy        </span>│<span style=\"color: #800080; text-decoration-color: #800080\">    0.32758620381355286    </span>│\n",
       "│<span style=\"color: #008080; text-decoration-color: #008080\">          val_f1           </span>│<span style=\"color: #800080; text-decoration-color: #800080\">    0.3945147693157196     </span>│\n",
       "│<span style=\"color: #008080; text-decoration-color: #008080\">       val_precision       </span>│<span style=\"color: #800080; text-decoration-color: #800080\">    0.5227518677711487     </span>│\n",
       "│<span style=\"color: #008080; text-decoration-color: #008080\">        val_recall         </span>│<span style=\"color: #800080; text-decoration-color: #800080\">    0.32758620381355286    </span>│\n",
       "│<span style=\"color: #008080; text-decoration-color: #008080\">        val_reward         </span>│<span style=\"color: #800080; text-decoration-color: #800080\">    -0.345013827085495     </span>│\n",
       "│<span style=\"color: #008080; text-decoration-color: #008080\">         val_steps         </span>│<span style=\"color: #800080; text-decoration-color: #800080\">           174.0           </span>│\n",
       "└───────────────────────────┴───────────────────────────┘\n",
       "</pre>\n"
      ],
      "text/plain": [
       "┏━━━━━━━━━━━━━━━━━━━━━━━━━━━┳━━━━━━━━━━━━━━━━━━━━━━━━━━━┓\n",
       "┃\u001b[1m \u001b[0m\u001b[1m     Validate metric     \u001b[0m\u001b[1m \u001b[0m┃\u001b[1m \u001b[0m\u001b[1m      DataLoader 0       \u001b[0m\u001b[1m \u001b[0m┃\n",
       "┡━━━━━━━━━━━━━━━━━━━━━━━━━━━╇━━━━━━━━━━━━━━━━━━━━━━━━━━━┩\n",
       "│\u001b[36m \u001b[0m\u001b[36m      val_accuracy       \u001b[0m\u001b[36m \u001b[0m│\u001b[35m \u001b[0m\u001b[35m   0.32758620381355286   \u001b[0m\u001b[35m \u001b[0m│\n",
       "│\u001b[36m \u001b[0m\u001b[36m         val_f1          \u001b[0m\u001b[36m \u001b[0m│\u001b[35m \u001b[0m\u001b[35m   0.3945147693157196    \u001b[0m\u001b[35m \u001b[0m│\n",
       "│\u001b[36m \u001b[0m\u001b[36m      val_precision      \u001b[0m\u001b[36m \u001b[0m│\u001b[35m \u001b[0m\u001b[35m   0.5227518677711487    \u001b[0m\u001b[35m \u001b[0m│\n",
       "│\u001b[36m \u001b[0m\u001b[36m       val_recall        \u001b[0m\u001b[36m \u001b[0m│\u001b[35m \u001b[0m\u001b[35m   0.32758620381355286   \u001b[0m\u001b[35m \u001b[0m│\n",
       "│\u001b[36m \u001b[0m\u001b[36m       val_reward        \u001b[0m\u001b[36m \u001b[0m│\u001b[35m \u001b[0m\u001b[35m   -0.345013827085495    \u001b[0m\u001b[35m \u001b[0m│\n",
       "│\u001b[36m \u001b[0m\u001b[36m        val_steps        \u001b[0m\u001b[36m \u001b[0m│\u001b[35m \u001b[0m\u001b[35m          174.0          \u001b[0m\u001b[35m \u001b[0m│\n",
       "└───────────────────────────┴───────────────────────────┘\n"
      ]
     },
     "metadata": {},
     "output_type": "display_data"
    },
    {
     "name": "stdout",
     "output_type": "stream",
     "text": [
      "Validation DataLoader 0: 100%|██████████| 1/1 [00:00<00:00, 12.37it/s]"
     ]
    },
    {
     "name": "stderr",
     "output_type": "stream",
     "text": [
      "GPU available: False, used: False\n",
      "TPU available: False, using: 0 TPU cores\n",
      "HPU available: False, using: 0 HPUs\n",
      "\n",
      "  | Name          | Type       | Params | Mode \n",
      "-----------------------------------------------------\n",
      "0 | activation_fn | Tanh       | 0      | train\n",
      "1 | policy_net    | Sequential | 15.7 K | train\n",
      "-----------------------------------------------------\n",
      "15.7 K    Trainable params\n",
      "0         Non-trainable params\n",
      "15.7 K    Total params\n",
      "0.063     Total estimated model params size (MB)\n",
      "6         Modules in train mode\n",
      "0         Modules in eval mode\n"
     ]
    },
    {
     "name": "stdout",
     "output_type": "stream",
     "text": [
      "\n",
      "\n",
      "Evaluating model 3/5\n",
      "Parameters: {'learning_rate': 0.0001, 'lookback': 15, 'hidden_layers': [100, 100, 10]}\n",
      "Epoch 2: 100%|██████████| 1/1 [00:00<00:00,  1.44it/s, v_num=0, train_reward=-82.0, train_steps=702.0, train_loss=2.010, train_epsilon=0.832, train_accuracy=0.335, train_precision=0.509, train_recall=0.335, train_f1=0.403]\n",
      "Validation DataLoader 0: 100%|██████████| 1/1 [00:00<00:00, 10.91it/s]\n"
     ]
    },
    {
     "data": {
      "text/html": [
       "<pre style=\"white-space:pre;overflow-x:auto;line-height:normal;font-family:Menlo,'DejaVu Sans Mono',consolas,'Courier New',monospace\">┏━━━━━━━━━━━━━━━━━━━━━━━━━━━┳━━━━━━━━━━━━━━━━━━━━━━━━━━━┓\n",
       "┃<span style=\"font-weight: bold\">      Validate metric      </span>┃<span style=\"font-weight: bold\">       DataLoader 0        </span>┃\n",
       "┡━━━━━━━━━━━━━━━━━━━━━━━━━━━╇━━━━━━━━━━━━━━━━━━━━━━━━━━━┩\n",
       "│<span style=\"color: #008080; text-decoration-color: #008080\">       val_accuracy        </span>│<span style=\"color: #800080; text-decoration-color: #800080\">    0.28658536076545715    </span>│\n",
       "│<span style=\"color: #008080; text-decoration-color: #008080\">          val_f1           </span>│<span style=\"color: #800080; text-decoration-color: #800080\">    0.3559682071208954     </span>│\n",
       "│<span style=\"color: #008080; text-decoration-color: #008080\">       val_precision       </span>│<span style=\"color: #800080; text-decoration-color: #800080\">    0.4699806869029999     </span>│\n",
       "│<span style=\"color: #008080; text-decoration-color: #008080\">        val_recall         </span>│<span style=\"color: #800080; text-decoration-color: #800080\">    0.28658536076545715    </span>│\n",
       "│<span style=\"color: #008080; text-decoration-color: #008080\">        val_reward         </span>│<span style=\"color: #800080; text-decoration-color: #800080\">   -0.42683956027030945    </span>│\n",
       "│<span style=\"color: #008080; text-decoration-color: #008080\">         val_steps         </span>│<span style=\"color: #800080; text-decoration-color: #800080\">           164.0           </span>│\n",
       "└───────────────────────────┴───────────────────────────┘\n",
       "</pre>\n"
      ],
      "text/plain": [
       "┏━━━━━━━━━━━━━━━━━━━━━━━━━━━┳━━━━━━━━━━━━━━━━━━━━━━━━━━━┓\n",
       "┃\u001b[1m \u001b[0m\u001b[1m     Validate metric     \u001b[0m\u001b[1m \u001b[0m┃\u001b[1m \u001b[0m\u001b[1m      DataLoader 0       \u001b[0m\u001b[1m \u001b[0m┃\n",
       "┡━━━━━━━━━━━━━━━━━━━━━━━━━━━╇━━━━━━━━━━━━━━━━━━━━━━━━━━━┩\n",
       "│\u001b[36m \u001b[0m\u001b[36m      val_accuracy       \u001b[0m\u001b[36m \u001b[0m│\u001b[35m \u001b[0m\u001b[35m   0.28658536076545715   \u001b[0m\u001b[35m \u001b[0m│\n",
       "│\u001b[36m \u001b[0m\u001b[36m         val_f1          \u001b[0m\u001b[36m \u001b[0m│\u001b[35m \u001b[0m\u001b[35m   0.3559682071208954    \u001b[0m\u001b[35m \u001b[0m│\n",
       "│\u001b[36m \u001b[0m\u001b[36m      val_precision      \u001b[0m\u001b[36m \u001b[0m│\u001b[35m \u001b[0m\u001b[35m   0.4699806869029999    \u001b[0m\u001b[35m \u001b[0m│\n",
       "│\u001b[36m \u001b[0m\u001b[36m       val_recall        \u001b[0m\u001b[36m \u001b[0m│\u001b[35m \u001b[0m\u001b[35m   0.28658536076545715   \u001b[0m\u001b[35m \u001b[0m│\n",
       "│\u001b[36m \u001b[0m\u001b[36m       val_reward        \u001b[0m\u001b[36m \u001b[0m│\u001b[35m \u001b[0m\u001b[35m  -0.42683956027030945   \u001b[0m\u001b[35m \u001b[0m│\n",
       "│\u001b[36m \u001b[0m\u001b[36m        val_steps        \u001b[0m\u001b[36m \u001b[0m│\u001b[35m \u001b[0m\u001b[35m          164.0          \u001b[0m\u001b[35m \u001b[0m│\n",
       "└───────────────────────────┴───────────────────────────┘\n"
      ]
     },
     "metadata": {},
     "output_type": "display_data"
    },
    {
     "name": "stdout",
     "output_type": "stream",
     "text": [
      "Validation DataLoader 0: 100%|██████████| 1/1 [00:00<00:00, 17.07it/s]\n",
      "\n",
      "Evaluating model 4/5\n",
      "Parameters: {'learning_rate': 0.001, 'lookback': 5, 'hidden_layers': [50, 50]}\n"
     ]
    },
    {
     "name": "stderr",
     "output_type": "stream",
     "text": [
      "GPU available: False, used: False\n",
      "TPU available: False, using: 0 TPU cores\n",
      "HPU available: False, using: 0 HPUs\n",
      "\n",
      "  | Name          | Type       | Params | Mode \n",
      "-----------------------------------------------------\n",
      "0 | activation_fn | Tanh       | 0      | train\n",
      "1 | policy_net    | Sequential | 3.5 K  | train\n",
      "-----------------------------------------------------\n",
      "3.5 K     Trainable params\n",
      "0         Non-trainable params\n",
      "3.5 K     Total params\n",
      "0.014     Total estimated model params size (MB)\n",
      "5         Modules in train mode\n",
      "0         Modules in eval mode\n"
     ]
    },
    {
     "name": "stdout",
     "output_type": "stream",
     "text": [
      "Epoch 2: 100%|██████████| 1/1 [00:00<00:00,  1.59it/s, v_num=0, train_reward=-88.9, train_steps=712.0, train_loss=-29.4, train_epsilon=0.832, train_accuracy=0.326, train_precision=0.521, train_recall=0.326, train_f1=0.399]\n",
      "Validation DataLoader 0: 100%|██████████| 1/1 [00:00<00:00, 11.01it/s]\n"
     ]
    },
    {
     "data": {
      "text/html": [
       "<pre style=\"white-space:pre;overflow-x:auto;line-height:normal;font-family:Menlo,'DejaVu Sans Mono',consolas,'Courier New',monospace\">┏━━━━━━━━━━━━━━━━━━━━━━━━━━━┳━━━━━━━━━━━━━━━━━━━━━━━━━━━┓\n",
       "┃<span style=\"font-weight: bold\">      Validate metric      </span>┃<span style=\"font-weight: bold\">       DataLoader 0        </span>┃\n",
       "┡━━━━━━━━━━━━━━━━━━━━━━━━━━━╇━━━━━━━━━━━━━━━━━━━━━━━━━━━┩\n",
       "│<span style=\"color: #008080; text-decoration-color: #008080\">       val_accuracy        </span>│<span style=\"color: #800080; text-decoration-color: #800080\">     0.270114928483963     </span>│\n",
       "│<span style=\"color: #008080; text-decoration-color: #008080\">          val_f1           </span>│<span style=\"color: #800080; text-decoration-color: #800080\">    0.34859544038772583    </span>│\n",
       "│<span style=\"color: #008080; text-decoration-color: #008080\">       val_precision       </span>│<span style=\"color: #800080; text-decoration-color: #800080\">    0.4922221899032593     </span>│\n",
       "│<span style=\"color: #008080; text-decoration-color: #008080\">        val_recall         </span>│<span style=\"color: #800080; text-decoration-color: #800080\">     0.270114928483963     </span>│\n",
       "│<span style=\"color: #008080; text-decoration-color: #008080\">        val_reward         </span>│<span style=\"color: #800080; text-decoration-color: #800080\">   -0.45890459418296814    </span>│\n",
       "│<span style=\"color: #008080; text-decoration-color: #008080\">         val_steps         </span>│<span style=\"color: #800080; text-decoration-color: #800080\">           174.0           </span>│\n",
       "└───────────────────────────┴───────────────────────────┘\n",
       "</pre>\n"
      ],
      "text/plain": [
       "┏━━━━━━━━━━━━━━━━━━━━━━━━━━━┳━━━━━━━━━━━━━━━━━━━━━━━━━━━┓\n",
       "┃\u001b[1m \u001b[0m\u001b[1m     Validate metric     \u001b[0m\u001b[1m \u001b[0m┃\u001b[1m \u001b[0m\u001b[1m      DataLoader 0       \u001b[0m\u001b[1m \u001b[0m┃\n",
       "┡━━━━━━━━━━━━━━━━━━━━━━━━━━━╇━━━━━━━━━━━━━━━━━━━━━━━━━━━┩\n",
       "│\u001b[36m \u001b[0m\u001b[36m      val_accuracy       \u001b[0m\u001b[36m \u001b[0m│\u001b[35m \u001b[0m\u001b[35m    0.270114928483963    \u001b[0m\u001b[35m \u001b[0m│\n",
       "│\u001b[36m \u001b[0m\u001b[36m         val_f1          \u001b[0m\u001b[36m \u001b[0m│\u001b[35m \u001b[0m\u001b[35m   0.34859544038772583   \u001b[0m\u001b[35m \u001b[0m│\n",
       "│\u001b[36m \u001b[0m\u001b[36m      val_precision      \u001b[0m\u001b[36m \u001b[0m│\u001b[35m \u001b[0m\u001b[35m   0.4922221899032593    \u001b[0m\u001b[35m \u001b[0m│\n",
       "│\u001b[36m \u001b[0m\u001b[36m       val_recall        \u001b[0m\u001b[36m \u001b[0m│\u001b[35m \u001b[0m\u001b[35m    0.270114928483963    \u001b[0m\u001b[35m \u001b[0m│\n",
       "│\u001b[36m \u001b[0m\u001b[36m       val_reward        \u001b[0m\u001b[36m \u001b[0m│\u001b[35m \u001b[0m\u001b[35m  -0.45890459418296814   \u001b[0m\u001b[35m \u001b[0m│\n",
       "│\u001b[36m \u001b[0m\u001b[36m        val_steps        \u001b[0m\u001b[36m \u001b[0m│\u001b[35m \u001b[0m\u001b[35m          174.0          \u001b[0m\u001b[35m \u001b[0m│\n",
       "└───────────────────────────┴───────────────────────────┘\n"
      ]
     },
     "metadata": {},
     "output_type": "display_data"
    },
    {
     "name": "stdout",
     "output_type": "stream",
     "text": [
      "Validation DataLoader 0: 100%|██████████| 1/1 [00:00<00:00, 11.99it/s]"
     ]
    },
    {
     "name": "stderr",
     "output_type": "stream",
     "text": [
      "GPU available: False, used: False\n",
      "TPU available: False, using: 0 TPU cores\n",
      "HPU available: False, using: 0 HPUs\n",
      "\n",
      "  | Name          | Type       | Params | Mode \n",
      "-----------------------------------------------------\n",
      "0 | activation_fn | Tanh       | 0      | train\n",
      "1 | policy_net    | Sequential | 3.5 K  | train\n",
      "-----------------------------------------------------\n",
      "3.5 K     Trainable params\n",
      "0         Non-trainable params\n",
      "3.5 K     Total params\n",
      "0.014     Total estimated model params size (MB)\n",
      "5         Modules in train mode\n",
      "0         Modules in eval mode\n"
     ]
    },
    {
     "name": "stdout",
     "output_type": "stream",
     "text": [
      "\n",
      "\n",
      "Evaluating model 5/5\n",
      "Parameters: {'learning_rate': 0.001, 'lookback': 5, 'hidden_layers': [50, 50]}\n",
      "Epoch 3: 100%|██████████| 1/1 [00:00<00:00,  1.71it/s, v_num=0, train_reward=-81.2, train_steps=712.0, train_loss=-7.66, train_epsilon=0.759, train_accuracy=0.326, train_precision=0.493, train_recall=0.326, train_f1=0.392]\n",
      "Validation DataLoader 0: 100%|██████████| 1/1 [00:00<00:00, 11.10it/s]\n"
     ]
    },
    {
     "data": {
      "text/html": [
       "<pre style=\"white-space:pre;overflow-x:auto;line-height:normal;font-family:Menlo,'DejaVu Sans Mono',consolas,'Courier New',monospace\">┏━━━━━━━━━━━━━━━━━━━━━━━━━━━┳━━━━━━━━━━━━━━━━━━━━━━━━━━━┓\n",
       "┃<span style=\"font-weight: bold\">      Validate metric      </span>┃<span style=\"font-weight: bold\">       DataLoader 0        </span>┃\n",
       "┡━━━━━━━━━━━━━━━━━━━━━━━━━━━╇━━━━━━━━━━━━━━━━━━━━━━━━━━━┩\n",
       "│<span style=\"color: #008080; text-decoration-color: #008080\">       val_accuracy        </span>│<span style=\"color: #800080; text-decoration-color: #800080\">    0.3218390941619873     </span>│\n",
       "│<span style=\"color: #008080; text-decoration-color: #008080\">          val_f1           </span>│<span style=\"color: #800080; text-decoration-color: #800080\">     0.396703839302063     </span>│\n",
       "│<span style=\"color: #008080; text-decoration-color: #008080\">       val_precision       </span>│<span style=\"color: #800080; text-decoration-color: #800080\">    0.5191766619682312     </span>│\n",
       "│<span style=\"color: #008080; text-decoration-color: #008080\">        val_recall         </span>│<span style=\"color: #800080; text-decoration-color: #800080\">    0.3218390941619873     </span>│\n",
       "│<span style=\"color: #008080; text-decoration-color: #008080\">        val_reward         </span>│<span style=\"color: #800080; text-decoration-color: #800080\">    -0.3552539348602295    </span>│\n",
       "│<span style=\"color: #008080; text-decoration-color: #008080\">         val_steps         </span>│<span style=\"color: #800080; text-decoration-color: #800080\">           174.0           </span>│\n",
       "└───────────────────────────┴───────────────────────────┘\n",
       "</pre>\n"
      ],
      "text/plain": [
       "┏━━━━━━━━━━━━━━━━━━━━━━━━━━━┳━━━━━━━━━━━━━━━━━━━━━━━━━━━┓\n",
       "┃\u001b[1m \u001b[0m\u001b[1m     Validate metric     \u001b[0m\u001b[1m \u001b[0m┃\u001b[1m \u001b[0m\u001b[1m      DataLoader 0       \u001b[0m\u001b[1m \u001b[0m┃\n",
       "┡━━━━━━━━━━━━━━━━━━━━━━━━━━━╇━━━━━━━━━━━━━━━━━━━━━━━━━━━┩\n",
       "│\u001b[36m \u001b[0m\u001b[36m      val_accuracy       \u001b[0m\u001b[36m \u001b[0m│\u001b[35m \u001b[0m\u001b[35m   0.3218390941619873    \u001b[0m\u001b[35m \u001b[0m│\n",
       "│\u001b[36m \u001b[0m\u001b[36m         val_f1          \u001b[0m\u001b[36m \u001b[0m│\u001b[35m \u001b[0m\u001b[35m    0.396703839302063    \u001b[0m\u001b[35m \u001b[0m│\n",
       "│\u001b[36m \u001b[0m\u001b[36m      val_precision      \u001b[0m\u001b[36m \u001b[0m│\u001b[35m \u001b[0m\u001b[35m   0.5191766619682312    \u001b[0m\u001b[35m \u001b[0m│\n",
       "│\u001b[36m \u001b[0m\u001b[36m       val_recall        \u001b[0m\u001b[36m \u001b[0m│\u001b[35m \u001b[0m\u001b[35m   0.3218390941619873    \u001b[0m\u001b[35m \u001b[0m│\n",
       "│\u001b[36m \u001b[0m\u001b[36m       val_reward        \u001b[0m\u001b[36m \u001b[0m│\u001b[35m \u001b[0m\u001b[35m   -0.3552539348602295   \u001b[0m\u001b[35m \u001b[0m│\n",
       "│\u001b[36m \u001b[0m\u001b[36m        val_steps        \u001b[0m\u001b[36m \u001b[0m│\u001b[35m \u001b[0m\u001b[35m          174.0          \u001b[0m\u001b[35m \u001b[0m│\n",
       "└───────────────────────────┴───────────────────────────┘\n"
      ]
     },
     "metadata": {},
     "output_type": "display_data"
    },
    {
     "name": "stdout",
     "output_type": "stream",
     "text": [
      "Validation DataLoader 0: 100%|██████████| 1/1 [00:00<00:00, 14.04it/s]\n",
      "\n",
      "Tuning results saved to: c:\\Users\\Collins P. Ohagwu\\Desktop\\pypi_projects\\timeseries_agent\\examples\\logs\\genetic_tuning\\genetic_tuning_results_v0.csv\n"
     ]
    }
   ],
   "source": [
    "# Create genetic tuner instance\n",
    "tuner = GeneticTuner(\n",
    "    base_log_dir=\"logs/genetic_tuning\",\n",
    "    **genetic_params\n",
    ")\n",
    "\n",
    "# Train models using genetic algorithm optimization\n",
    "results = tuner.train(\n",
    "    params_grid=params_grid,\n",
    "    base_params=base_params,\n",
    ")"
   ]
  },
  {
   "cell_type": "markdown",
   "metadata": {},
   "source": [
    "## 4. Analyze Results"
   ]
  },
  {
   "cell_type": "code",
   "execution_count": 5,
   "metadata": {},
   "outputs": [
    {
     "data": {
      "text/html": [
       "<div>\n",
       "<style scoped>\n",
       "    .dataframe tbody tr th:only-of-type {\n",
       "        vertical-align: middle;\n",
       "    }\n",
       "\n",
       "    .dataframe tbody tr th {\n",
       "        vertical-align: top;\n",
       "    }\n",
       "\n",
       "    .dataframe thead th {\n",
       "        text-align: right;\n",
       "    }\n",
       "</style>\n",
       "<table border=\"1\" class=\"dataframe\">\n",
       "  <thead>\n",
       "    <tr style=\"text-align: right;\">\n",
       "      <th></th>\n",
       "      <th>learning_rate</th>\n",
       "      <th>lookback</th>\n",
       "      <th>hidden_layers</th>\n",
       "      <th>val_reward</th>\n",
       "      <th>val_accuracy</th>\n",
       "      <th>model_dir</th>\n",
       "      <th>fitness</th>\n",
       "      <th>generation</th>\n",
       "      <th>diversity_score</th>\n",
       "    </tr>\n",
       "  </thead>\n",
       "  <tbody>\n",
       "    <tr>\n",
       "      <th>7</th>\n",
       "      <td>0.0010</td>\n",
       "      <td>5</td>\n",
       "      <td>[50, 50]</td>\n",
       "      <td>-0.252478</td>\n",
       "      <td>0.373563</td>\n",
       "      <td>logs\\genetic/gen_1_model_2\\version_0</td>\n",
       "      <td>-0.094317</td>\n",
       "      <td>1</td>\n",
       "      <td>0.750000</td>\n",
       "    </tr>\n",
       "    <tr>\n",
       "      <th>0</th>\n",
       "      <td>0.0010</td>\n",
       "      <td>5</td>\n",
       "      <td>[50, 50]</td>\n",
       "      <td>-0.253850</td>\n",
       "      <td>0.373563</td>\n",
       "      <td>logs\\genetic/gen_0_model_0\\version_0</td>\n",
       "      <td>-0.094829</td>\n",
       "      <td>0</td>\n",
       "      <td>0.750000</td>\n",
       "    </tr>\n",
       "    <tr>\n",
       "      <th>1</th>\n",
       "      <td>0.0001</td>\n",
       "      <td>15</td>\n",
       "      <td>[100, 100, 10]</td>\n",
       "      <td>-0.255280</td>\n",
       "      <td>0.371951</td>\n",
       "      <td>logs\\genetic/gen_0_model_1\\version_0</td>\n",
       "      <td>-0.094952</td>\n",
       "      <td>0</td>\n",
       "      <td>0.666667</td>\n",
       "    </tr>\n",
       "    <tr>\n",
       "      <th>3</th>\n",
       "      <td>0.0010</td>\n",
       "      <td>5</td>\n",
       "      <td>[100, 100, 10]</td>\n",
       "      <td>-0.286661</td>\n",
       "      <td>0.356322</td>\n",
       "      <td>logs\\genetic/gen_0_model_3\\version_0</td>\n",
       "      <td>-0.102144</td>\n",
       "      <td>0</td>\n",
       "      <td>0.583333</td>\n",
       "    </tr>\n",
       "    <tr>\n",
       "      <th>10</th>\n",
       "      <td>0.0010</td>\n",
       "      <td>5</td>\n",
       "      <td>[50, 50]</td>\n",
       "      <td>-0.344547</td>\n",
       "      <td>0.327586</td>\n",
       "      <td>logs\\genetic/gen_2_model_0\\version_0</td>\n",
       "      <td>-0.112869</td>\n",
       "      <td>2</td>\n",
       "      <td>0.250000</td>\n",
       "    </tr>\n",
       "  </tbody>\n",
       "</table>\n",
       "</div>"
      ],
      "text/plain": [
       "    learning_rate  lookback   hidden_layers  val_reward  val_accuracy  \\\n",
       "7          0.0010         5        [50, 50]   -0.252478      0.373563   \n",
       "0          0.0010         5        [50, 50]   -0.253850      0.373563   \n",
       "1          0.0001        15  [100, 100, 10]   -0.255280      0.371951   \n",
       "3          0.0010         5  [100, 100, 10]   -0.286661      0.356322   \n",
       "10         0.0010         5        [50, 50]   -0.344547      0.327586   \n",
       "\n",
       "                               model_dir   fitness  generation  \\\n",
       "7   logs\\genetic/gen_1_model_2\\version_0 -0.094317           1   \n",
       "0   logs\\genetic/gen_0_model_0\\version_0 -0.094829           0   \n",
       "1   logs\\genetic/gen_0_model_1\\version_0 -0.094952           0   \n",
       "3   logs\\genetic/gen_0_model_3\\version_0 -0.102144           0   \n",
       "10  logs\\genetic/gen_2_model_0\\version_0 -0.112869           2   \n",
       "\n",
       "    diversity_score  \n",
       "7          0.750000  \n",
       "0          0.750000  \n",
       "1          0.666667  \n",
       "3          0.583333  \n",
       "10         0.250000  "
      ]
     },
     "metadata": {},
     "output_type": "display_data"
    },
    {
     "name": "stdout",
     "output_type": "stream",
     "text": [
      "Best Model Configuration:\n",
      "learning_rate: 0.001\n",
      "lookback: 5\n",
      "hidden_layers: [50, 50]\n",
      "val_reward: -0.2524784803390503\n",
      "val_accuracy: 0.3735632300376892\n",
      "model_dir: logs\\genetic/gen_1_model_2\\version_0\n",
      "fitness: -0.09431667663046284\n",
      "generation: 1\n",
      "diversity_score: 0.75\n"
     ]
    }
   ],
   "source": [
    "display(results.head())\n",
    "\n",
    "best_model = results.iloc[0]\n",
    "print(\"Best Model Configuration:\")\n",
    "for param, value in best_model.items():\n",
    "    print(f\"{param}: {value}\")"
   ]
  },
  {
   "cell_type": "markdown",
   "metadata": {},
   "source": [
    "### 4.a. Visualize Evolution"
   ]
  },
  {
   "cell_type": "code",
   "execution_count": 6,
   "metadata": {},
   "outputs": [
    {
     "data": {
      "image/png": "[encoded data removed]",
      "text/plain": [
       "<Figure size 1000x600 with 1 Axes>"
      ]
     },
     "metadata": {},
     "output_type": "display_data"
    },
    {
     "data": {
      "image/png": "[encoded data removed]",
      "text/plain": [
       "<Figure size 1000x600 with 1 Axes>"
      ]
     },
     "metadata": {},
     "output_type": "display_data"
    }
   ],
   "source": [
    "plot_evolution_of_fitness_scores_across_generations(results)\n",
    "plot_average_diversity_scores_across_generations(results)"
   ]
  },
  {
   "cell_type": "markdown",
   "metadata": {},
   "source": [
    "## 5. Evaluate Best Model"
   ]
  },
  {
   "cell_type": "code",
   "execution_count": 7,
   "metadata": {},
   "outputs": [
    {
     "name": "stdout",
     "output_type": "stream",
     "text": [
      "\n",
      " true dist == Counter({0: 48, 1: 44}), pred dist == Counter({0: 39, 2: 27, 1: 26})\n"
     ]
    }
   ],
   "source": [
    "best_model_params = tuner.best_model_params\n",
    "best_model_checkpoint = tuner.best_model_checkpoint\n",
    "\n",
    "env_kwargs = base_params['env_kwargs']\n",
    "env_kwargs['lookback'] = best_model_params['lookback']\n",
    "\n",
    "loaded_agent = load_agent(\n",
    "    checkpoint_path=best_model_checkpoint,\n",
    "    csv_path=test_csv_path,\n",
    "    feature_cols=base_params['feature_cols'],\n",
    "    target_col=base_params['target_col'],\n",
    "    agent_type='reinforce_step',\n",
    "    **env_kwargs\n",
    ")\n",
    "\n",
    "def get_true_action(current_val, next_val):\n",
    "    true_action = 0 if next_val > current_val else 1 if next_val < current_val else 2\n",
    "    return true_action\n",
    "\n",
    "def get_batch_predictions(df, lookback_size):\n",
    "    predictions = []\n",
    "    true_actions = []\n",
    "    for i in range(lookback_size, len(df)):\n",
    "        if i >= len(df) - 1:\n",
    "            continue\n",
    "        current_features = df[base_params['feature_cols']].iloc[i-lookback_size:i].values.astype(np.float32)\n",
    "        current_target = df[base_params['target_col']].iloc[i]\n",
    "        pred_action, probs = loaded_agent.act(current_features, return_probs=True)\n",
    "        predictions.append(pred_action)\n",
    "        next_target = df[base_params['target_col']].iloc[i+1]\n",
    "        true_action = get_true_action(current_target, next_target)\n",
    "        true_actions.append(true_action)\n",
    "    return true_actions, predictions\n",
    "\n",
    "df_test = pd.read_csv(test_csv_path)\n",
    "y_true, y_pred = get_batch_predictions(df_test, best_model_params['lookback'])\n",
    "print(f'\\n true dist == {Counter(y_true)}, pred dist == {Counter(y_pred)}')"
   ]
  }
 ],
 "metadata": {
  "kernelspec": {
   "display_name": "tests",
   "language": "python",
   "name": "python3"
  },
  "language_info": {
   "codemirror_mode": {
    "name": "ipython",
    "version": 3
   },
   "file_extension": ".py",
   "mimetype": "text/x-python",
   "name": "python",
   "nbconvert_exporter": "python",
   "pygments_lexer": "ipython3",
   "version": "3.12.9"
  }
 },
 "nbformat": 4,
 "nbformat_minor": 4
}
