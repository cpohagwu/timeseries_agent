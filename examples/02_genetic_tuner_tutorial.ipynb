{
 "cells": [
  {
   "cell_type": "markdown",
   "metadata": {},
   "source": [
    "# Genetic Tuner Tutorial\n",
    "\n",
    "This notebook demonstrates how to use the `GeneticTuner` to find optimal hyperparameters for a TimeSeries Agent."
   ]
  },
  {
   "cell_type": "code",
   "execution_count": null,
   "metadata": {},
   "outputs": [],
   "source": [
    "import os\n",
    "import pandas as pd\n",
    "import numpy as np\n",
    "from collections import Counter\n",
    "from timeseries_agent.tuners.genetic import GeneticTuner\n",
    "from timeseries_agent.api import load_agent\n",
    "from timeseries_agent.utils.extras import plot_evolution_of_fitness_scores_across_generations, plot_average_diversity_scores_across_generations\n",
    "import warnings\n",
    "warnings.filterwarnings(\"ignore\")"
   ]
  },
  {
   "cell_type": "markdown",
   "metadata": {},
   "source": [
    "## 1. Get Synthetic Data"
   ]
  },
  {
   "cell_type": "code",
   "execution_count": null,
   "metadata": {},
   "outputs": [],
   "source": [
    "# Load data\n",
    "df = pd.read_csv(\"https://raw.githubusercontent.com/datasets/global-temp/main/data/monthly.csv\")\n",
    "df = df[df['Source'] == 'gcag']\n",
    "df = df[['Year', 'Mean']]\n",
    "df['temperature'] = df['Mean']\n",
    "df.drop(columns=['Mean'], inplace=True)\n",
    "\n",
    "# Train test split\n",
    "target_column = 'temperature'\n",
    "df = df.head(1000)\n",
    "last_n_test_rows = 100\n",
    "train_data = df.iloc[:-last_n_test_rows]\n",
    "test_data = df.tail(last_n_test_rows)\n",
    "\n",
    "# Add lags\n",
    "train_data['Lag1'] = train_data[target_column].shift(1)\n",
    "train_data['Lag2'] = train_data[target_column].shift(2)\n",
    "test_data['Lag1'] = test_data[target_column].shift(1)\n",
    "test_data['Lag2'] = test_data[target_column].shift(2)\n",
    "\n",
    "train_data = train_data.dropna(subset=['Lag1', 'Lag2'])\n",
    "test_data = test_data.dropna(subset=['Lag1', 'Lag2'])\n",
    "\n",
    "# Save data to dir\n",
    "DATA_DIR = 'data'\n",
    "os.makedirs(DATA_DIR, exist_ok=True)\n",
    "train_csv_path = os.path.join(DATA_DIR, 'global_temp_train.csv')\n",
    "test_csv_path = os.path.join(DATA_DIR, 'global_temp_test.csv')\n",
    "train_data.to_csv(train_csv_path, index=False)\n",
    "test_data.to_csv(test_csv_path, index=False)"
   ]
  },
  {
   "cell_type": "markdown",
   "metadata": {},
   "source": [
    "## 2. Define Parameter Search Space"
   ]
  },
  {
   "cell_type": "code",
   "execution_count": null,
   "metadata": {},
   "outputs": [],
   "source": [
    "# Parameter grid to explore\n",
    "params_grid = {\n",
    "    'learning_rate': [0.001, 0.0005, 0.0001],\n",
    "    'lookback': [5, 10, 15],\n",
    "    'hidden_layers': [\n",
    "        [50, 50],\n",
    "        [100, 100, 10],\n",
    "        [200, 100, 50],\n",
    "    ],\n",
    "}\n",
    "\n",
    "# Base parameters that will be the same for all models\n",
    "base_params = {\n",
    "    'csv_path': train_csv_path,\n",
    "    'feature_cols': ['Lag1', 'Lag2', 'temperature'],\n",
    "    'target_col': 'temperature',\n",
    "    'env_kwargs': {\n",
    "        'normalize_state': True,\n",
    "        'test_size': 0.2\n",
    "    },\n",
    "    'agent_kwargs': {\n",
    "        'agent_type': 'reinforce',\n",
    "        'output_size': 3,\n",
    "    },\n",
    "    'trainer_kwargs': {\n",
    "        'max_epochs': 10,\n",
    "        'enable_checkpointing': True,\n",
    "    }\n",
    "}\n",
    "\n",
    "# Genetic Algorithm Configuration\n",
    "genetic_params = {\n",
    "    'population_size': 5,               # Size of each generation's population\n",
    "    'num_generations': 3,               # Number of generations to evolve\n",
    "    'mutation_rate': 0.1,               # Probability of parameter mutation\n",
    "    'elitism_count': 1,                 # Number of best individuals to preserve\n",
    "    'initial_temperature': 100.0,       # Initial temperature for simulated annealing\n",
    "    'cooling_rate': 0.95,               # Rate at which temperature decreases\n",
    "}"
   ]
  },
  {
   "cell_type": "markdown",
   "metadata": {},
   "source": [
    "## 3. Run Genetic Tuner"
   ]
  },
  {
   "cell_type": "code",
   "execution_count": null,
   "metadata": {},
   "outputs": [],
   "source": [
    "# Create genetic tuner instance\n",
    "tuner = GeneticTuner(\n",
    "    base_log_dir=\"logs/genetic_tuning\",\n",
    "    **genetic_params\n",
    ")\n",
    "\n",
    "# Train models using genetic algorithm optimization\n",
    "results = tuner.train(\n",
    "    params_grid=params_grid,\n",
    "    base_params=base_params,\n",
    ")"
   ]
  },
  {
   "cell_type": "markdown",
   "metadata": {},
   "source": [
    "## 4. Analyze Results"
   ]
  },
  {
   "cell_type": "code",
   "execution_count": null,
   "metadata": {},
   "outputs": [],
   "source": [
    "display(results.head())\n",
    "\n",
    "best_model = results.iloc[0]\n",
    "print(\"Best Model Configuration:\")\n",
    "for param, value in best_model.items():\n",
    "    print(f\"{param}: {value}\")"
   ]
  },
  {
   "cell_type": "markdown",
   "metadata": {},
   "source": [
    "### 4.a. Visualize Evolution"
   ]
  },
  {
   "cell_type": "code",
   "execution_count": null,
   "metadata": {},
   "outputs": [],
   "source": [
    "plot_evolution_of_fitness_scores_across_generations(results)\n",
    "plot_average_diversity_scores_across_generations(results)"
   ]
  },
  {
   "cell_type": "markdown",
   "metadata": {},
   "source": [
    "## 5. Evaluate Best Model"
   ]
  },
  {
   "cell_type": "code",
   "execution_count": null,
   "metadata": {},
   "outputs": [],
   "source": [
    "best_model_params = tuner.best_model_params\n",
    "best_model_checkpoint = tuner.best_model_checkpoint\n",
    "\n",
    "env_kwargs = base_params['env_kwargs']\n",
    "env_kwargs['lookback'] = best_model_params['lookback']\n",
    "\n",
    "loaded_agent = load_agent(\n",
    "    checkpoint_path=best_model_checkpoint,\n",
    "    csv_path=test_csv_path,\n",
    "    feature_cols=base_params['feature_cols'],\n",
    "    target_col=base_params['target_col'],\n",
    "    agent_type='reinforce_step',\n",
    "    **env_kwargs\n",
    ")\n",
    "\n",
    "def get_true_action(current_val, next_val):\n",
    "    true_action = 0 if next_val > current_val else 1 if next_val < current_val else 2\n",
    "    return true_action\n",
    "\n",
    "def get_batch_predictions(df, lookback_size):\n",
    "    predictions = []\n",
    "    true_actions = []\n",
    "    for i in range(lookback_size, len(df)):\n",
    "        if i >= len(df) - 1:\n",
    "            continue\n",
    "        current_features = df[base_params['feature_cols']].iloc[i-lookback_size:i].values.astype(np.float32)\n",
    "        current_target = df[base_params['target_col']].iloc[i]\n",
    "        pred_action, probs = loaded_agent.act(current_features, return_probs=True)\n",
    "        predictions.append(pred_action)\n",
    "        next_target = df[base_params['target_col']].iloc[i+1]\n",
    "        true_action = get_true_action(current_target, next_target)\n",
    "        true_actions.append(true_action)\n",
    "    return true_actions, predictions\n",
    "\n",
    "df_test = pd.read_csv(test_csv_path)\n",
    "y_true, y_pred = get_batch_predictions(df_test, best_model_params['lookback'])\n",
    "print(f'\\n true dist == {Counter(y_true)}, pred dist == {Counter(y_pred)}')"
   ]
  }
 ],
 "metadata": {
  "kernelspec": {
   "display_name": "tests",
   "language": "python",
   "name": "python3"
  },
  "language_info": {
   "codemirror_mode": {
    "name": "ipython",
    "version": 3
   },
   "file_extension": ".py",
   "mimetype": "text/x-python",
   "name": "python",
   "nbconvert_exporter": "python",
   "pygments_lexer": "ipython3",
   "version": "3.12.9"
  }
 },
 "nbformat": 4,
 "nbformat_minor": 4
}
